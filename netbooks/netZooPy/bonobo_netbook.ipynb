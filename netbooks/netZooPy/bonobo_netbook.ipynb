{
 "cells": [
  {
   "cell_type": "markdown",
   "metadata": {},
   "source": [
    "# Estimating single-sample co-expression networks for yeast genetic screens using BONOBO\n",
    "Enakshi Saha <sup>1</sup> and Viola Fanfani  <sup>1</sup>\n",
    "\n",
    "<sup>1</sup> Harvard T.H. Chan School of Public Health, Boston, MA, USA."
   ]
  },
  {
   "cell_type": "markdown",
   "metadata": {},
   "source": [
    "# Introduction\n",
    "BONOBO (Bayesian Optimized Networks Obtained By assimilating Omics data) [1] is an empirical Bayesian model that derives\n",
    "individual sample-specific co-expression networks, facilitating the discovery of differentially co-regulated gene pairs\n",
    "between different conditions and/or phenotypes. BONOBO derives positive semidefinite co-expression networks from input\n",
    "data alone, without using any external reference datasets.\n",
    "\n",
    "Below is the general illustration on how BONOBO works:"
   ]
  },
  {
   "cell_type": "markdown",
   "metadata": {},
   "source": [
    "![Graphical-Abstract](https://netzoo.s3.us-east-2.amazonaws.com/netbooks/bonobo/bonobo-graphical.png)\n"
   ]
  },
  {
   "cell_type": "markdown",
   "metadata": {},
   "source": [
    "BONOBO requires a gene expression matrix as input, from which we would like to extract sample-specific correlation\n",
    "networks. Then, for each of the samples, BONOBO infers the network by using both the Pearson's correlation matrix\n",
    "computed on $N-1$ samples and the sample-specific squared-deviation about the mean. BONOBO outputs $N$ co-expression\n",
    "networks, one for each sample, and the associated p-values for each of the gene-gene estimated edges.\n",
    "\n",
    "\n",
    "In the rest of this notebook we will show an example on how to compute BONOBO networks using the\n",
    "[netZooPy](https://github.com/netZoo/netZooPy) package [3].\n",
    "\n",
    "We recommend to install the netZooPy package through conda (`conda install -c conda-forge -c anaconda -c netzoo\n",
    "netzoopy`) and to double check that the `pytables` installation is working properly. \n",
    " "
   ]
  },
  {
   "cell_type": "markdown",
   "metadata": {},
   "source": [
    "# Importing packages"
   ]
  },
  {
   "cell_type": "code",
   "execution_count": null,
   "metadata": {},
   "outputs": [],
   "source": [
    "import pandas as pd\n",
    "import numpy as np\n",
    "import matplotlib.pyplot as plt\n",
    "import seaborn as sns\n",
    "import scipy.stats as stats\n",
    "import glob as glob\n",
    "import os\n",
    "from netZooPy.bonobo.bonobo import Bonobo # To import Bonobo"
   ]
  },
  {
   "cell_type": "markdown",
   "metadata": {},
   "source": [
    "Next, we define data path on Netbooks' server."
   ]
  },
  {
   "cell_type": "code",
   "execution_count": null,
   "metadata": {},
   "outputs": [],
   "source": [
    "ppath = '/opt/data/netZooPy/bonobo/'"
   ]
  },
  {
   "cell_type": "markdown",
   "metadata": {},
   "source": [
    "# 1. Compute BONOBO networks\n",
    "\n",
    "To compute BONOBO networks we need a tab separated expression file, with samples on the columns and genes on the rows.\n",
    "\n",
    "In this case we have generated the file from Jackson and colleagues' [2]\n",
    "raw data ([GEO:SE125162](https://www.ncbi.nlm.nih.gov/geo/query/acc.cgi?acc=GSE125162))  following these steps:\n",
    "\n",
    "Creating pseudobulk from raw counts: \n",
    "- group by Genotype and condition and averaging counts by gene. (132 genotype x condition, 6529 non-zero genes)\n",
    "- Remove genes there are always zero (GSE125162_all_pseudobulk_counts.txt)\n",
    "- df_nonzero_log = np.log(1+df_nonzero) (GSE125162_all_pseudobulk_logcounts.txt)\n",
    "\n",
    "The data is composed of 132 samples and 6520 genes. There are no samples that have all genes non-expressed."
   ]
  },
  {
   "cell_type": "markdown",
   "metadata": {},
   "source": [
    "## 1.1. Check the data and generate output folder\n",
    "\n",
    "First we need to specify which data we need and where the results are going to be saved. "
   ]
  },
  {
   "cell_type": "code",
   "execution_count": null,
   "metadata": {},
   "outputs": [],
   "source": [
    "yeast_fn = ppath+'pseudobulk_nonzero_logcounts.tsv'"
   ]
  },
  {
   "cell_type": "markdown",
   "metadata": {},
   "source": [
    "The, we specify the output folder."
   ]
  },
  {
   "cell_type": "code",
   "execution_count": null,
   "metadata": {},
   "outputs": [],
   "source": [
    "output_folder = '../results/bonobo_netbook/'"
   ]
  },
  {
   "cell_type": "markdown",
   "metadata": {},
   "source": [
    "If the folder doesn't exist, we create it."
   ]
  },
  {
   "cell_type": "code",
   "execution_count": null,
   "metadata": {},
   "outputs": [],
   "source": [
    "if os.path.exists(output_folder) == False:\n",
    "    os.makedirs(output_folder)\n",
    "    print('Created output folder:%s' %output_folder)\n",
    "else:\n",
    "    print('Output folder exists:%s' %output_folder)"
   ]
  },
  {
   "cell_type": "code",
   "execution_count": null,
   "metadata": {},
   "outputs": [],
   "source": [
    "all_samples = pd.read_csv(yeast_fn, nrows = 3, sep = '\\t', index_col=0).columns.tolist()"
   ]
  },
  {
   "cell_type": "markdown",
   "metadata": {},
   "source": [
    "With the following command you can check which samples have already been computed and which samples are left to be computed, which is not our case here."
   ]
  },
  {
   "cell_type": "code",
   "execution_count": null,
   "metadata": {},
   "outputs": [],
   "source": [
    "left_uncomputed=0"
   ]
  },
  {
   "cell_type": "code",
   "execution_count": null,
   "metadata": {},
   "outputs": [],
   "source": [
    "if left_uncomputed==1:\n",
    "    done_bonobo = [i.split('/')[-1][7:-3] for i in  glob.glob(output_folder + 'bonobo/bonobo*.h5')]\n",
    "    left = list(set(all_samples) - set(done_bonobo))"
   ]
  },
  {
   "cell_type": "code",
   "execution_count": null,
   "metadata": {},
   "outputs": [],
   "source": [
    "print(all_samples)"
   ]
  },
  {
   "cell_type": "markdown",
   "metadata": {},
   "source": [
    "You can see that the samples are named with the <genotype>\\_<medium> convention. \n",
    "\n",
    "For simplicity, we select a limited amount of samples, such that we don't have to wait too much time to compute all\n",
    "networks."
   ]
  },
  {
   "cell_type": "code",
   "execution_count": null,
   "metadata": {},
   "outputs": [],
   "source": [
    "all_samples"
   ]
  },
  {
   "cell_type": "code",
   "execution_count": null,
   "metadata": {},
   "outputs": [],
   "source": [
    "my_samples = [i for i in all_samples  if (not (i.startswith('dal80') or i.startswith('dal81') or i.startswith('dal82') or i.startswith('gat1')) and (i.endswith('YPDRapa') or i.endswith('CStarve') or i.endswith('MinimalGlucose') )) ]"
   ]
  },
  {
   "cell_type": "code",
   "execution_count": null,
   "metadata": {},
   "outputs": [],
   "source": [
    "len(my_samples)"
   ]
  },
  {
   "cell_type": "markdown",
   "metadata": {},
   "source": [
    "We have selected 24 samples, arbitrarily, coming from 3 different conditions: YPD Rapa, CStarve and Minimal Glucose. We will use these samples to compute the Bonobo network."
   ]
  },
  {
   "cell_type": "markdown",
   "metadata": {},
   "source": [
    "## 1.2. Computing BONOBO networks\n",
    "\n",
    "BONOBO can be simply computed by first instantiating the Bonobo class, and then calling the `run_bonobo` method.\n",
    "\n",
    "Below is the example on how these networks have been generated. We first initialize the Bonobo object."
   ]
  },
  {
   "cell_type": "code",
   "execution_count": null,
   "metadata": {},
   "outputs": [],
   "source": [
    "bonobo_obj_sparse = Bonobo(yeast_fn)"
   ]
  },
  {
   "cell_type": "markdown",
   "metadata": {},
   "source": [
    "In this case we are using all samples If you want to run bonobo with a subset of the data, you can specify the sample names and pass them to the `run_bonobo method`: `sample_names=['WT(ho)_AmmoniumSulfate','WT(ho)_CStarve','WT(ho)_Glutamine']`"
   ]
  },
  {
   "cell_type": "markdown",
   "metadata": {},
   "source": [
    "Now, we run the actual bonobo computation, with the following parameters.\n",
    "We cannot keep all the data in memory in this case, these networks are too large: `keep_in_memory=False`\n",
    "We will save the p-values for the edges in the output_folder: `sparsify=True, save_pvals=True`\n",
    "The output format is hd5, which is the most efficient way to store the data on disk: `output_fmt='.h5'`"
   ]
  },
  {
   "cell_type": "code",
   "execution_count": null,
   "metadata": {},
   "outputs": [],
   "source": [
    "bonobo_obj_sparse.run_bonobo(keep_in_memory=False, output_fmt='.h5', sparsify=True, output_folder=output_folder+'bonobo/', save_pvals=True, sample_names=my_samples)"
   ]
  },
  {
   "cell_type": "markdown",
   "metadata": {},
   "source": [
    "It took 2 minutes to generate the networks and you can see which files have been generated "
   ]
  },
  {
   "cell_type": "code",
   "execution_count": null,
   "metadata": {},
   "outputs": [],
   "source": [
    "nets_fn = glob.glob(output_folder+'bonobo/bonobo*.h5')\n",
    "pvals_prefix = (output_folder+'bonobo/pvals_')\n",
    "\n",
    "len(nets_fn), nets_fn[:5]"
   ]
  },
  {
   "cell_type": "markdown",
   "metadata": {},
   "source": [
    "## 1.3. Inspecting BONOBO networks\n",
    "\n",
    "Here is what BONOBO networks look like, and how to use the p-values to threshold them."
   ]
  },
  {
   "cell_type": "code",
   "execution_count": null,
   "metadata": {},
   "outputs": [],
   "source": [
    "test_bonobo = pd.read_hdf(nets_fn[0])\n",
    "test_bonobo.head()"
   ]
  },
  {
   "cell_type": "markdown",
   "metadata": {},
   "source": [
    "Rows have the same name as columns in the bonobo network.\n",
    "We can actually check that they are symmetric (use np close to avoid rounding issues with floating numbers)"
   ]
  },
  {
   "cell_type": "code",
   "execution_count": null,
   "metadata": {},
   "outputs": [],
   "source": [
    "assert(np.isclose(test_bonobo.values, test_bonobo.values.T).all())\n",
    "test_bonobo.index = test_bonobo.columns\n",
    "test_bonobo.iloc[:5,:5]"
   ]
  },
  {
   "cell_type": "markdown",
   "metadata": {},
   "source": [
    "We now check BONOBO's network edge distribution."
   ]
  },
  {
   "cell_type": "code",
   "execution_count": null,
   "metadata": {},
   "outputs": [],
   "source": [
    "sns.histplot(test_bonobo.values[np.tril(np.ones(test_bonobo.shape))==1].flatten(), bins=100)"
   ]
  },
  {
   "cell_type": "markdown",
   "metadata": {},
   "source": [
    "We do the same for the p-values. We first check if dimensions are correct."
   ]
  },
  {
   "cell_type": "code",
   "execution_count": null,
   "metadata": {},
   "outputs": [],
   "source": [
    "test_pvals = pd.read_hdf(pvals_prefix + nets_fn[0].split('/')[-1][7:])\n",
    "test_pvals.head()"
   ]
  },
  {
   "cell_type": "code",
   "execution_count": null,
   "metadata": {},
   "outputs": [],
   "source": [
    "assert(np.isclose(test_pvals.values, test_pvals.values.T).all())\n",
    "test_pvals.index = test_pvals.columns\n",
    "test_pvals.iloc[:5,:5]"
   ]
  },
  {
   "cell_type": "markdown",
   "metadata": {},
   "source": [
    "Then, we check the p-values' distribution."
   ]
  },
  {
   "cell_type": "code",
   "execution_count": null,
   "metadata": {},
   "outputs": [],
   "source": [
    "sns.histplot(test_pvals.values[np.tril(np.ones(test_pvals.shape))==1].flatten(), bins=100)"
   ]
  },
  {
   "cell_type": "code",
   "execution_count": null,
   "metadata": {},
   "outputs": [],
   "source": [
    "test_bonobo[test_pvals<0.05]"
   ]
  },
  {
   "cell_type": "markdown",
   "metadata": {},
   "source": [
    "We now filter BONOBO networks for only those with significant edges."
   ]
  },
  {
   "cell_type": "code",
   "execution_count": null,
   "metadata": {},
   "outputs": [],
   "source": [
    "sns.histplot((test_bonobo[test_pvals<0.05].values[np.tril(np.ones(test_pvals.shape))==1]).flatten(), bins = 100)"
   ]
  },
  {
   "cell_type": "markdown",
   "metadata": {},
   "source": [
    "# 2. Get the BONOBO networks for the analysis\n",
    "\n",
    "Here we define two functions to read BONOBO networks sequentially and generate a manageable dataframe we can use to analyze the data. BONOBO networks are dense symmetric correlation matrices of size $NxN$. Using all the edges for downstream analysis is unfeasible or computationally expensive, hence we focus on three strategies (sparse, random, gene)to reduce the amount of data that is used. Also, Empirical data suggests biological networks are sparse. Therefore, BONOBO allows to threshold the edges using p-values (sparse networks), alternatively one could randomly select K edges from all networks (random). Finally, we can select all edges involving a specific node (gene), for instance all edges that involve GCN4 subnetwork."
   ]
  },
  {
   "cell_type": "code",
   "execution_count": null,
   "metadata": {},
   "outputs": [],
   "source": [
    "def get_bonobo_dataframe(nets_fn, pvals_prefix = None, strategy = 'sparse', pth = 0.05, nk=1000, gene = 'YEL009C'):\n",
    "\n",
    "    df_bonobos = pd.DataFrame()\n",
    "\n",
    "    for iii,bbb in enumerate(nets_fn):\n",
    "        if iii>-1:\n",
    "            k = bbb.split('/')[-1][:-3][7:]\n",
    "            temp = pd.read_hdf(bbb)\n",
    "                \n",
    "            temp.index = temp.columns\n",
    "            # Upper triangular matrix\n",
    "            temp = temp.where(np.triu(np.ones(temp.shape), k = 1).astype(bool))\n",
    "            # Put in long format\n",
    "            temp = temp.stack().reset_index() \n",
    "            # Rename columns\n",
    "            temp.columns = ['gene1','gene2',k]\n",
    "            \n",
    "            if strategy == 'sparse':\n",
    "                \n",
    "                print(pvals_prefix + k + '.h5')\n",
    "                assert os.path.isfile(pvals_prefix + k + '.h5'), 'pvals file not found'\n",
    "                pvals_fn = pvals_prefix + k + '.h5'\n",
    "                pvals = pd.read_hdf(pvals_fn)\n",
    "                pvals = pvals.where(np.triu(np.ones(pvals.shape), k = 1).astype(bool))\n",
    "                pvals = pvals.stack().reset_index() \n",
    "                \n",
    "                ps = pvals.iloc[:,2].values\n",
    "                \n",
    "                temp = temp[ps<pth]\n",
    "\n",
    "                if iii== 0:\n",
    "                    df_bonobos = temp\n",
    "                else:\n",
    "                    df_bonobos = pd.merge(df_bonobos, temp, how = 'outer', on = ['gene1','gene2'])\n",
    "                    \n",
    "            elif strategy == 'random':\n",
    "                if iii==0:\n",
    "                    print(k)\n",
    "                    print(nk)\n",
    "                    index_random = np.random.choice(np.arange(len(temp.index)), nk, replace = False)\n",
    "                    df_bonobos = temp.iloc[index_random,:]\n",
    "                    \n",
    "                else:\n",
    "                    #df_bonobos[k] = temp.iloc[index_random,:][k]\n",
    "                    df_bonobos = pd.concat([df_bonobos, temp.iloc[index_random,:][k]], axis = 1)\n",
    "                    \n",
    "            elif strategy == 'gene':\n",
    "                # Get only one gene\n",
    "                if iii == 0:\n",
    "                    df_bonobos = temp[(temp['gene1'] == gene) | (temp['gene2'] == gene)]\n",
    "                else:\n",
    "                    df_bonobos = pd.concat([df_bonobos, temp[(temp['gene1'] == gene) | (temp['gene2'] == gene)][k]], axis = 1)\n",
    "                    \n",
    "            else:\n",
    "                if iii == 0:\n",
    "                    df_bonobos = temp\n",
    "                else:\n",
    "                    #df_bonobos[k] = temp[k]\n",
    "                    df_bonobos = pd.concat([df_bonobos, temp[k]], axis = 1)\n",
    "            \n",
    "\n",
    "    return(df_bonobos)"
   ]
  },
  {
   "cell_type": "markdown",
   "metadata": {},
   "source": [
    "The second function fetches edges conected to a given gene from the BONOBO network."
   ]
  },
  {
   "cell_type": "code",
   "execution_count": null,
   "metadata": {},
   "outputs": [],
   "source": [
    "def get_gene_bonobo_dataframe(nets_fn, gene = 'YEL009C'):\n",
    "\n",
    "    df_bonobos = pd.DataFrame()\n",
    "\n",
    "    for iii,bbb in enumerate(nets_fn):\n",
    "        if iii>-1:\n",
    "            k = bbb.split('/')[-1][:-3][7:]\n",
    "            temp = pd.read_hdf(bbb)\n",
    "                \n",
    "            temp.index = temp.columns\n",
    "            \n",
    "            temp = temp.loc[:,[gene]]\n",
    "        \n",
    "            temp['gene1'] = temp.index\n",
    "            temp['gene2'] = gene\n",
    "            temp[k] = temp.loc[:,[gene]]\n",
    "            temp = temp.loc[:,['gene1','gene2',k]]\n",
    "            \n",
    "            if iii == 0:\n",
    "                df_bonobos = temp\n",
    "            else:\n",
    "                df_bonobos = pd.concat([df_bonobos, temp.loc[:,k]], axis = 1)\n",
    "\n",
    "    return(df_bonobos)"
   ]
  },
  {
   "cell_type": "markdown",
   "metadata": {},
   "source": [
    "## 2.1. Sparse startegy\n",
    "\n",
    "The sparse stratgy allows to sparsfiy a fully-conected network using p-value thresholds on network edges. Here you should change the paths depending on where you want to save the data."
   ]
  },
  {
   "cell_type": "code",
   "execution_count": null,
   "metadata": {},
   "outputs": [],
   "source": [
    "nets_fn = glob.glob(output_folder+'bonobo/bonobo*.h5')\n",
    "pvals_prefix = (output_folder+'bonobo/pvals_')"
   ]
  },
  {
   "cell_type": "markdown",
   "metadata": {},
   "source": [
    "We use the sparse stargetgy based on p-values to obtain networks."
   ]
  },
  {
   "cell_type": "code",
   "execution_count": null,
   "metadata": {},
   "outputs": [],
   "source": [
    "bonobo_sparse = get_bonobo_dataframe(nets_fn, pvals_prefix = pvals_prefix, strategy = 'sparse', pth=0.01)"
   ]
  },
  {
   "cell_type": "markdown",
   "metadata": {},
   "source": [
    "We can also save the network (not needeed when running on the server)."
   ]
  },
  {
   "cell_type": "code",
   "execution_count": null,
   "metadata": {},
   "outputs": [],
   "source": [
    "save_network=0"
   ]
  },
  {
   "cell_type": "code",
   "execution_count": null,
   "metadata": {},
   "outputs": [],
   "source": [
    "if save_network == 1:\n",
    "    bonobo_sparse.to_hdf(output_folder+'bonobo_sparse_001.h5', key='bonobo_sparse', mode='w')"
   ]
  },
  {
   "cell_type": "code",
   "execution_count": null,
   "metadata": {},
   "outputs": [],
   "source": [
    "bonobo_sparse"
   ]
  },
  {
   "cell_type": "markdown",
   "metadata": {},
   "source": [
    "### 2.1.1. Correlation between BONOBO samples\n",
    "\n"
   ]
  },
  {
   "cell_type": "markdown",
   "metadata": {},
   "source": [
    "First, we need to generate an auxiliary table to keep track of the genotype and medium name."
   ]
  },
  {
   "cell_type": "code",
   "execution_count": null,
   "metadata": {},
   "outputs": [],
   "source": [
    "bonobo_names_df = pd.DataFrame()\n",
    "bonobo_names_df.index = bonobo_sparse.columns[2:]\n",
    "bonobo_names_df['genotype'] = [i.split('_')[0] for i in bonobo_names_df.index]\n",
    "bonobo_names_df['medium'] = [i.split('_')[1] for i in bonobo_names_df.index]\n",
    "bonobo_names_df"
   ]
  },
  {
   "cell_type": "markdown",
   "metadata": {},
   "source": [
    "We compute correlation between network edges."
   ]
  },
  {
   "cell_type": "code",
   "execution_count": null,
   "metadata": {},
   "outputs": [],
   "source": [
    "corrs = bonobo_sparse.iloc[:,2:].corr()"
   ]
  },
  {
   "cell_type": "code",
   "execution_count": null,
   "metadata": {},
   "outputs": [],
   "source": [
    "details = bonobo_names_df\n",
    "\n",
    "sns.set_context('talk')\n",
    "\n",
    "colors = details.medium.unique()\n",
    "cmap = matplotlib.cm.get_cmap('Set1', len(colors))\n",
    "color_list = [matplotlib.colors.rgb2hex(cmap(i)[:3]) for i in range(cmap.N)]\n",
    "lut = dict(zip(colors, color_list))\n",
    "row_colors = details.medium.map(lut)\n",
    "\n",
    "colors2 = details.genotype.unique()\n",
    "cmap2 = matplotlib.cm.get_cmap('plasma', len(colors2))\n",
    "color_list2 = [matplotlib.colors.rgb2hex(cmap2(i)[:3]) for i in range(cmap2.N)]\n",
    "lut2 = dict(zip(colors2, color_list2))\n",
    "row_colors2 = details.genotype.map(lut2)\n",
    "\n",
    "# add name to cbar\n",
    "f1 = sns.clustermap(corrs, row_colors=[row_colors, row_colors2], cmap = 'jet', \n",
    "                    figsize=(20,20), cbar_pos=(0.02, 0.80, 0.05, 0.18), cbar_kws= {'label':'Pearson Corr'}, xticklabels=1, yticklabels=1)\n",
    "\n",
    "f1.ax_col_dendrogram.set_visible(False)\n",
    "from matplotlib.patches import Patch\n",
    "\n",
    "handles = [Patch(facecolor=lut[name]) for name in lut]\n",
    "l1 = plt.legend(handles, lut, title='Media',\n",
    "           bbox_to_anchor=(.5, .985), bbox_transform=plt.gcf().transFigure, loc='upper right')\n",
    "\n",
    "# change the location \n",
    "handles = [Patch(facecolor=lut2[name]) for name in lut2]\n",
    "l2 = plt.legend(handles, lut2, title='Genotype',\n",
    "           bbox_to_anchor=(.7, .985), bbox_transform=plt.gcf().transFigure, loc='upper right')\n",
    "\n",
    "# Move the legends\n",
    "plt.gca().add_artist(l1)\n",
    "plt.gca().add_artist(l2)\n",
    "\n",
    "plt.tight_layout()\n",
    "#f1.savefig(results_folder+'/bonobo_correlation_clustermap.pdf', bbox_extra_artists=(l1,l2), #bbox_inches='tight')"
   ]
  },
  {
   "cell_type": "markdown",
   "metadata": {},
   "source": [
    "## 2.3. Random strategy\n",
    "\n",
    "Here, the random strategy picks k random edges from the networks to reduce the model. we first read the BONOBOs and keep 1000 random edges as representative of the networks."
   ]
  },
  {
   "cell_type": "code",
   "execution_count": null,
   "metadata": {},
   "outputs": [],
   "source": [
    "df_random_1k = get_bonobo_dataframe(nets_fn, strategy = 'random', nk = 1000)"
   ]
  },
  {
   "cell_type": "code",
   "execution_count": null,
   "metadata": {},
   "outputs": [],
   "source": [
    "df_random_1k"
   ]
  },
  {
   "cell_type": "markdown",
   "metadata": {},
   "source": [
    "We compute correlation between network edges."
   ]
  },
  {
   "cell_type": "code",
   "execution_count": null,
   "metadata": {},
   "outputs": [],
   "source": [
    "corrs_random = df_random_1k.iloc[:,2:].corr()"
   ]
  },
  {
   "cell_type": "code",
   "execution_count": null,
   "metadata": {},
   "outputs": [],
   "source": [
    "details = bonobo_names_df\n",
    "\n",
    "sns.set_context('talk')\n",
    "\n",
    "colors = details.medium.unique()\n",
    "cmap = matplotlib.cm.get_cmap('Set1', len(colors))\n",
    "color_list = [matplotlib.colors.rgb2hex(cmap(i)[:3]) for i in range(cmap.N)]\n",
    "lut = dict(zip(colors, color_list))\n",
    "row_colors = details.medium.map(lut)\n",
    "\n",
    "colors2 = details.genotype.unique()\n",
    "cmap2 = matplotlib.cm.get_cmap('plasma', len(colors2))\n",
    "color_list2 = [matplotlib.colors.rgb2hex(cmap2(i)[:3]) for i in range(cmap2.N)]\n",
    "lut2 = dict(zip(colors2, color_list2))\n",
    "row_colors2 = details.genotype.map(lut2)\n",
    "\n",
    "# add name to cbar\n",
    "f1 = sns.clustermap(corrs_random, row_colors=[row_colors, row_colors2], cmap = 'jet', \n",
    "                    figsize=(20,20), cbar_pos=(0.02, 0.80, 0.05, 0.18), cbar_kws= {'label':'Pearson Corr'}, xticklabels=1, yticklabels=1)\n",
    "\n",
    "f1.ax_col_dendrogram.set_visible(False)\n",
    "from matplotlib.patches import Patch\n",
    "\n",
    "handles = [Patch(facecolor=lut[name]) for name in lut]\n",
    "l1 = plt.legend(handles, lut, title='Media',\n",
    "           bbox_to_anchor=(.5, .985), bbox_transform=plt.gcf().transFigure, loc='upper right')\n",
    "\n",
    "# change the location \n",
    "handles = [Patch(facecolor=lut2[name]) for name in lut2]\n",
    "l2 = plt.legend(handles, lut2, title='Genotype',\n",
    "           bbox_to_anchor=(.7, .985), bbox_transform=plt.gcf().transFigure, loc='upper right')\n",
    "\n",
    "# Move the legends\n",
    "plt.gca().add_artist(l1)\n",
    "plt.gca().add_artist(l2)\n",
    "\n",
    "plt.tight_layout()\n",
    "#f1.savefig(results_folder+'/bonobo_correlation_clustermap.pdf', bbox_extra_artists=(l1,l2), #bbox_inches='tight')"
   ]
  },
  {
   "cell_type": "markdown",
   "metadata": {},
   "source": [
    "If you compare these results with those obtained by sparsifying the network it is easy to see that networks tend to be\n",
    "more similar to each other when using random edges. This makes sense, as the sparsificaytion process will likely pick up\n",
    "sample-specific trends rather than general, non-significant, edges"
   ]
  },
  {
   "cell_type": "markdown",
   "metadata": {},
   "source": [
    "## 2.4. Gene startegy\n",
    "\n",
    "Here, we will get all perturbed edges for the gene GCN4.\n",
    "Now, for each BONOBO, we select the GCN4 subnetwork (the edges connected to GCN4), to show that the networks are able to detect the effect of\n",
    "the the KO perturbation. \n",
    "\n",
    "We expect the edges connected to GCN4, in the samples where the KO was on GCN4, to exhibit different patterns of\n",
    "connectivity, as the cells have probably to rewire some of the processes that include GCN4. \n",
    "\n",
    "For that we'll use one of the previously defined functions and we ask it to retrieve the edges for 'YEL009C' which is a\n",
    "synonym for GCN4.\n"
   ]
  },
  {
   "cell_type": "code",
   "execution_count": null,
   "metadata": {},
   "outputs": [],
   "source": [
    "bonobo_gcn4 = get_gene_bonobo_dataframe(nets_fn, gene = 'YEL009C')"
   ]
  },
  {
   "cell_type": "markdown",
   "metadata": {},
   "source": [
    "Here is the network for the gene YEL009C"
   ]
  },
  {
   "cell_type": "code",
   "execution_count": null,
   "metadata": {},
   "outputs": [],
   "source": [
    "bonobo_gcn4.head()"
   ]
  },
  {
   "cell_type": "markdown",
   "metadata": {},
   "source": [
    "Let's reindex the dataframe, such that we don't need gene1 and gene2 columns."
   ]
  },
  {
   "cell_type": "code",
   "execution_count": null,
   "metadata": {},
   "outputs": [],
   "source": [
    "bonobo_gcn4.index = bonobo_gcn4.gene1 + '-' + bonobo_gcn4.gene2\n",
    "bonobo_gcn4 = bonobo_gcn4.iloc[:,2:]"
   ]
  },
  {
   "cell_type": "markdown",
   "metadata": {},
   "source": [
    "We now sort the columns, such that similar phenotypes are close to each other."
   ]
  },
  {
   "cell_type": "code",
   "execution_count": null,
   "metadata": {},
   "outputs": [],
   "source": [
    "bonobo_gcn4 = bonobo_gcn4.sort_index(axis=1)\n",
    "bonobo_gcn4"
   ]
  },
  {
   "cell_type": "markdown",
   "metadata": {},
   "source": [
    "Then, we compute variance and absolute average per edge, such that we can select the most variable/strongest edges."
   ]
  },
  {
   "cell_type": "code",
   "execution_count": null,
   "metadata": {},
   "outputs": [],
   "source": [
    "variance_peredge = bonobo_gcn4.var(axis = 1)\n",
    "mean_peredge = np.abs(bonobo_gcn4).mean(axis = 1)"
   ]
  },
  {
   "cell_type": "markdown",
   "metadata": {},
   "source": [
    "And we plot these edge values on heatmap."
   ]
  },
  {
   "cell_type": "code",
   "execution_count": null,
   "metadata": {},
   "outputs": [],
   "source": [
    "f, ax = plt.subplots(figsize=(10, 5))\n",
    "sns.heatmap(bonobo_gcn4[variance_peredge>np.percentile(variance_peredge, 90)], cmap = 'jet', ax = ax, yticklabels=False)\n",
    "\n",
    "# Get the current xticklabels\n",
    "xticklabels = ax.get_xticklabels()\n",
    "\n",
    "# Set the first three xticklabels to bold\n",
    "for label in xticklabels:\n",
    "    if label.get_text().startswith('gcn4'):\n",
    "        label.set_weight('bold')\n",
    "\n",
    "# Apply the modified labels back to the heatmap\n",
    "ax.set_xticklabels(xticklabels)\n",
    "\n",
    "\n",
    "ax.set_ylabel('Edges connected \\nto GCN4')\n",
    "ax.set_xlabel('Samples')\n",
    "ax.set_title('Variable edges \\n(absolute variance above 90th percentile)')"
   ]
  },
  {
   "cell_type": "markdown",
   "metadata": {},
   "source": [
    "Now, we select the strongest edges as opposed to those that have highest variability."
   ]
  },
  {
   "cell_type": "code",
   "execution_count": null,
   "metadata": {},
   "outputs": [],
   "source": [
    "f, ax = plt.subplots(figsize=(10, 5))\n",
    "sns.heatmap(bonobo_gcn4[mean_peredge>np.percentile(mean_peredge, 90)], cmap = 'jet', ax = ax, yticklabels=False, center = 0)\n",
    "\n",
    "\n",
    "# Get the current xticklabels\n",
    "xticklabels = ax.get_xticklabels()\n",
    "\n",
    "# Set the first three xticklabels to bold\n",
    "for label in xticklabels:\n",
    "    if label.get_text().startswith('gcn4'):\n",
    "        label.set_weight('bold')\n",
    "\n",
    "# Apply the modified labels back to the heatmap\n",
    "ax.set_xticklabels(xticklabels)\n",
    "\n",
    "ax.set_ylabel('Edges connected \\nto GCN4')\n",
    "ax.set_xlabel('Samples')\n",
    "ax.set_title('Strongest edges \\n(absolute mean above 90th percentile)')"
   ]
  },
  {
   "cell_type": "markdown",
   "metadata": {},
   "source": [
    "In both cases, you can see that the gcn4 KO samples (x-axis labels in bold) have different co-expression values compared to the rest of the networks. "
   ]
  },
  {
   "cell_type": "markdown",
   "metadata": {},
   "source": [
    "# References"
   ]
  },
  {
   "cell_type": "markdown",
   "metadata": {},
   "source": [
    "1- Saha, Enakshi, et al. \"Bayesian Optimized sample-specific Networks Obtained By Omics data (BONOBO).\" bioRxiv (2023).\n",
    "\n",
    "2- Jackson, Christopher A., et al. \"Gene regulatory network reconstruction using single-cell RNA sequencing of barcoded genotypes in diverse environments.\" elife 9 (2020): e51254.\n",
    "\n",
    "3- Ben Guebila, Marouen, et al. \"The Network Zoo: a multilingual package for the inference and analysis of gene regulatory networks.\" Genome Biology 24.1 (2023): 45."
   ]
  }
 ],
 "metadata": {
  "kernelspec": {
   "display_name": "PP5",
   "language": "python",
   "name": "pp5"
  },
  "language_info": {
   "codemirror_mode": {
    "name": "ipython",
    "version": 3
   },
   "file_extension": ".py",
   "mimetype": "text/x-python",
   "name": "python",
   "nbconvert_exporter": "python",
   "pygments_lexer": "ipython3",
   "version": "3.9.7"
  }
 },
 "nbformat": 4,
 "nbformat_minor": 2
}
