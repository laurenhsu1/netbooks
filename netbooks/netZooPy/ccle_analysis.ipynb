{
 "cells": [
  {
   "cell_type": "markdown",
   "metadata": {},
   "source": [
    "# Multiomic CCLE analysis using the Network Zoo\n",
    "Marouen Ben Guebila <sup>1</sup>\n",
    "\n",
    "<sup>1</sup> Harvard T.H. Chan School of Public Health, Boston, MA, USA."
   ]
  },
  {
   "cell_type": "markdown",
   "metadata": {},
   "source": [
    "# Introduction\n",
    "The Cancer Cell Line Encyclopedia (CCLE) has collected various omic data for more than a thousand cancer cell lines, representative of many lineages and tissue type. In this analysis, we will first use DRAGON<sup>2</sup> to find associations between multiomic data types, and second, we will use PANDA-LIONESS-MONSTER to model a transition from primary to metastatic melanoma and identify drivers of this transition.<sup>1</sup>\n",
    "# Importing packages\n",
    "First, we start by loading the packages required for the analysis."
   ]
  },
  {
   "cell_type": "code",
   "execution_count": null,
   "metadata": {},
   "outputs": [],
   "source": [
    "import numpy as np\n",
    "from scipy.stats import skew\n",
    "import matplotlib.pyplot as plt # For plottinh\n",
    "import os\n",
    "import pandas as pd         # To load data\n",
    "import seaborn as sns       # To plot results\n",
    "from netZooPy import dragon # To import dragon"
   ]
  },
  {
   "cell_type": "markdown",
   "metadata": {},
   "source": [
    "We set plotting parameters"
   ]
  },
  {
   "cell_type": "code",
   "execution_count": null,
   "metadata": {},
   "outputs": [],
   "source": [
    "imputationMissing='zero'\n",
    "plt.rcParams[\"font.family\"] = \"arial\""
   ]
  },
  {
   "cell_type": "markdown",
   "metadata": {},
   "source": [
    "Next, we define data path on netbooks server."
   ]
  },
  {
   "cell_type": "code",
   "execution_count": null,
   "metadata": {},
   "outputs": [],
   "source": [
    "ppath = '/opt/data/netZooPy/ccle/'"
   ]
  },
  {
   "cell_type": "markdown",
   "metadata": {},
   "source": [
    "Then, we define a set of functions to import and process CCLE data."
   ]
  },
  {
   "cell_type": "code",
   "execution_count": null,
   "metadata": {},
   "outputs": [],
   "source": [
    "def estimateDragonValues(ppiMat, expressionMat, pval=False):\n",
    "    print('computing lambdas')\n",
    "    lambdas_exp_ppi, lambdas_landscape_exp_ppi = dragon.estimate_penalty_parameters_dragon(ppiMat, expressionMat)\n",
    "    print('lambdas are ', lambdas_exp_ppi)\n",
    "    # 8. compute partial correlation\n",
    "    print('computing corrs')\n",
    "    r_exp_ppi = dragon.get_partial_correlation_dragon(ppiMat, expressionMat, lambdas_exp_ppi)\n",
    "    if pval==True:\n",
    "        print('computing pvals')\n",
    "        # 9. Compute pvalues\n",
    "        n_exp_ppi =ppiMat.shape[0]\n",
    "        p1_exp_ppi=ppiMat.shape[1]\n",
    "        p2_exp_ppi=expressionMat.shape[1]\n",
    "        adj_p_vals_exp_ppi, p_vals_exp_ppi = dragon.estimate_p_values_dragon(r_exp_ppi, n_exp_ppi, p1_exp_ppi, p2_exp_ppi, lambdas_exp_ppi)\n",
    "    else:\n",
    "        adj_p_vals_exp_ppi,p_vals_exp_ppi=[],[]\n",
    "    return r_exp_ppi, adj_p_vals_exp_ppi, p_vals_exp_ppi"
   ]
  },
  {
   "cell_type": "markdown",
   "metadata": {},
   "source": [
    "This is a simple scaling function"
   ]
  },
  {
   "cell_type": "code",
   "execution_count": null,
   "metadata": {},
   "outputs": [],
   "source": [
    "def Scale(X): \n",
    "    X_temp = X\n",
    "    X_std = np.std(X_temp, axis=0)\n",
    "    X_mean = np.mean(X_temp, axis=0)\n",
    "    return (X_temp - X_mean) / X_std"
   ]
  },
  {
   "cell_type": "markdown",
   "metadata": {},
   "source": [
    "Because we will use DRAGON to find associations in pairs of multiomic data, we need to align any 2 omic data types to have the same sample size by matching their cell line names using this function."
   ]
  },
  {
   "cell_type": "code",
   "execution_count": null,
   "metadata": {},
   "outputs": [],
   "source": [
    "def alignDF(expression, methyl):\n",
    "    interListMerge = np.intersect1d(methyl.index, expression.index, return_indices=True)\n",
    "    methyl     = methyl.iloc[interListMerge[1], :]\n",
    "    expression = expression.iloc[interListMerge[2], :]\n",
    "    # remove zero std columns\n",
    "    a = np.std(expression, axis=0)\n",
    "    expression = expression.drop(labels=expression.columns[np.where(a == 0)[0]], axis=1)\n",
    "    b = np.std(methyl, axis=0)\n",
    "    methyl = methyl.drop(labels=methyl.columns[np.where(b == 0)[0]], axis=1)\n",
    "    return expression, methyl"
   ]
  },
  {
   "cell_type": "markdown",
   "metadata": {},
   "source": [
    "This function converts cell line names to a standard DepMap ID."
   ]
  },
  {
   "cell_type": "code",
   "execution_count": null,
   "metadata": {},
   "outputs": [],
   "source": [
    "def convertToDepMap(methyl,cellNames):\n",
    "    # convert cell names to depmap IDs\n",
    "    interListBool = np.in1d(methyl.columns, cellNames['CCLE_Name'])\n",
    "    # Some cell lines do not exist in depmap so remove them\n",
    "    methyl = methyl.loc[:, interListBool]\n",
    "    # rename methyl columns\n",
    "    interList = np.intersect1d(methyl.columns, cellNames['CCLE_Name'], return_indices=True)\n",
    "    methyl.columns = cellNames['DepMap_ID'][interList[2]].values\n",
    "    return methyl"
   ]
  },
  {
   "cell_type": "markdown",
   "metadata": {},
   "source": [
    "This is a function to process dependency data using CRISPR screens."
   ]
  },
  {
   "cell_type": "code",
   "execution_count": null,
   "metadata": {},
   "outputs": [],
   "source": [
    "def processdepdata(imputationMissing):\n",
    "    dep = pd.read_csv(ppath+'Achilles_gene_effect.csv', index_col=0)\n",
    "    if imputationMissing=='zero':\n",
    "        dep.replace(to_replace=np.nan, value=0, inplace=True)\n",
    "    return dep"
   ]
  },
  {
   "cell_type": "markdown",
   "metadata": {},
   "source": [
    "A processing function for miRNA expression data."
   ]
  },
  {
   "cell_type": "code",
   "execution_count": null,
   "metadata": {},
   "outputs": [],
   "source": [
    "def processmirnadata(imputationMissing,cellNames):\n",
    "    mirna=pd.read_csv(ppath+'CCLE_miRNA_20181103.gct',sep='\\t',comment='#',skiprows=2,index_col=1)\n",
    "    # remove unnecessary columns\n",
    "    mirna = mirna.iloc[:,1:]\n",
    "    # convert cell names to depmap IDs\n",
    "    mirna=convertToDepMap(mirna,cellNames)\n",
    "    mirna=mirna.transpose()\n",
    "    return mirna"
   ]
  },
  {
   "cell_type": "markdown",
   "metadata": {},
   "source": [
    "A processing function for drug viability data."
   ]
  },
  {
   "cell_type": "code",
   "execution_count": null,
   "metadata": {},
   "outputs": [],
   "source": [
    "def processDrugs(imputationMissing):\n",
    "    drugs=pd.read_csv(ppath+'primary-screen-replicate-collapsed-logfold-change.csv',index_col=0)\n",
    "    drugMeta=pd.read_csv(ppath+'primary-screen-replicate-collapsed-treatment-info.csv')\n",
    "    # remove failed drug experiments\n",
    "    keepind=[]\n",
    "    for i in range(drugs.shape[0]):\n",
    "        if len(drugs.index[i].split('_')) == 1:\n",
    "            keepind.append(i)\n",
    "    #filter drug df\n",
    "    drugs=drugs.iloc[keepind,:]\n",
    "    #change drug name\n",
    "    xy, x_ind, y_ind = np.intersect1d(drugs.columns,drugMeta.loc[:,'column_name'], return_indices=True)\n",
    "    #first reorganize df by intersection\n",
    "    drugs=drugs.iloc[:,x_ind]\n",
    "    #then map drug names\n",
    "    drugs.columns=drugMeta.loc[y_ind,'name']\n",
    "    if imputationMissing=='zero':\n",
    "        drugs.replace(to_replace=np.nan, value=0, inplace=True)\n",
    "    return drugs"
   ]
  },
  {
   "cell_type": "markdown",
   "metadata": {},
   "source": [
    "A processing function for proteomic data."
   ]
  },
  {
   "cell_type": "code",
   "execution_count": null,
   "metadata": {},
   "outputs": [],
   "source": [
    "def processPPI(imputationMissing,cellNames):\n",
    "    ppi = pd.read_csv(ppath+'Table_S2_Protein_Quant_Normalized.csv')\n",
    "    # remove extra columns manually\n",
    "    ppi=ppi.iloc[:,:426]\n",
    "    # Keep SW948_LARGE_INTESTINE_TenPx20, CAL120_BREAST_TenPx28, and HCT15_LARGE_INTESTINE_TenPx18\n",
    "    # according to https://www.biorxiv.org/content/10.1101/2020.02.03.932384v1\n",
    "    swintestine=[i for i,item in enumerate(ppi.columns) if \"SW948_LARGE_INTESTINE\" in item] #132\n",
    "    calbreast=[i for i,item in enumerate(ppi.columns) if \"CAL120_BREAST\" in item] #64\n",
    "    hctintestine=[i for i,item in enumerate(ppi.columns) if \"HCT15_LARGE_INTESTINE\" in item] #338\n",
    "    ppi= ppi.drop(labels=ppi.columns[[132,64,338]],axis=1)\n",
    "    # remove more metadata columns\n",
    "    ppiindex=ppi.iloc[:,1]\n",
    "    ppi=ppi.iloc[:,49:]\n",
    "    ppi.index=ppiindex\n",
    "    if imputationMissing=='zero':\n",
    "        ppi=ppi.fillna(0)\n",
    "    # rename columns\n",
    "    newColumns=[]\n",
    "    for i in range(len(ppi.columns)):\n",
    "        newColumns.append('_'.join(str.split(ppi.columns[i],'_')[0:2]))\n",
    "    ppi.columns=newColumns\n",
    "    # remove nan entries in index\n",
    "    ppi = ppi.loc[ppi.index.dropna()]\n",
    "    ppi = convertToDepMap(ppi, cellNames)\n",
    "    ppi = ppi.transpose()\n",
    "    return ppi"
   ]
  },
  {
   "cell_type": "markdown",
   "metadata": {},
   "source": [
    "A processing function for metabolomic data."
   ]
  },
  {
   "cell_type": "code",
   "execution_count": null,
   "metadata": {},
   "outputs": [],
   "source": [
    "def processmetabolism():\n",
    "    metabolism = pd.read_csv(ppath+'CCLE_metabolomics_20190502.csv', index_col=1)\n",
    "    # remove extra column in metabolism\n",
    "    # manually remove nan row\n",
    "    metabolism = metabolism.iloc[:, 1:]\n",
    "    metabolism = metabolism.loc[metabolism.index.dropna()]\n",
    "    return metabolism"
   ]
  },
  {
   "cell_type": "markdown",
   "metadata": {},
   "source": [
    "# 1. DRAGON multiomic CCLE network\n",
    "First, we load the metadata that ahs information about cell lines and various omics used."
   ]
  },
  {
   "cell_type": "code",
   "execution_count": null,
   "metadata": {},
   "outputs": [],
   "source": [
    "cellNames=pd.read_csv(ppath+'sample_info.csv')\n",
    "drugMeta=pd.read_csv(ppath+'primary-screen-replicate-collapsed-treatment-info.csv')"
   ]
  },
  {
   "cell_type": "markdown",
   "metadata": {},
   "source": [
    "## 1.1. Correlations between miRNA and gene dependency"
   ]
  },
  {
   "cell_type": "markdown",
   "metadata": {},
   "source": [
    "In the first part, we compute correlations between miRNA levels and gene dependency. Our hypothesis is that strong miRNA repression induces the same effects as gene CRISPR KO."
   ]
  },
  {
   "cell_type": "code",
   "execution_count": null,
   "metadata": {},
   "outputs": [],
   "source": [
    "def estimatemirnadep(imputationMissing,cellNames):\n",
    "    dep = processdepdata(imputationMissing)\n",
    "    mirna=processmirnadata(imputationMissing,cellNames)\n",
    "    # align dataframes\n",
    "    dep,mirna=alignDF(dep,mirna)\n",
    "    # Call DRAGON\n",
    "    mirnaMat     = mirna.values\n",
    "    depMat       = dep.values\n",
    "    # Transpose and scale arrays (do not transpose expression)\n",
    "    mirnaMat     = Scale(mirnaMat)\n",
    "    depMat       = Scale(depMat)\n",
    "    # Estimate lambdas\n",
    "    r_mir_dep, adj_p_vals_mir_dep, p_vals_mir_dep=estimateDragonValues(mirnaMat, depMat, pval=False)\n",
    "    # edge format top 5k and bottom 5k edges\n",
    "    mir_dep_edges = createVisNet(mirna, dep, r_mir_dep, 'mir', 'dep', nedges=0)\n",
    "    return mir_dep_edges"
   ]
  },
  {
   "cell_type": "code",
   "execution_count": null,
   "metadata": {},
   "outputs": [],
   "source": [
    "mir_dep_edges=estimatemirnadep(imputationMissing,cellNames)\n",
    "sortedarray = np.sort(mir_dep_edges.stack().values)[::-1]\n",
    "plt.plot(sortedarray,'o',mfc='none', alpha=0.1, color='slategrey')"
   ]
  },
  {
   "cell_type": "markdown",
   "metadata": {},
   "source": [
    "This plot represents correlations between dependency and miRNA expression. Correlation might imply that miRNA regulate these target genes."
   ]
  },
  {
   "cell_type": "code",
   "execution_count": null,
   "metadata": {},
   "outputs": [],
   "source": [
    "c=np.argsort(mir_dep_edges.values, axis=None)#small to large\n",
    "tdindices=np.unravel_index(c, mir_dep_edges.shape)\n",
    "numindex=tdindices[0][2]\n",
    "numcol=tdindices[1][2]\n",
    "print(mir_dep_edges.iloc[numindex,numcol])\n",
    "print(mir_dep_edges.index[numindex])\n",
    "print(mir_dep_edges.columns[numcol])"
   ]
  },
  {
   "cell_type": "markdown",
   "metadata": {},
   "source": [
    "We find that the pair GSR and miR-664a-3p which has a strong negative correlation (negative dependency being associated to decreased cell survival), this pair has been validated in [TargetScan](http://www.targetscan.org/cgi-bin/targetscan/vert_71/targetscan.cgi?mirg=hsa-miR-664a-3p) as a possible interaction based on various features."
   ]
  },
  {
   "cell_type": "markdown",
   "metadata": {},
   "source": [
    "## 1.2. Correlations between drug cell viability and gene dependency\n",
    "Now, We compute DRAGON partial correlations between drug cell viability and gene dependency. Our hypothesis is that drugs inhibits their protein targets and therefore induces similar effects to CRISPR gene KO."
   ]
  },
  {
   "cell_type": "code",
   "execution_count": null,
   "metadata": {},
   "outputs": [],
   "source": [
    "def estimatedepdrug(imputationMissing):\n",
    "    print('Dep-Drug')\n",
    "    # Read proteins and drugs\n",
    "    dep  = processdepdata(imputationMissing)\n",
    "    drugs= processDrugs(imputationMissing)\n",
    "    # align dfs\n",
    "    dep,drugs=alignDF(dep,drugs)\n",
    "    # Call DRAGON\n",
    "    depMat       = dep.values\n",
    "    drugsMat     = drugs.values\n",
    "    # Transpose and scale arrays (do not transpose expression)\n",
    "    depMat       = Scale(depMat) #replace by dragon.scale\n",
    "    drugsMat     = Scale(drugsMat)\n",
    "    # Estimate lambdas\n",
    "    r_dep_drugs, adj_p_vals_dep_drugs, p_vals_dep_drugs=estimateDragonValues(depMat, drugsMat)\n",
    "    # edge format top 5k and bottom 5k edges\n",
    "    dep_drugs_edges=createVisNet(dep, drugs, r_dep_drugs,'dep','drugs',nedges=0)\n",
    "    return dep_drugs_edges"
   ]
  },
  {
   "cell_type": "code",
   "execution_count": null,
   "metadata": {},
   "outputs": [],
   "source": [
    "dep_drugs_edges = estimatedepdrug(imputationMissing)"
   ]
  },
  {
   "cell_type": "markdown",
   "metadata": {},
   "source": [
    "This plot represents all correlations between gene KO and Dabrafenib cell viability. Dabrafenib is a multikinase inhibitor indicated for melanoma. "
   ]
  },
  {
   "cell_type": "code",
   "execution_count": null,
   "metadata": {},
   "outputs": [],
   "source": [
    "oncdep_drugs_edges=dep_drugs_edges[oncdrugindex]\n",
    "flierprops = dict(markerfacecolor='0.75', markersize=5,\n",
    "              linestyle='none',marker='o')\n",
    "sns_plot = sns.boxplot(oncdep_drugs_edges['dabrafenib'], orient='v',width=.6,flierprops=flierprops)"
   ]
  },
  {
   "cell_type": "markdown",
   "metadata": {},
   "source": [
    "In particular, we find that gene dependencies correlated with Dabrafenib are BRAF, MAPK1 and MAPK2, which belong to the same kinase siganling pathway targeted by Dabrafenib."
   ]
  },
  {
   "cell_type": "markdown",
   "metadata": {},
   "source": [
    "## 1.3. Correlations between LDH protein levels and metabolite levels\n",
    "We compute correlations between LDH proteins levels and metabolite levels. Here, we would like to infer the direction of glycolsis biochemical reactions to see if fermentation (Warburg effect) is prevalent in CCLE cacner cell lines."
   ]
  },
  {
   "cell_type": "code",
   "execution_count": null,
   "metadata": {},
   "outputs": [],
   "source": [
    "def estimateprotmet(cellNames):\n",
    "    # IV. Protein-metabolome\n",
    "    print('Prot-met')\n",
    "    # Read proteins and metabolism\n",
    "    ppi        = processPPI(imputationMissing,cellNames)\n",
    "    metabolism = processmetabolism()\n",
    "    # align dataframes\n",
    "    metabolism, ppi = alignDF(metabolism, ppi)\n",
    "    # Call DRAGON\n",
    "    ppiMat        = ppi.values\n",
    "    metabolismMat = metabolism.values\n",
    "    # Transpose and scale arrays (do not transpose expression)\n",
    "    ppiMat        = Scale(ppiMat)  # replace by dragon.scale\n",
    "    metabolismMat = Scale(metabolismMat)\n",
    "    # Estimate lambdas\n",
    "    r_ppi_met, adj_p_vals_ppi_met, p_vals_ppi_met = estimateDragonValues(ppiMat, metabolismMat)\n",
    "    # edge format top 5k and bottom 5k edges\n",
    "    ppi_met_edges = createVisNet(ppi, metabolism, r_ppi_met, 'prot', 'met',nedges=0)\n",
    "    return ppi_met_edges"
   ]
  },
  {
   "cell_type": "markdown",
   "metadata": {},
   "source": [
    "Now, we plot the correlations between all metabolites and LDH protein levels with its two isozymes (LDHA/LDHB). LDHA carrues the forward reaction for lactate production and LDHB converts lactate to pyruvate, preferentially."
   ]
  },
  {
   "cell_type": "code",
   "execution_count": null,
   "metadata": {},
   "outputs": [],
   "source": [
    "f = {'LDHA': c.values, 'LDHB': d.values}\n",
    "dff=pd.DataFrame(data=f)\n",
    "sns_plot = sns.swarmplot(data=Scale(dff), orient='v')"
   ]
  },
  {
   "cell_type": "markdown",
   "metadata": {},
   "source": [
    "We find that metabolites such as fumarate/maleate, PEP, and g3p have a negative correlation with LDHA levels, indicating production of lactate. We also see that LDHB levels have a positive partial correlation (3.705e-05) with lactate which indicates that LDHB works in the same direction as LDHA and further supporting lactate production in cancer cells (Warburg effect)."
   ]
  },
  {
   "cell_type": "markdown",
   "metadata": {},
   "source": [
    "## 1.4. Correlations between TF targeting scores and metabolite levels\n",
    "We first load TF and gene targeting scores for all CCLE cell lines. These scores were computed after running PANDA<sup>3</sup> on all CCLE cell lines gene expression to build an aggregate network, then run LIONESS<sup>4</sup> on the aggregate network to build single-sample networks for each cell. We then compute gene and TF targeting scores for each single-sample network."
   ]
  },
  {
   "cell_type": "code",
   "execution_count": null,
   "metadata": {},
   "outputs": [],
   "source": [
    "genetar = pd.read_csv(ppath+'CCLE_genetar.csv',index_col=0)\n",
    "tftar   = pd.read_csv(ppath+'CCLE_tftar.csv',index_col=0)"
   ]
  },
  {
   "cell_type": "markdown",
   "metadata": {},
   "source": [
    "We compute correlations between TF targeting scores and 2HG metabolite levels. Our hypothesis is that we know that 2HG induces a hypermethylator phenotype and a cascade of epigenetic effects, however, we don't know which TF are affected by hypermethylation of their promoters and the consequent change in their binding and activity."
   ]
  },
  {
   "cell_type": "code",
   "execution_count": null,
   "metadata": {},
   "outputs": [],
   "source": [
    "def estimatetftarmet(cellNames, tftar):\n",
    "    print('tftar-met')\n",
    "    tftar=tftar.transpose()\n",
    "    # Read proteins and metabolism\n",
    "    metabolism = processmetabolism()\n",
    "    # align dataframes\n",
    "    metabolism, tftar = alignDF(metabolism, tftar)\n",
    "    # Call DRAGON\n",
    "    tftarMat        = tftar.values\n",
    "    metabolismMat   = metabolism.values\n",
    "    # Transpose and scale arrays (do not transpose expression)\n",
    "    tftarMat        = Scale(tftarMat)  # replace by dragon.scale\n",
    "    metabolismMat = Scale(metabolismMat)\n",
    "    # Estimate lambdas\n",
    "    r_tftar_met, adj_p_vals_tftar_met, p_vals_tftar_met = estimateDragonValues(tftarMat, metabolismMat)\n",
    "    # edge format top 5k and bottom 5k edges\n",
    "    tftar_met_edges = createVisNet(tftar, metabolism, r_tftar_met, 'tftar', 'met',nedges=0)\n",
    "    return tftar_met_edges"
   ]
  },
  {
   "cell_type": "code",
   "execution_count": null,
   "metadata": {},
   "outputs": [],
   "source": [
    "tftar_met_edges = estimatetftarmet(cellNames, tftar)\n",
    "c=tftar_met_edges['2-hydroxyglutarate'].sort_values()\n",
    "sns_plot = sns.boxplot(data=Scale(c.values))"
   ]
  },
  {
   "cell_type": "markdown",
   "metadata": {},
   "source": [
    "We find that 2HG disrupts binding of TP73, PPARg, and GLI4. These TFs have various roles in cancer; TP73 is a tumor supressor, PPARg mediates several oncogenic signaling processes, and GLI4 is a glioma-inducing oncogene. GLI4 is particularly interesting because glioma is the cancer subtype where 2HG induces a hypermethylator phenotype."
   ]
  },
  {
   "cell_type": "markdown",
   "metadata": {},
   "source": [
    "# 2. MONSTER transition analysis in melanoma\n",
    "In the second part of our analysis, and to follow up on the pan-cancer results we found earlier, we are now interested in a cancer-specific patterns of regualtion, particularly in melanoma. Here, we are interested in transition from primary to metastatic state, to estimate this transition, we will use MONSTER using a LIONESS network of primary melanoma cell line as an initial state, and a LIONESS network of a metastatic cell line as an end state. Since MONSTER in implemented in netZooR, this analysis will run in R.\n",
    "First, we define a function that compute a transition matrix, then defines a null distribution by resampling columns of these matrices and recomputing transition 1000 times."
   ]
  },
  {
   "cell_type": "code",
   "execution_count": null,
   "metadata": {},
   "outputs": [],
   "source": [
    "precomputed=1"
   ]
  },
  {
   "cell_type": "markdown",
   "metadata": {},
   "source": [
    "Since resampling can take a while to finish, we can set the `precomputed` tag to load precomputed results."
   ]
  },
  {
   "cell_type": "code",
   "execution_count": null,
   "metadata": {},
   "outputs": [],
   "source": [
    "if precomputed==0:\n",
    "    %%R\n",
    "    runemt <- function(nnet1,nnet2){\n",
    "        primary219=read.table(paste0(ppath,nnet1,'.csv'),sep=',',header=TRUE, row.names=1)\n",
    "        metastasis14=read.table(paste0(ppath,nnet2,'.csv'),sep=',',header=TRUE, row.names=1)\n",
    "        combinedRegNetworks=as.data.frame(cbind(primary219,metastasis14))\n",
    "        nGenes=length(metastasis14)\n",
    "        design=c(rep(0,nGenes),rep(1,nGenes))\n",
    "        monsterResRegNet <- monster(combinedRegNetworks, design ,motif=NA, nullPerms=1000, numMaxCores=12, mode='regNet')\n",
    "        monsterResRegNet\n",
    "        }"
   ]
  },
  {
   "cell_type": "markdown",
   "metadata": {},
   "source": [
    "We now run the actual analysis, the cell that represents the initial state is [ACH-000580](https://depmap.org/portal/cell_line/ACH-000580?tab=mutation). The final metastatic state is represnted by cell line [ACH-001569](https://depmap.org/portal/cell_line/ACH-001569?tab=mutation) also called MM415. Both cells were sampled from male donors."
   ]
  },
  {
   "cell_type": "code",
   "execution_count": null,
   "metadata": {},
   "outputs": [],
   "source": [
    "if precomputed==0:\n",
    "    %%R\n",
    "    primarycell='ACH-000580'\n",
    "    metastasiscell='ACH-001569'\n",
    "    monsterResRegNet=runemt(primarycell,metastasiscell)"
   ]
  },
  {
   "cell_type": "markdown",
   "metadata": {},
   "source": [
    "We now sort TFs by their differential involvement scores in the transition to metastasis."
   ]
  },
  {
   "cell_type": "code",
   "execution_count": null,
   "metadata": {},
   "outputs": [],
   "source": [
    "df=pd.read_csv(ppath+'emtrank.csv',index_col=0)\n",
    "df.columns = ['score']\n",
    "df = df.sort_values(by='score',ascending=False)\n",
    "g= sns.jointplot(x=np.array(range(len(df)))+1, y=df[\"score\"], kind='scatter',marker='.')\n",
    "plt.text(25,110583,'RUNX2')\n",
    "plt.text(7,146068,'GLI1')\n",
    "plt.text(7,134995.634187,'CREB3L1')\n",
    "g.ax_marg_x.set_axis_off()"
   ]
  },
  {
   "cell_type": "markdown",
   "metadata": {},
   "source": [
    "We find that RUNX2, GLI1, and CREB3L1 are among the top 50 TFs. These TFs were identified previously in drug resistance (GLI1/CREB3l!) and most importantly in epithelial to mesenchymal transition (RUNX2)."
   ]
  },
  {
   "cell_type": "markdown",
   "metadata": {},
   "source": [
    "# References\n",
    "\n",
    "1- Guebila, Marouen Ben, et al. \"The Network Zoo: a multilingual package for the inference and analysis of biological networks.\" bioRxiv (2022).\n",
    "\n",
    "2- Weighill, Deborah, et al. \"DRAGON: determining regulatory associations using graphical models on multi-omic networks.\" arXiv preprint arXiv:2104.01690 (2021).\n",
    "\n",
    "3- Glass, Kimberly, et al. \"Passing messages between biological networks to refine predicted interactions.\" PloS one 8.5 (2013): e64832.\n",
    "\n",
    "4- Kuijjer, Marieke Lydia, et al. \"Estimating sample-specific regulatory networks.\" Iscience 14 (2019): 226-240.\n",
    "\n",
    "5- Schlauch, Daniel, et al. \"Estimating drivers of cell state transitions using gene regulatory network models.\" BMC systems biology 11.1 (2017): 1-10.\n",
    "\n",
    "6- Cohen‐Solal, Karine A., Howard L. Kaufman, and Ahmed Lasfar. \"Transcription factors as critical players in melanoma invasiveness, drug resistance, and opportunities for therapeutic drug development.\" Pigment cell & melanoma research 31.2 (2018): 241-252."
   ]
  }
 ],
 "metadata": {
  "kernelspec": {
   "display_name": "Python 3",
   "language": "python",
   "name": "python3"
  },
  "language_info": {
   "codemirror_mode": {
    "name": "ipython",
    "version": 3
   },
   "file_extension": ".py",
   "mimetype": "text/x-python",
   "name": "python",
   "nbconvert_exporter": "python",
   "pygments_lexer": "ipython3",
   "version": "3.9.7"
  }
 },
 "nbformat": 4,
 "nbformat_minor": 4
}
