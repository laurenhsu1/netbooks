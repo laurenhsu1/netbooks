{
 "cells": [
  {
   "cell_type": "markdown",
   "id": "ff46b205",
   "metadata": {},
   "source": [
    "# Decomposing gene co-expression networks with COBRA (Python version)\n",
    "Author: Soel Micheletti<sup>1</sup>\n",
    "\n",
    "<sup>1</sup> Department of Biostatistics, Harvard T.H. Chan School of Public Health, Boston, MA."
   ]
  },
  {
   "cell_type": "markdown",
   "id": "71d4f5e4",
   "metadata": {},
   "source": [
    "## 1. Introduction\n",
    "COBRA decomposes a gene co-expression network as a linear combination of covariate-specific components. It takes as input a gene co-expression network and a design matrix. Depending on the choice of the covariates in the design matrix, COBRA can be used to tackle different tasks in system biology. In this tutorial we show how it can be applied for batch correction, differential co-expression analysis controlling for variables, and to understand the impact of variables of interest to the observed co-expression. \n",
    "\n",
    "![**Figure 1:** COBRA workflow.](./cobra.png)\n",
    "\n",
    "COBRA is now part of the [netZooPy package](https://github.com/netZoo/netZooPy). Please follow the installation guidelines on the [README](https://github.com/netZoo/netZooPy/blob/master/README.md). If you need help or if you have any question about netZoo, feel free to start with [discussions](https://github.com/netZoo/netZooPy/discussions). To report a bug, please open a new [issue](https://github.com/netZoo/netZooPy/issues). \n",
    "\n",
    "To illustrate how to use COBRA for different tasks, we import thyroid carcinoma (THCA) data from the TCGA project <sup>1</sup>. "
   ]
  },
  {
   "cell_type": "code",
   "execution_count": 1,
   "id": "69f50403",
   "metadata": {},
   "outputs": [
    {
     "name": "stdout",
     "output_type": "stream",
     "text": [
      "/home/soel/Desktop/netbooks/netbooks\n"
     ]
    }
   ],
   "source": [
    "cd .."
   ]
  },
  {
   "cell_type": "code",
   "execution_count": 2,
   "id": "4d8dd9bf",
   "metadata": {},
   "outputs": [],
   "source": [
    "from netZooPy.cobra import *\n",
    "import numpy as np\n",
    "import pandas as pd"
   ]
  },
  {
   "cell_type": "code",
   "execution_count": 3,
   "id": "27ba906e",
   "metadata": {},
   "outputs": [],
   "source": [
    "gene_expression = pd.read_csv(\"data/gene_expression_thca.csv\", index_col = 0).to_numpy()\n",
    "metadata = pd.read_csv(\"data/thca_metadata.csv\", index_col = 0)\n",
    "batch = metadata['batch'].to_numpy()\n",
    "cancer = metadata['status'].to_numpy()\n",
    "sex = metadata['sex'].to_numpy()"
   ]
  },
  {
   "cell_type": "markdown",
   "id": "1b97bf47",
   "metadata": {},
   "source": [
    "Here gene_expression is a gene expression matrix for 19711 genes and 572 samples. Batch, cancer, and sex are sample-specific metadata as vectors of length 572."
   ]
  },
  {
   "cell_type": "code",
   "execution_count": 4,
   "id": "62cfa651",
   "metadata": {},
   "outputs": [
    {
     "name": "stdout",
     "output_type": "stream",
     "text": [
      "Gene expression shape = (19711, 572)\n",
      "Batch vector length = 572\n",
      "Cancer vector length = 572\n",
      "Sex vector length = 572\n"
     ]
    }
   ],
   "source": [
    "print(\"Gene expression shape = \" + str(gene_expression.shape))\n",
    "print(\"Batch vector length = \" + str(len(batch)))\n",
    "print(\"Cancer vector length = \" + str(len(cancer)))\n",
    "print(\"Sex vector length = \" + str(len(sex)))"
   ]
  },
  {
   "cell_type": "markdown",
   "id": "71d4f89a",
   "metadata": {},
   "source": [
    "## 2. Applications of COBRA\n",
    "COBRA requires two inputs:      \n",
    "1. a gene expression matrix with rows as genes and column as samples; \n",
    "2. a design matrix with rows as samples and covariates as columns.\n",
    "\n",
    "Depending on the covariates in the design matrix, COBRA can be used for multiple purposes.\n",
    "\n",
    "### 2.1 Higher order batch correction\n",
    "\n",
    "A first application is batch correction of the co-expression network. In this case, we correct for the batch variable in our data. In our dataset, the 572 samples come from 17 distinct batches. "
   ]
  },
  {
   "cell_type": "code",
   "execution_count": 5,
   "id": "d9bcc699",
   "metadata": {},
   "outputs": [
    {
     "data": {
      "text/plain": [
       "17"
      ]
     },
     "execution_count": 5,
     "metadata": {},
     "output_type": "execute_result"
    }
   ],
   "source": [
    "len(np.unique(batch))"
   ]
  },
  {
   "cell_type": "markdown",
   "id": "d9dd368e",
   "metadata": {},
   "source": [
    "For batch correction, the design matrix must contain an intercept in the first column, and the batches (encoded usy dummy coding for identifiability) in the remaining columns. "
   ]
  },
  {
   "cell_type": "code",
   "execution_count": 6,
   "id": "9b1c0f8b",
   "metadata": {},
   "outputs": [],
   "source": [
    "number_of_samples = gene_expression.shape[1]\n",
    "X = pd.get_dummies(batch).iloc[:,1:]\n",
    "X.insert(0, 'intercept', np.ones(number_of_samples))"
   ]
  },
  {
   "cell_type": "markdown",
   "id": "32c6fb4f",
   "metadata": {},
   "source": [
    "We get a design matrix with 17 covariates (an intercept and 16 for the dummy coding) for the 572 samples in our study. "
   ]
  },
  {
   "cell_type": "code",
   "execution_count": 7,
   "id": "672634c4",
   "metadata": {},
   "outputs": [
    {
     "data": {
      "text/plain": [
       "(572, 17)"
      ]
     },
     "execution_count": 7,
     "metadata": {},
     "output_type": "execute_result"
    }
   ],
   "source": [
    "X.shape"
   ]
  },
  {
   "cell_type": "markdown",
   "id": "711ee90f",
   "metadata": {},
   "source": [
    "We are now ready to fit COBRA"
   ]
  },
  {
   "cell_type": "code",
   "execution_count": 8,
   "id": "9d6ebeb7",
   "metadata": {},
   "outputs": [],
   "source": [
    "psi, Q, d, g = cobra(X, gene_expression)"
   ]
  },
  {
   "cell_type": "markdown",
   "id": "fafd4006",
   "metadata": {},
   "source": [
    "The batch corrected network consider only the mean effect after removing the contribution of the batch variables. It is computed as follows. "
   ]
  },
  {
   "cell_type": "code",
   "execution_count": 9,
   "id": "d9db88a2",
   "metadata": {},
   "outputs": [],
   "source": [
    "corrected_network = Q.dot(np.diag(psi[0,])).dot(Q.T)"
   ]
  },
  {
   "cell_type": "markdown",
   "id": "7d007b0f",
   "metadata": {},
   "source": [
    "### 3.2 Differential co-expression analysis\n",
    "A second application is differential co-expression analysis between two conditions of interest. Here, we are interested in the differential co-expression between healthy and cancer samples. We extract the sample type for each sample. "
   ]
  },
  {
   "cell_type": "code",
   "execution_count": 10,
   "id": "cc2e923c",
   "metadata": {},
   "outputs": [],
   "source": [
    "cancer = [1 if cancer[i] == \"Solid Tissue Normal\" else 0 for i in range(len(cancer))]"
   ]
  },
  {
   "cell_type": "markdown",
   "id": "88330e19",
   "metadata": {},
   "source": [
    "In this case, the design matrix contains an intercept an a second column with an indicator for cancer/ healthy. The additional columns are for the variables we want to adjust for. Similarly as before, we consider the batch variable. "
   ]
  },
  {
   "cell_type": "code",
   "execution_count": 11,
   "id": "2659f530",
   "metadata": {},
   "outputs": [],
   "source": [
    "number_of_samples = gene_expression.shape[1]\n",
    "X = pd.get_dummies(batch).iloc[:,1:]\n",
    "X.insert(0, 'intercept', np.ones(number_of_samples))\n",
    "X.insert(1, 'cancer', cancer)"
   ]
  },
  {
   "cell_type": "markdown",
   "id": "1a9b9bd4",
   "metadata": {},
   "source": [
    "We are now ready to fit COBRA and extract the component corresponding to the differential co-expression. Since the indicator variable for cancer is the second column in our design matrix, the COBRA-adjusted differential co-expression network corresponds to the second component of COBRA's decomposition. "
   ]
  },
  {
   "cell_type": "code",
   "execution_count": 12,
   "id": "a03f1d0e",
   "metadata": {},
   "outputs": [],
   "source": [
    "psi, Q, d, g = cobra(X, gene_expression)\n",
    "differential_coexpression = Q.dot(np.diag(psi[1,])).dot(Q.T)"
   ]
  },
  {
   "cell_type": "markdown",
   "id": "ea5f0359",
   "metadata": {},
   "source": [
    "### 3.3 Identifying the component for a covariate of interest\n",
    "\n",
    "COBRA is general enough to be applied to any variable. For instance, if we want to study the differences between males and females in cancer, we can use the following design matrix. "
   ]
  },
  {
   "cell_type": "code",
   "execution_count": 13,
   "id": "63764747",
   "metadata": {},
   "outputs": [],
   "source": [
    "sex = [0 if sex[i] == 'male' else 1 for i in range(len(sex))]\n",
    "number_of_samples = gene_expression.shape[1]\n",
    "X = pd.DataFrame({'intercept': np.ones(number_of_samples), 'cancer' : cancer, 'sex' : sex, 'interaction' : [a*b for a,b in zip(sex, cancer)]})"
   ]
  },
  {
   "cell_type": "markdown",
   "id": "55d09ce6",
   "metadata": {},
   "source": [
    "With this design, the last component of COBRA's decomposition describes the sex differes in cancer between male and females. "
   ]
  },
  {
   "cell_type": "code",
   "execution_count": 14,
   "id": "e46405d0",
   "metadata": {},
   "outputs": [],
   "source": [
    "psi, Q, d, g = cobra(X, gene_expression)\n",
    "sex_differences_in_cancer = Q.dot(np.diag(psi[3,])).dot(Q.T)"
   ]
  },
  {
   "cell_type": "markdown",
   "id": "afdf8a4d",
   "metadata": {},
   "source": [
    "## Reference\n",
    "\n",
    "1- Agrawal, Nishant, et al. \"Integrated genomic characterization of papillary thyroid carcinoma.\" Cell 159.3 (2014): 676-690."
   ]
  }
 ],
 "metadata": {
  "kernelspec": {
   "display_name": "Python 3 (ipykernel)",
   "language": "python",
   "name": "python3"
  },
  "language_info": {
   "codemirror_mode": {
    "name": "ipython",
    "version": 3
   },
   "file_extension": ".py",
   "mimetype": "text/x-python",
   "name": "python",
   "nbconvert_exporter": "python",
   "pygments_lexer": "ipython3",
   "version": "3.10.12"
  }
 },
 "nbformat": 4,
 "nbformat_minor": 5
}
