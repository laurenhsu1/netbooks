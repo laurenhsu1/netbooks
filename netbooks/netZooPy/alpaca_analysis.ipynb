{
 "cells": [
  {
   "cell_type": "markdown",
   "metadata": {},
   "source": [
    "# Targeting transition drivers in KIRC"
   ]
  },
  {
   "cell_type": "code",
   "execution_count": null,
   "metadata": {},
   "outputs": [],
   "source": [
    "library('netZooR')\n",
    "library('gplots')\n",
    "library('reshape2')\n",
    "library('ggplot2')"
   ]
  },
  {
   "cell_type": "markdown",
   "metadata": {},
   "source": [
    "## 1. Identifying differential modules between normal and KIRC networks using ALPACA"
   ]
  },
  {
   "cell_type": "code",
   "execution_count": null,
   "metadata": {},
   "outputs": [],
   "source": [
    "nTFs=1132"
   ]
  },
  {
   "cell_type": "code",
   "execution_count": null,
   "metadata": {},
   "outputs": [],
   "source": [
    "df =read.table('alpaca_outputNet.csv',header=TRUE,sep=\",\")"
   ]
  },
  {
   "cell_type": "code",
   "execution_count": null,
   "metadata": {},
   "outputs": [],
   "source": [
    "simp.alp <- alpaca(df,NULL,verbose=F)\n",
    "simp.alp2 <- simp.alp[[1]]\n",
    "simp.memb <- as.vector(simp.alp2)\n",
    "names(simp.memb) <- names(simp.alp2)\n",
    "\n",
    "simp.memb"
   ]
  },
  {
   "cell_type": "code",
   "execution_count": null,
   "metadata": {},
   "outputs": [],
   "source": [
    "a=as.data.frame(simp.memb)"
   ]
  },
  {
   "cell_type": "code",
   "execution_count": null,
   "metadata": {},
   "outputs": [],
   "source": [
    "a['ZNF180_A',]"
   ]
  },
  {
   "cell_type": "code",
   "execution_count": null,
   "metadata": {},
   "outputs": [],
   "source": [
    "b=simp.alp[[2]]"
   ]
  },
  {
   "cell_type": "code",
   "execution_count": null,
   "metadata": {},
   "outputs": [],
   "source": [
    "rownames(a)[1]"
   ]
  },
  {
   "cell_type": "code",
   "execution_count": null,
   "metadata": {},
   "outputs": [],
   "source": [
    "for(i in 1:dim(a)[1]){\n",
    "    print(i)\n",
    "#for(i in 1:10){\n",
    "    #print(rownames(a)[i])\n",
    "    print(b[[rownames(a)[i]]])\n",
    "}"
   ]
  },
  {
   "cell_type": "code",
   "execution_count": null,
   "metadata": {},
   "outputs": [],
   "source": [
    "write.table(a,'contAlpaca.csv')"
   ]
  },
  {
   "cell_type": "markdown",
   "metadata": {},
   "source": [
    "## 2. Estimating transition drivers using MONSTER"
   ]
  },
  {
   "cell_type": "code",
   "execution_count": null,
   "metadata": {},
   "outputs": [],
   "source": [
    "kircnet=read.table('KRCC_contprior2.csv', header=T,sep=',',row.names = 1)\n",
    "kirc_nat_net=read.table('NATKIRC_contprior2.csv', header=T,sep=',',row.names = 1)\n",
    "healthynet=read.table('cortex_cont2.csv', header=T,sep=',',row.names = 1)"
   ]
  },
  {
   "cell_type": "markdown",
   "metadata": {},
   "source": [
    "### 2.1 Healthy to KIRC transition"
   ]
  },
  {
   "cell_type": "code",
   "execution_count": null,
   "metadata": {},
   "outputs": [],
   "source": [
    "interGenes = intersect(colnames(kircnet),colnames(healthynet))\n",
    "indKircGene= match(interGenes, colnames(kircnet))\n",
    "indHealthyGene= match(interGenes, colnames(healthynet))\n",
    "set.seed(1619)\n",
    "combinedRegNetworks_healthy_kirc=as.data.frame(cbind(healthynet[,indHealthyGene],kircnet[,indKircGene]))\n",
    "nGenes=length(indHealthyGene)\n",
    "design=c(rep(0,nGenes),rep(1,nGenes))"
   ]
  },
  {
   "cell_type": "code",
   "execution_count": null,
   "metadata": {},
   "outputs": [],
   "source": [
    "monsterResRegNet <- monster(combinedRegNetworks_healthy_kirc, design ,motif=NA, nullPerms=1000, numMaxCores=12, mode='regNet')\n",
    "saveRDS(monsterResRegNet, file=\"healthy_kirc_monster.rds\")"
   ]
  },
  {
   "cell_type": "markdown",
   "metadata": {},
   "source": [
    "### 2.2 NAT to KIRC transition"
   ]
  },
  {
   "cell_type": "code",
   "execution_count": null,
   "metadata": {},
   "outputs": [],
   "source": [
    "interGenes = intersect(colnames(kircnet),colnames(kirc_nat_net))\n",
    "indKircGene= match(interGenes, colnames(kircnet))\n",
    "indHealthyGene= match(interGenes, colnames(kirc_nat_net))\n",
    "set.seed(1619)\n",
    "combinedRegNetworks_nat_kirc=as.data.frame(cbind(kirc_nat_net[,indHealthyGene],kircnet[,indKircGene]))\n",
    "nGenes=length(indHealthyGene)\n",
    "design=c(rep(0,nGenes),rep(1,nGenes))"
   ]
  },
  {
   "cell_type": "code",
   "execution_count": null,
   "metadata": {},
   "outputs": [],
   "source": [
    "monsterResRegNet <- monster(combinedRegNetworks_nat_kirc, design ,motif=NA, nullPerms=1000, numMaxCores=12, mode='regNet')\n",
    "saveRDS(monsterResRegNet, file=\"nat_kirc_monster.rds\")"
   ]
  },
  {
   "cell_type": "markdown",
   "metadata": {},
   "source": [
    "### 2.3 Healthy to NAT transition"
   ]
  },
  {
   "cell_type": "code",
   "execution_count": null,
   "metadata": {},
   "outputs": [],
   "source": [
    "interGenes = intersect(colnames(kirc_nat_net),colnames(healthynet))\n",
    "indKircGene= match(interGenes, colnames(kirc_nat_net))\n",
    "indHealthyGene= match(interGenes, colnames(healthynet))\n",
    "set.seed(1619)\n",
    "combinedRegNetworks_healthy_nat=as.data.frame(cbind(healthynet[,indHealthyGene],kirc_nat_net[,indKircGene]))\n",
    "nGenes=length(indHealthyGene)\n",
    "design=c(rep(0,nGenes),rep(1,nGenes))"
   ]
  },
  {
   "cell_type": "code",
   "execution_count": null,
   "metadata": {},
   "outputs": [],
   "source": [
    "monsterResRegNet <- monster(combinedRegNetworks_healthy_nat, design ,motif=NA, nullPerms=1000, numMaxCores=12, mode='regNet')\n",
    "saveRDS(monsterResRegNet, file=\"healthy_nat_monster.rds\")"
   ]
  },
  {
   "cell_type": "markdown",
   "metadata": {},
   "source": [
    "### 2.4 Plots"
   ]
  },
  {
   "cell_type": "code",
   "execution_count": null,
   "metadata": {},
   "outputs": [],
   "source": [
    "monsterResRegNet=readRDS(\"kircmonster.rds\")"
   ]
  },
  {
   "cell_type": "code",
   "execution_count": null,
   "metadata": {},
   "outputs": [],
   "source": [
    "monsterResRegNet"
   ]
  },
  {
   "cell_type": "code",
   "execution_count": null,
   "metadata": {},
   "outputs": [],
   "source": [
    "monster.plot.monsterAnalysis(monsterResRegNet, rescale='magnitude', nTFs=70) # magnitude of null i sin the order of 2"
   ]
  }
 ],
 "metadata": {
  "kernelspec": {
   "display_name": "R",
   "language": "R",
   "name": "ir"
  },
  "language_info": {
   "codemirror_mode": "r",
   "file_extension": ".r",
   "mimetype": "text/x-r-source",
   "name": "R",
   "pygments_lexer": "r",
   "version": "4.2.2"
  }
 },
 "nbformat": 4,
 "nbformat_minor": 4
}
