{
 "cells": [
  {
   "cell_type": "markdown",
   "metadata": {},
   "source": [
    "# Processing GTEx and TCGA gene expression data for network analysis\n",
    "\n",
    "Authors: Marouen Ben Guebila<sup>1</sup>, Deborah Weighill<sup>1</sup>\n",
    "\n",
    "<sup>1</sup> Department of Biostatistics, Harvard T.H. Chan School of Public Health, Boston, MA.\n",
    "\n",
    "# 1. Introduction \n",
    "Gene expression is used as an input for several [network zoo](netzoo.github.io) GRN inference tools to inform about context-specific regulation. Gene expression data is used mainly to build the coexpression matrix input, therefore there are some essential considerations to be taken into acount for this specific task.\n",
    "\n",
    "In this tutorial, we will go through the data processing pipeline of TCGA<sup>1</sup> and GTEx<sup>3</sup> gene expression provided by [Recount2](https://jhubiostatistics.shinyapps.io/recount/)<sup>2</sup>. The Recount project analyzed gene expression data from large project such as TCGA and GTEx<sup>3</sup> using a uniform pipeline, which makes it easier to control for variation due to the mapping method. Our analysis will consider the KIRC (Kidney Renal Clear Cell Carcinoma) subtype of the kidney cancer as well as gene expression for normal kidney from the GTEx project and will include the following analyses:\n",
    "\n",
    "In TCGA first then GTEx\n",
    "- filtering coding genes\n",
    "- filtering disease subtype\n",
    "- filtering adjacent normal samples\n",
    "- filtering low count genes\n",
    "- normalize gene expression between samples\n",
    "- resolve isoform expression\n",
    "\n",
    "# 2. Load packages\n",
    "\n",
    "First, we need to load the packages for the analysis."
   ]
  },
  {
   "cell_type": "code",
   "execution_count": null,
   "metadata": {},
   "outputs": [],
   "source": [
    "library('recount') # To process gene expression\n",
    "library('limma')   # To average replicates\n",
    "library('DESeq2')  # To do the mean-variance correction\n",
    "library('vsn')     # To visualize mean-variance plots"
   ]
  },
  {
   "cell_type": "markdown",
   "metadata": {},
   "source": [
    "Then, se the path of data on netbooks server:"
   ]
  },
  {
   "cell_type": "code",
   "execution_count": null,
   "metadata": {},
   "outputs": [],
   "source": [
    "ppath='/opt/data/netZooR/geneex/'"
   ]
  },
  {
   "cell_type": "markdown",
   "metadata": {},
   "source": [
    "# 3. Data processing\n",
    "\n",
    "First, we need to download the kidney cancer gene expression from the [recount2 project webpage](https://jhubiostatistics.shinyapps.io/recount/)."
   ]
  },
  {
   "cell_type": "code",
   "execution_count": null,
   "metadata": {},
   "outputs": [],
   "source": [
    "load(paste0(ppath,\"rse_gene_kidney.Rdata\"))"
   ]
  },
  {
   "cell_type": "markdown",
   "metadata": {},
   "source": [
    "## 3.1. Filtering coding genes\n",
    "\n",
    "The data comes as a RangeSummarizedExperiment (RSE) object. The \"features\" covered in [TCGA](https://portal.gdc.cancer.gov/) include genes but also transcripts in the broad sense of the term (pseudogenes, lncRNA, etc..). Therefore, we need to filter the coding genes. If you are importing TCGA data using Recount3, replace `rowDataRse$symbol[i][[1]][1]` with `rowDataRse@listData$gene_name[i][[1]][1]`."
   ]
  },
  {
   "cell_type": "code",
   "execution_count": null,
   "metadata": {},
   "outputs": [],
   "source": [
    "rowDataRse=rowData(rse_gene)\n",
    "geneIds       = c()\n",
    "geneSymbol    = c()\n",
    "geneEntrezIds = c()\n",
    "# First remove pseudogenes\n",
    "usingEntrezGeneIDs=1\n",
    "if(usingEntrezGeneIDs==1){\n",
    "  for(i in 1:dim(rowDataRse)[1]){\n",
    "    if(!is.na(rowDataRse$symbol[i][[1]][1])){\n",
    "      geneIds       = c(geneIds,i)\n",
    "      geneSymbol    = c(geneSymbol,rowDataRse$symbol[i][[1]][1])\n",
    "      geneEntrezIds = c(geneEntrezIds, substr(rowDataRse$gene_id[i],1,15))\n",
    "    }\n",
    "  }\n",
    "}"
   ]
  },
  {
   "cell_type": "markdown",
   "metadata": {},
   "source": [
    "We see that we find 25526 coding genes in this dataset."
   ]
  },
  {
   "cell_type": "code",
   "execution_count": null,
   "metadata": {},
   "outputs": [],
   "source": [
    "length(geneSymbol)"
   ]
  },
  {
   "cell_type": "markdown",
   "metadata": {},
   "source": [
    "## 3.2. Filtering disease subtype\n",
    "\n",
    "In addition, since we are interested in the KIRC subtype, we need to exclude the samples accounting for the other subtypes covered in the TCGA project such Kidney Chromophobe (KICH) and Kidney Renal Papillary Cell Carcinoma (KIRP). If you are importing TCGA data using Recount3, add `tcga.` before `gdc_cases.`"
   ]
  },
  {
   "cell_type": "code",
   "execution_count": null,
   "metadata": {},
   "outputs": [],
   "source": [
    "colDataRse=colData(rse_gene)\n",
    "print(unique(colDataRse@listData$gdc_cases.project.name))"
   ]
  },
  {
   "cell_type": "markdown",
   "metadata": {},
   "source": [
    "## 3.3. Filtering adjacent normal samples\n",
    "Also, the TCGA project collected samples from various location in the tumor and around the tumor. If you are importing TCGA data using Recount3, add `tcga.` before `gdc_cases.`"
   ]
  },
  {
   "cell_type": "code",
   "execution_count": null,
   "metadata": {},
   "outputs": [],
   "source": [
    "print(unique(colDataRse@listData$gdc_cases.samples.sample_type))"
   ]
  },
  {
   "cell_type": "markdown",
   "metadata": {},
   "source": [
    "Therefore, we need to remove the samples of normal tissue around the tumor referred to as \"adjacent normal\" tissue. In this case, the samples were called as \"Solid Tissue Normal\". If you are importing TCGA data using Recount3, add `tcga.` before all instances `gdc_cases.` For example, `colDataRse@listData$gdc_cases.samples.sample_type` should be replaced with `colDataRse@listData$tcga.gdc_cases.samples.sample_type`."
   ]
  },
  {
   "cell_type": "code",
   "execution_count": null,
   "metadata": {},
   "outputs": [],
   "source": [
    "tumorIds=c()\n",
    "patientSymbol=c()\n",
    "for(i in 1:length(colDataRse@listData$gdc_cases.samples.sample_type)){\n",
    "  if(colDataRse@listData$gdc_cases.samples.sample_type[i] %in% c(\"Primary Tumor\",\"Additional - New Primary\") && colDataRse@listData$gdc_cases.project.name[i] == \"Kidney Renal Clear Cell Carcinoma\"){\n",
    "    tumorIds = c(tumorIds,i)     \n",
    "    patientSymbol = c(patientSymbol, colDataRse@listData$gdc_cases.samples.portions.analytes.aliquots.submitter_id[i])\n",
    "  }\n",
    "}"
   ]
  },
  {
   "cell_type": "markdown",
   "metadata": {},
   "source": [
    "To summarize, we can check that samples are all primary tumors."
   ]
  },
  {
   "cell_type": "code",
   "execution_count": null,
   "metadata": {},
   "outputs": [],
   "source": [
    "colDataRse@listData$gdc_cases.samples.sample_type[tumorIds]"
   ]
  },
  {
   "cell_type": "markdown",
   "metadata": {},
   "source": [
    "Also that all samples are of the KIRC subtype."
   ]
  },
  {
   "cell_type": "code",
   "execution_count": null,
   "metadata": {},
   "outputs": [],
   "source": [
    "colDataRse@listData$gdc_cases.project.name[tumorIds]"
   ]
  },
  {
   "attachments": {
    "image.png": {
     "image/png": "[encoded data removed]"
    }
   },
   "cell_type": "markdown",
   "metadata": {},
   "source": [
    "We can also use the sample barcode id, which is a more convenient way of filtering out the control and adjacent normal samples. According to the [barcode documentation](https://docs.gdc.cancer.gov/Encyclopedia/pages/TCGA_Barcode/) of the TCGA project, sample id encodes tumor types from 01 - 09, normal types from 10 - 19 and control samples from 20 - 29. \n",
    "![image.png](attachment:image.png)\n",
    "\n",
    "Therefore, by extracting the sample id from TCGA patient id, we can filter out the samples that aren't in the 01-09 interval."
   ]
  },
  {
   "cell_type": "code",
   "execution_count": null,
   "metadata": {},
   "outputs": [],
   "source": [
    "tumorIds=c()\n",
    "patientSymbol=c()\n",
    "for(i in 1:length(colDataRse@listData$gdc_cases.samples.sample_type)){\n",
    "    sampleCodeStr = strsplit(colDataRse@listData$gdc_cases.samples.portions.analytes.aliquots.submitter_id[i],'-')[[1]][4]\n",
    "    sampleCodeNum = as.numeric(substr(sampleCodeStr,1,2))\n",
    "    if(sampleCodeNum>=1 && sampleCodeNum<=9 && colDataRse@listData$gdc_cases.project.name[i] == \"Kidney Renal Clear Cell Carcinoma\"){\n",
    "        tumorIds = c(tumorIds,i)     \n",
    "        patientSymbol = c(patientSymbol, colDataRse@listData$gdc_cases.samples.portions.analytes.aliquots.submitter_id[i])\n",
    "    }\n",
    "}"
   ]
  },
  {
   "cell_type": "markdown",
   "metadata": {},
   "source": [
    "Here too, we can check that samples are all primary tumors."
   ]
  },
  {
   "cell_type": "code",
   "execution_count": null,
   "metadata": {},
   "outputs": [],
   "source": [
    "length(colDataRse@listData$gdc_cases.project.name[tumorIds])"
   ]
  },
  {
   "cell_type": "markdown",
   "metadata": {},
   "source": [
    "Also, all samples belong to the KIRC subtype."
   ]
  },
  {
   "cell_type": "code",
   "execution_count": null,
   "metadata": {},
   "outputs": [],
   "source": [
    "length(colDataRse@listData$gdc_cases.samples.sample_type[tumorIds])"
   ]
  },
  {
   "cell_type": "markdown",
   "metadata": {},
   "source": [
    "Finally, after collecting the indices for tumor subytpe samples and coding genes, we can filter our RSE object which now contains 25526 genes and 544 KIRC samples."
   ]
  },
  {
   "cell_type": "code",
   "execution_count": null,
   "metadata": {},
   "outputs": [],
   "source": [
    "rse_gene=rse_gene[geneIds,tumorIds]\n",
    "rse_gene"
   ]
  },
  {
   "cell_type": "markdown",
   "metadata": {},
   "source": [
    "## 3.4. Filter low counts\n",
    "We also need to filter genes that have low counts across all samples. This will remove any irrelevant genes for our analysis but also will speed up the network inference tool. "
   ]
  },
  {
   "cell_type": "code",
   "execution_count": null,
   "metadata": {},
   "outputs": [],
   "source": [
    "countMat=SummarizedExperiment::assay(rse_gene, 1)"
   ]
  },
  {
   "cell_type": "markdown",
   "metadata": {},
   "source": [
    "Here, we filtered the 23 genes that had a maximum of 1 count across all samples but larger thresholds can be considered as well. First, we selected the indices to be filtered."
   ]
  },
  {
   "cell_type": "code",
   "execution_count": null,
   "metadata": {},
   "outputs": [],
   "source": [
    "length(which(rowSums(countMat) <= 1))\n",
    "indFilter = which(rowSums(countMat) <= 1)"
   ]
  },
  {
   "cell_type": "markdown",
   "metadata": {},
   "source": [
    "Then, we do the filtering."
   ]
  },
  {
   "cell_type": "code",
   "execution_count": null,
   "metadata": {},
   "outputs": [],
   "source": [
    "rse_gene=rse_gene[-indFilter,]"
   ]
  },
  {
   "cell_type": "markdown",
   "metadata": {},
   "source": [
    "The final number of retained genes in now 25503 genes."
   ]
  },
  {
   "cell_type": "code",
   "execution_count": null,
   "metadata": {},
   "outputs": [],
   "source": [
    "rse_gene"
   ]
  },
  {
   "cell_type": "markdown",
   "metadata": {},
   "source": [
    "## 3.5. Normalize between-sample counts using DESeq2\n",
    "Now that we have a filtered count matrix, perhaps the most imporant step is deciding on the normalization method. There are two families of normalizations: between-sample normalization and within-sample normalization. Within-sample normalization is useful to quantify gene expression and compare the expression of genes within the sample sample. To do so, we need to take into account gene length and total number of mapped reads which are corrected for by scaling the counts by the total reads number, computing RPKM<sup>4</sup> or TPM<sup>5</sup>.\n",
    "\n",
    "However, when we are interested in making inference about gene expression between samples or groups of samples such as in a case versus control setting, we need between-sample normalization mehtods. This is usually the case for differential gene expression analysis, clustering, and visualization.\n",
    "\n",
    "For our specific case, we are using gene expression to build a coexpression matrix that we will use as an input to [netzoo](netzoo.github.io) tools. Intuitively, since we are computing the correlation between two genes across several samples, we need to normalize between samples. In other words, the features of the genes such length and proportion of reads coverd do not have an effect since they are the same across all samples. We can see this more clearly when we consider the following formula for the Pearson Correlation Coefficient (PCC):\n",
    "\n",
    "\\begin{equation}\n",
    "r = \\frac{Z_{X}Z_{Y}}{n}\n",
    "\\end{equation}\n",
    "\n",
    ", where $X$ and $Y$ are two gene expression vectors across $n$ samples, $Z_{X}$ and $Z_{Y}$ are z-scored $X$ and $Y$, and $r$ is the PCC between $X$ and $Y$. We see that, owing to the definition of a z-score, we need to be able to do between-sample comparisons rather than within-sample.\n",
    "\n",
    "We will use the Variance Stabilisation Transform (VST)<sup>6</sup> method to do between-sample normalization. This method is available through the DESeq2<sup>7</sup> package. VST allows to reduce the dependence between the mean and the variance for gene expression data. By ensuring the homoscedasticity of the gene expression samples, VST reduces the sample-induced variance and allows to compare the samples between them. Other methods such as rlog<sup>7</sup>, and edgeR's TMM<sup>8</sup> allow to correct for sample-specific variance and qsmooth<sup>9</sup> which is particularly interesting for correcting between-sample variation but keeping the between-group differences in a case versus control setting."
   ]
  },
  {
   "cell_type": "code",
   "execution_count": null,
   "metadata": {},
   "outputs": [],
   "source": [
    "countMat=SummarizedExperiment::assay(rse_gene, 1)\n",
    "vsd <- vst(countMat, blind=FALSE)\n",
    "meanSdPlot(vsd)"
   ]
  },
  {
   "cell_type": "markdown",
   "metadata": {},
   "source": [
    "The plot show that the variance is indeed closer to 1 across all mean gene expression levels."
   ]
  },
  {
   "cell_type": "markdown",
   "metadata": {},
   "source": [
    "## 3.6. Average isoforms\n",
    "Finally, there could be transcript isoforms coding for the same gene. The simplest way to address this question would be to average them. First, we label the variance corrected gene expression matrix with gene and sample names."
   ]
  },
  {
   "cell_type": "code",
   "execution_count": null,
   "metadata": {},
   "outputs": [],
   "source": [
    "colnames(vsd)=patientSymbol\n",
    "rownames(vsd)=geneSymbol[-indFilter]"
   ]
  },
  {
   "cell_type": "markdown",
   "metadata": {},
   "source": [
    "Then we use the `avearrays` function to average duplicates."
   ]
  },
  {
   "cell_type": "code",
   "execution_count": null,
   "metadata": {},
   "outputs": [],
   "source": [
    "vsd=avearrays(t(vsd))\n",
    "vsd=as.data.frame(t(vsd))"
   ]
  },
  {
   "cell_type": "markdown",
   "metadata": {},
   "source": [
    "The new gene expression matrix has 25244 genes across 544 samples."
   ]
  },
  {
   "cell_type": "code",
   "execution_count": null,
   "metadata": {},
   "outputs": [],
   "source": [
    "vsd"
   ]
  },
  {
   "cell_type": "markdown",
   "metadata": {},
   "source": [
    "# 4. Processing GTEx data\n",
    "\n",
    "We could be interested in doing a comparative analysis of cancer kidney tissue and normal kidney using both TCGA and GTEX. Since Recount uniformly processed gene expression in these dataset, the variability due to alignemnt methods is reduced considerbaly.\n",
    "\n",
    "Therefore, we process the normal kidney gene expression data from GTEx following the same pipeline"
   ]
  },
  {
   "cell_type": "code",
   "execution_count": null,
   "metadata": {},
   "outputs": [],
   "source": [
    "load(paste0(ppath,\"rse_gene_kidney_gtex.rdata\"))"
   ]
  },
  {
   "cell_type": "markdown",
   "metadata": {},
   "source": [
    "Only keep protein-coding genes. If you are importing GTEx data using Recount3, replace `rowDataRse$symbol[i][[1]][1]` with `rowDataRse@listData$gene_name[i][[1]][1]`."
   ]
  },
  {
   "cell_type": "code",
   "execution_count": null,
   "metadata": {},
   "outputs": [],
   "source": [
    "rowDataRse=rowData(rse_gene)\n",
    "geneIds       = c()\n",
    "geneSymbol    = c()\n",
    "geneEntrezIds = c()\n",
    "# First remove pseudogenes\n",
    "usingEntrezGeneIDs=1\n",
    "if(usingEntrezGeneIDs==1){\n",
    "  for(i in 1:dim(rowDataRse)[1]){\n",
    "    if(!is.na(rowDataRse$symbol[i][[1]][1])){\n",
    "      geneIds       = c(geneIds,i)\n",
    "      geneSymbol    = c(geneSymbol,rowDataRse$symbol[i][[1]][1])\n",
    "      geneEntrezIds = c(geneEntrezIds, substr(rowDataRse$gene_id[i],1,15))\n",
    "    }\n",
    "  }\n",
    "}"
   ]
  },
  {
   "cell_type": "markdown",
   "metadata": {},
   "source": [
    "Filtering coding-genes produces 25526 genes across 36 samples."
   ]
  },
  {
   "cell_type": "code",
   "execution_count": null,
   "metadata": {},
   "outputs": [],
   "source": [
    "rse_gene=rse_gene[geneIds,]\n",
    "rse_gene"
   ]
  },
  {
   "cell_type": "markdown",
   "metadata": {},
   "source": [
    "Filtering low counts. There are 611 low-expressed genes."
   ]
  },
  {
   "cell_type": "code",
   "execution_count": null,
   "metadata": {},
   "outputs": [],
   "source": [
    "countMat=SummarizedExperiment::assay(rse_gene, 1)\n",
    "length(which(rowSums(countMat) <= 1))\n",
    "indFilter = which(rowSums(countMat) <= 1)\n",
    "rse_gene=rse_gene[-indFilter,]\n",
    "rse_gene"
   ]
  },
  {
   "cell_type": "markdown",
   "metadata": {},
   "source": [
    "The new matrix size has 24915 genes across 36 samples. Then, we normalize using vsd."
   ]
  },
  {
   "cell_type": "code",
   "execution_count": null,
   "metadata": {},
   "outputs": [],
   "source": [
    "countMat=SummarizedExperiment::assay(rse_gene, 1)\n",
    "vsd <- vst(countMat, blind=FALSE)\n",
    "meanSdPlot(vsd)"
   ]
  },
  {
   "cell_type": "markdown",
   "metadata": {},
   "source": [
    "Then, average isoforms"
   ]
  },
  {
   "cell_type": "code",
   "execution_count": null,
   "metadata": {},
   "outputs": [],
   "source": [
    "rownames(vsd)=geneSymbol[-indFilter]"
   ]
  },
  {
   "cell_type": "code",
   "execution_count": null,
   "metadata": {},
   "outputs": [],
   "source": [
    "vsd=avearrays(t(vsd))\n",
    "vsd=as.data.frame(t(vsd))\n",
    "vsd"
   ]
  },
  {
   "cell_type": "markdown",
   "metadata": {},
   "source": [
    "The final gene expression matrix for normal kidney has 24640 genes across 36 samples."
   ]
  },
  {
   "cell_type": "markdown",
   "metadata": {},
   "source": [
    "# References\n",
    "\n",
    "1- Gao, Galen F., et al. \"Before and after: comparison of legacy and harmonized TCGA genomic data commons’ data.\" Cell systems 9.1 (2019): 24-34.\n",
    "\n",
    "2- Collado-Torres, Leonardo, et al. \"Reproducible RNA-seq analysis using recount2.\" Nature biotechnology 35.4 (2017): 319-321.\n",
    "\n",
    "3- GTEx Consortium. \"The GTEx Consortium atlas of genetic regulatory effects across human tissues.\" Science 369.6509 (2020): 1318-1330.\n",
    "\n",
    "4- Mortazavi, Ali, et al. \"Mapping and quantifying mammalian transcriptomes by RNA-Seq.\" Nature methods 5.7 (2008): 621-628.\n",
    "\n",
    "5- Li, Bo, et al. \"RNA-Seq gene expression estimation with read mapping uncertainty.\" Bioinformatics 26.4 (2010): 493-500.\n",
    "\n",
    "6- Love, Michael I., Wolfgang Huber, and Simon Anders. \"Moderated estimation of fold change and dispersion for RNA-seq data with DESeq2.\" Genome biology 15.12 (2014): 1-21.\n",
    "\n",
    "7- Anders, Simon, and Wolfgang Huber. \"Differential expression analysis for sequence count data.\" Nature Precedings (2010): 1-1.\n",
    "\n",
    "8- Robinson, Mark D., Davis J. McCarthy, and Gordon K. Smyth. \"edgeR: a Bioconductor package for differential expression analysis of digital gene expression data.\" Bioinformatics 26.1 (2010): 139-140.\n",
    "\n",
    "9- Hicks, Stephanie C., et al. \"Smooth quantile normalization.\" Biostatistics 19.2 (2018): 185-198."
   ]
  }
 ],
 "metadata": {
  "kernelspec": {
   "display_name": "R",
   "language": "R",
   "name": "ir"
  },
  "language_info": {
   "codemirror_mode": "r",
   "file_extension": ".r",
   "mimetype": "text/x-r-source",
   "name": "R",
   "pygments_lexer": "r",
   "version": "4.1.1"
  }
 },
 "nbformat": 4,
 "nbformat_minor": 4
}
