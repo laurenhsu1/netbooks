{
 "cells": [
  {
   "cell_type": "markdown",
   "metadata": {
    "id": "N3mdHhR3iqBR"
   },
   "source": [
    "# TIGER: Transcription Inference using Gene Expression and Regulatory data\n",
    "Author: Chen Chen<sup>1</sup>        \n",
    "<sup>1</sup>Department of Epidemiology and Biostatistics, University of Arizona, Tucson, AZ, USA\n",
    "\n",
    "## 1. Introduction\n",
    "The goal of TIGER<sup>1</sup> is to estimate gene regulatory network and transcription factor \n",
    "activities using Bayesian matrix factorization. \n",
    "\n",
    "![**Figure 1:** TIGER workflow.](./TIGER.png)\n",
    "\n",
    "TIGER is now part of the [netZooR package](https://github.com/netZoo/netZooR). You can install TIGER with other netZoo tools using the command below."
   ]
  },
  {
   "cell_type": "markdown",
   "metadata": {
    "id": "dgGmlGP7j8ob",
    "vscode": {
     "languageId": "r"
    }
   },
   "source": [
    "```R\n",
    "devtools::install_github(\"netZoo/netZooR\", build_vignettes = TRUE)\n",
    "```"
   ]
  },
  {
   "cell_type": "markdown",
   "metadata": {
    "id": "b1WnBcI-kifd"
   },
   "source": [
    "If you need help or if you have any question about netZoo, feel free to start with [discussions](https://github.com/netZoo/netZooR/discussions). To report a bug, please open a new [issue](https://github.com/netZoo/netZooR/issues). \n",
    "\n",
    "We also need Dorothea<sup>2</sup> as a database of prior knowledge interactions. Firstly, install DoRothEA R package from [Bioconductor](https://bioconductor.org/packages/release/data/experiment/html/dorothea.html)."
   ]
  },
  {
   "cell_type": "markdown",
   "metadata": {},
   "source": [
    "```R\n",
    "BiocManager::install(\"dorothea\")\n",
    "```"
   ]
  },
  {
   "cell_type": "markdown",
   "metadata": {},
   "source": [
    "We start first by loading the packages we installed"
   ]
  },
  {
   "cell_type": "code",
   "execution_count": null,
   "metadata": {},
   "outputs": [],
   "source": [
    "library(netZooR)\n",
    "library(dorothea)"
   ]
  },
  {
   "cell_type": "markdown",
   "metadata": {
    "id": "ikO9sZMCiqBV"
   },
   "source": [
    "## 2. Examples\n",
    "### 2.1 A small yeast dataset\n",
    "This is a simple example of TIGER on a small yeast dataset. TIGER requires two inputs -      \n",
    "1. a normalized expression matrix with rows as genes and column as samples;       \n",
    "2. a prior network with rows as TFs and column as genes. The network is signed and binarized (e.g., -1,0,1).       \n",
    "\n",
    "First, we examine the data input for TIGER"
   ]
  },
  {
   "cell_type": "code",
   "execution_count": null,
   "metadata": {},
   "outputs": [],
   "source": [
    "data(TIGER_expr)"
   ]
  },
  {
   "cell_type": "code",
   "execution_count": null,
   "metadata": {},
   "outputs": [],
   "source": [
    "data(TIGER_prior)"
   ]
  },
  {
   "cell_type": "markdown",
   "metadata": {},
   "source": [
    "We reduce the data to only a fraction of genes to speed up the analysis"
   ]
  },
  {
   "cell_type": "code",
   "execution_count": null,
   "metadata": {},
   "outputs": [],
   "source": [
    "TIGER_expr = TIGER_expr[1:10,]"
   ]
  },
  {
   "cell_type": "code",
   "execution_count": null,
   "metadata": {},
   "outputs": [],
   "source": [
    "TIGER_prior = TIGER_prior[1:10,]"
   ]
  },
  {
   "cell_type": "markdown",
   "metadata": {},
   "source": [
    "Now, we run TIGER with default parameters"
   ]
  },
  {
   "cell_type": "code",
   "execution_count": null,
   "metadata": {
    "id": "-Hou1klkiqBW",
    "vscode": {
     "languageId": "r"
    }
   },
   "outputs": [],
   "source": [
    "ss = TIGER(TIGER_expr,TIGER_prior)\n",
    "\n",
    "#Print the TFA score in first three samples\n",
    "tgres = ss$Z\n",
    "tgres[,1:3]"
   ]
  },
  {
   "cell_type": "markdown",
   "metadata": {
    "id": "eK64hOkAiqBW"
   },
   "source": [
    "### 2.2 Work with DoRothEA prior\n",
    "TIGER provides some convenient functions to work with DoRothEA prior database. "
   ]
  },
  {
   "cell_type": "markdown",
   "metadata": {
    "id": "PxxGdmbRiqBW"
   },
   "source": [
    "DoRothEA provides regulons for two species - human and mouse. For example, if we have a human cancer expression matrix and want to estimate the TFA in each cancer sample, then we can use the following code to prepare the prior network."
   ]
  },
  {
   "cell_type": "code",
   "execution_count": null,
   "metadata": {
    "id": "gfYdont3iqBX",
    "vscode": {
     "languageId": "r"
    }
   },
   "outputs": [],
   "source": [
    "## load dorothea pancancer database\n",
    "df = dorothea::dorothea_hs_pancancer\n",
    "\n",
    "## convert it to TIGER prior format (e.g., adjacency matrix) \n",
    "prior_cancer = el2adj(df[,-2])"
   ]
  },
  {
   "cell_type": "markdown",
   "metadata": {},
   "source": [
    "Then, we can make call `TIGER` on our gene expression matrix `your_expr` as in the following code snippet."
   ]
  },
  {
   "cell_type": "markdown",
   "metadata": {},
   "source": [
    "```\n",
    "Run TIGER using your expression matrix and the cancer prior network\n",
    "TIGER(your_expr,prior_cancer)\n",
    "```"
   ]
  },
  {
   "cell_type": "markdown",
   "metadata": {
    "id": "pC2qNaVUuPq4"
   },
   "source": [
    "## Reference\n",
    "1- Chen, Chen, and Megha Padi. \"Joint inference of transcription factor activity and context-specific regulatory networks.\" bioRxiv (2022): 2022-12.\n",
    "\n",
    "2- Garcia-Alonso, Luz, et al. \"Benchmark and integration of resources for the estimation of human transcription factor activities.\" Genome research 29.8 (2019): 1363-1375."
   ]
  }
 ],
 "metadata": {
  "anaconda-cloud": "",
  "colab": {
   "provenance": []
  },
  "kernelspec": {
   "display_name": "R",
   "language": "R",
   "name": "ir"
  },
  "language_info": {
   "codemirror_mode": "r",
   "file_extension": ".r",
   "mimetype": "text/x-r-source",
   "name": "R",
   "pygments_lexer": "r",
   "version": "4.2.2"
  }
 },
 "nbformat": 4,
 "nbformat_minor": 1
}
