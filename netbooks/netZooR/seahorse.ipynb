{
 "cells": [
  {
   "cell_type": "markdown",
   "metadata": {},
   "source": [
    "# Uncovering Associations among Genes and Phenotypes with SEAHORSE\n",
    "Author: Enakshi Saha<sup>1</sup>\n",
    "\n",
    "<sup>1</sup>Department of Biostatistics, Harvard T. H. Chan School of Public Health, Boston, MA, USA."
   ]
  },
  {
   "cell_type": "markdown",
   "metadata": {},
   "source": [
    "# 1. Introduction\n",
    "\n",
    "SEAHORSE (Serendipity Engine Assaying Heterogenous Omics-Related Sampling Experiments) is a tool for exploratory data analysis designed to allow users to identify both expected and unexpected associations within large data sets; SEAHORSE allows users to ask and answer questions about individual variables or cohorts. Given gene expression and clinical data from a particular cohort such as a specific tissue from the Genotype Tissue Expression (GTEx) Project or a particular cancer type from The CancerGenome Atlas (TCGA), seahorse identifies pairs of most correlated genes, and also genes and biological pathways strongly associated to any given phenotype.\n",
    "\n",
    "You need to set the `runserver` parameter to 1, if you're running this vignette on the server. Otherwise, if the vignette is ran locally this parameter has to be set to 0.\n"
   ]
  },
  {
   "cell_type": "code",
   "execution_count": null,
   "metadata": {},
   "outputs": [],
   "source": [
    "runserver=1"
   ]
  },
  {
   "cell_type": "markdown",
   "metadata": {},
   "source": [
    "If you are running this vignette locally, you need to download the data set first before running the script."
   ]
  },
  {
   "cell_type": "markdown",
   "metadata": {},
   "source": [
    "Next, we need to load the SEAHORSE functions. A description of function inputs is provided below:"
   ]
  },
  {
   "cell_type": "markdown",
   "metadata": {},
   "source": [
    "```\n",
    "Description:\n",
    "               SEAHORSE computes gene-gene coexpression matrix,\n",
    "               associations between a set of given phenotypes and each gene,\n",
    "               performs gene set enrichment analysis (GSEA) for each phenotype,\n",
    "               using the measures of association.\n",
    "               GSEA is performed through R package \"fgsea\".\n",
    "               The measures of association \n",
    "               for a numerical phenotype is Pearson correlation and\n",
    "               for a categorical phenotype is the p-value of an ANOVA test\n",
    "                \n",
    "\n",
    "Inputs:\n",
    "@param expression : gene expression matrix (normalized, and filtered) \n",
    "                     with rows as genes and columns as samples.\n",
    "                     Row and column names must be present.\n",
    "                     Row names must be HGNC symbols.\n",
    "                     Column names must match the row names of the phenotype matrix.\n",
    " @param phenotype : phenotype matrix\n",
    "                    with rows as samples and columns as phenotype variables.\n",
    " @param phenotype_dictionary : a vector of strings\n",
    "                               containing type of each phenotype.\n",
    "                               Types can be either \"numeric\" or \"categorical\" \n",
    " @param pathways : a list of pathways (e.g. KEGG, GO, Reactome etc. \n",
    "                   downloaded from http://www.gsea-msigdb.org/gsea/msigdb/human/collections.jsp)\n",
    " Outputs:\n",
    " @return results    : a list containing three objects\n",
    "         results$coexpression: a gene x gene Pearson correlation matrix.\n",
    "         results$phenotype_association : a list containing a vector for each phenotype\n",
    "         results$GSEA: a list containing a matrix of GSEA results for each phenotype\n",
    "\n",
    " @examples\n",
    "\n",
    " expression_data = data.frame(matrix(rexp(200, rate=.1), ncol=10, nrow = 20))\n",
    " rownames(expression_data) = paste(\"gene\", 1:20, sep = \"\")\n",
    " colnames(expression_data) = paste(\"sample\", 1:10, sep = \"\")\n",
    " \n",
    " phenotype_data = data.frame(matrix(0, ncol=2, nrow = 10))\n",
    " colnames(phenotype_data) = c(\"sex\", \"height\")\n",
    " rownames(phenotype_data) = colnames(expression_data)\n",
    " phenotype_data$sex = c(rep(\"male\", nrow(phenotype_data)/2), rep(\"female\", nrow(phenotype_data)/2))\n",
    " phenotype_data$height = 65 + sample.int(10, nrow(phenotype_data), replace = T)\n",
    " \n",
    " phenotype_dictionary = c(\"categorical\", \"numeric\")\n",
    " \n",
    " pathways = list()\n",
    " pathways$pathway1 = sample(rownames(expression_data), 5)\n",
    " pathways$pathway2 = sample(rownames(expression_data), 3)\n",
    " pathways$pathway1 = sample(rownames(expression_data), 7)\n",
    "\n",
    "# Run seahorse\n",
    "results <- seahorse(expression_data, phenotype_data, phenotype_dictionary, pathways)\n",
    "```"
   ]
  },
  {
   "cell_type": "markdown",
   "metadata": {},
   "source": [
    "The first SEAHORSE function runs GSEA for a numeric phenotype."
   ]
  },
  {
   "cell_type": "code",
   "execution_count": null,
   "metadata": {},
   "outputs": [],
   "source": [
    "gsea_numeric <- function(expression, pheno, pathways, results){\n",
    "  output_seahorse = list()\n",
    "  output_seahorse$cor = list()\n",
    "  output_seahorse$GSEA = list()\n",
    "  \n",
    "  phenotype_vector = as.numeric(pheno)\n",
    "  cor = unlist(apply(expression, MARGIN=1, function(x){cor(as.numeric(x), phenotype_vector, use=\"pairwise.complete.obs\")}))\n",
    "  output_seahorse$cor = cor\n",
    "  \n",
    "  # Run GSEA\n",
    "  cor_rank = sort(cor, decreasing = T)\n",
    "  fgseaRes <- fgsea(pathways, cor_rank, minSize=15, maxSize=500)\n",
    "  output_seahorse$GSEA = fgseaRes\n",
    "  \n",
    "  return(output_seahorse)\n",
    "}"
   ]
  },
  {
   "cell_type": "markdown",
   "metadata": {},
   "source": [
    "The following SEAHORSE function runs GSEA for a categorical phenotype."
   ]
  },
  {
   "cell_type": "code",
   "execution_count": null,
   "metadata": {},
   "outputs": [],
   "source": [
    "gsea_categorical <- function(expression, pheno, pathways, results){\n",
    "  output_seahorse = list()\n",
    "  output_seahorse$cor = list()\n",
    "  output_seahorse$GSEA = list()\n",
    "  \n",
    "  phenotype_vector = factor(as.character(pheno))\n",
    "  cor = unlist(apply(expression, MARGIN=1, function(x){anova(lm(as.numeric(x)~phenotype_vector))$`Pr(>F)`[1]}))\n",
    "  output_seahorse$cor = cor\n",
    "  \n",
    "  # Run GSEA\n",
    "  cor_rank = sort(cor, decreasing = T)\n",
    "  fgseaRes <- fgsea(pathways, cor_rank, minSize=15, maxSize=500, scoreType = \"pos\")\n",
    "  output_seahorse$GSEA = fgseaRes\n",
    "  \n",
    "  return(output_seahorse)\n",
    "}"
   ]
  },
  {
   "cell_type": "markdown",
   "metadata": {},
   "source": [
    "Finally, this is the main SEAHORSE function that puts everything together."
   ]
  },
  {
   "cell_type": "code",
   "execution_count": null,
   "metadata": {},
   "outputs": [],
   "source": [
    "seahorse <- function(expression, phenotype, phenotype_dictionary, pathways){\n",
    "  set.seed(0)\n",
    "  library(fgsea)\n",
    "  \n",
    "  results = list()\n",
    "  \n",
    "  # Compute coexpression of genes\n",
    "  results$coexpression = cor(t(expression), use=\"pairwise.complete.obs\")\n",
    "  \n",
    "  # Compute association of gene expression with phenotypes and run GSEA\n",
    "  results$phenotype_association = list()\n",
    "  results$GSEA = list()\n",
    "  \n",
    "  for (i in 1:ncol(phenotype)){\n",
    "    pheno = phenotype[,i]\n",
    "    pheno_name = colnames(phenotype)[i]\n",
    "    \n",
    "    if (phenotype_dictionary[i] == \"numeric\"){\n",
    "      output_seahorse = gsea_numeric(expression, pheno, pathways, results)\n",
    "    }else {output_seahorse = gsea_categorical(expression, pheno, pathways, results)}\n",
    "    results$phenotype_association[[pheno_name]] = output_seahorse$cor\n",
    "    results$GSEA[[pheno_name]] = output_seahorse$GSEA\n",
    "  }\n",
    "  return(results)\n",
    "}"
   ]
  },
  {
   "cell_type": "markdown",
   "metadata": {},
   "source": [
    "We also need to load the package fgsea to run gene set enrichment analysis."
   ]
  },
  {
   "cell_type": "code",
   "execution_count": null,
   "metadata": {},
   "outputs": [],
   "source": [
    "library(fgsea)"
   ]
  },
  {
   "cell_type": "markdown",
   "metadata": {},
   "source": [
    "# 2. A Simple Example with Toy Data Generated from GTEx Lung Samples\n",
    "We download TPM-normalized RNAseq data from http://gtexportal.org/ and select 200 random lung tissue samples from the GTEx (version 8) database. We choose one categorical phenotype \"SEX\" and one numeric phenotype \"HGHT\" (height) to demonstrate how SEAHORSE identifies associations from gene expression and phenotypic data.\n",
    "\n",
    "The phenotype HGHT is a dbGap-protected and is not publicly available. To protect data privacy we add random noise to the HGHT variable to generate toy phenotypic data for each of the 200 individuals.\n",
    "\n",
    "We filter out lowly expressed genes (genes with count < 1TPM in at least 5% of all samples).\n",
    "\n",
    "The expression and the phenotypic data can be downloaded as below."
   ]
  },
  {
   "cell_type": "code",
   "execution_count": null,
   "metadata": {},
   "outputs": [],
   "source": [
    "if (runserver==0){\n",
    "    system(\"curl -O  https://netzoo.s3.us-east-2.amazonaws.com/netzoo/netbooks/seahorse/GTEx_lung_expression_toydata.txt\")\n",
    "    system(\"curl -O  https://netzoo.s3.us-east-2.amazonaws.com/netzoo/netbooks/seahorse/GTEx_lung_phenotype_toydata.txt\")\n",
    "}"
   ]
  },
  {
   "cell_type": "markdown",
   "metadata": {},
   "source": [
    "On the server, the expression and the phenotypic data can be loaded as follows:"
   ]
  },
  {
   "cell_type": "code",
   "execution_count": null,
   "metadata": {},
   "outputs": [],
   "source": [
    "file_path = \"/opt/data/netZooR/seahorse/\"\n",
    "# Load expression data\n",
    "expression_data <- read.csv(paste0(file_path, \"GTEx_lung_expression_toydata.txt\"), sep=\"\")\n",
    "# Load phenotypic data\n",
    "phenotype_data <- read.csv(paste0(file_path, \"GTEx_lung_phenotype_toydata.txt\"), sep=\"\")"
   ]
  },
  {
   "cell_type": "markdown",
   "metadata": {},
   "source": [
    "Let us first print the first 5 rows of the phenotypic data to see what kinds of phenotypes we have."
   ]
  },
  {
   "cell_type": "code",
   "execution_count": null,
   "metadata": {},
   "outputs": [],
   "source": [
    "head(phenotype_data)"
   ]
  },
  {
   "cell_type": "markdown",
   "metadata": {},
   "source": [
    "We need to create a vector of same length as the number of phenotypes recording the type (\"numeric\" or \"categorical\") of each phenotypic variable. We see from above that \"SEX\" is a categorical variable with two categories and \"HGHT\" is a numeric variable.\n"
   ]
  },
  {
   "cell_type": "code",
   "execution_count": null,
   "metadata": {},
   "outputs": [],
   "source": [
    "phenotype_dictionary = c(\"categorical\", \"numeric\")"
   ]
  },
  {
   "cell_type": "markdown",
   "metadata": {},
   "source": [
    "Next we load a list of biological pathways to perform gene set enrichment analysis for every phenotypic variable, using the association between each gene and the phenotype under consideration. Here we use the KEGG biological pathways downloaded from https://www.gsea-msigdb.org/gsea/msigdb/human/genesets.jsp?collection=H that contains 187 pathways. The pathway file can be downloaded as below:"
   ]
  },
  {
   "cell_type": "code",
   "execution_count": null,
   "metadata": {},
   "outputs": [],
   "source": [
    "if (runserver==0){\n",
    "    system(\"curl -O  https://netzoo.s3.us-east-2.amazonaws.com/netzoo/netZooR/tutorial_datasets/seahorse/c2.cp.kegg.v2022.1.Hs.symbols.gmt\")\n",
    "}"
   ]
  },
  {
   "cell_type": "markdown",
   "metadata": {},
   "source": [
    "On the server, the list of pathways can be loaded as follows:"
   ]
  },
  {
   "cell_type": "code",
   "execution_count": null,
   "metadata": {},
   "outputs": [],
   "source": [
    "# Load KEGG pathways\n",
    "pathways_KEGG <- gmtPathways(paste0(file_path, \"c2.cp.kegg.v2022.1.Hs.symbols.gmt\"))"
   ]
  },
  {
   "cell_type": "markdown",
   "metadata": {},
   "source": [
    "Finally, we run SEAHORSE using the gene expression and the phenotypic data, the phenotype dictionary vector we created and the list of pathways."
   ]
  },
  {
   "cell_type": "code",
   "execution_count": null,
   "metadata": {},
   "outputs": [],
   "source": [
    "results = seahorse(expression = expression_data, phenotype = phenotype_data, \n",
    "                   phenotype_dictionary, pathways = pathways_KEGG)"
   ]
  },
  {
   "cell_type": "markdown",
   "metadata": {},
   "source": [
    "The SEAHORSE output contains three components: \n",
    "- the coexpression matrix containing Pearson's correlation for every pair of genes.\n",
    "- the measure of association between every gene and every phenotype.\n",
    "- a table containing the results from gene set enrichment analysis (GSEA) for every phenotype.\n",
    "\n",
    "Let us examine each component one by one.\n",
    "\n",
    "First, the gene-gene coexpression matrix can be used to identify most correlated genes. For example, suppose we are interested to find top 10 genes most strongly correlated (positive or negative correlation) with the gene \"EGFR\". The mutated forms of the EGFR gene have been found in some types of cancer, including non-small cell lung cancer."
   ]
  },
  {
   "cell_type": "code",
   "execution_count": null,
   "metadata": {},
   "outputs": [],
   "source": [
    "# Coexpression matrix\n",
    "cor = results$coexpression\n",
    "# Coexpression of all genes with EGFR\n",
    "cor_EGFR = cor[which(rownames(cor) == \"EGFR\"),]\n",
    "# Top 10 genes (excluding EGFR itself) most correlated with EGFR\n",
    "cor_EGFR[order(abs(cor_EGFR),decreasing = T)[2:11]]"
   ]
  },
  {
   "cell_type": "markdown",
   "metadata": {},
   "source": [
    "We can identify top biological pathways that are most differentially expressed between males and females in lung tissue using the association component of the SEAHORSE results. The association between a categorical phenotype and gene expression is measured by the p-value of an ANOVA test."
   ]
  },
  {
   "cell_type": "code",
   "execution_count": null,
   "metadata": {},
   "outputs": [],
   "source": [
    "# Correlation between height (HGHT) and all genes\n",
    "cor_sex = results$phenotype_association[[\"SEX\"]]\n",
    "# Top 10 genes most differentially expressed by sex\n",
    "cor_sex[order(cor_sex)][1:10]"
   ]
  },
  {
   "cell_type": "markdown",
   "metadata": {},
   "source": [
    "Next, we identify top genes that are most (positively or negatively) associated with height using the association component of the SEAHORSE results. The association between a numeric phenotype and gene expression is measured by the Pearson correlation coefficient."
   ]
  },
  {
   "cell_type": "code",
   "execution_count": null,
   "metadata": {},
   "outputs": [],
   "source": [
    "# Correlation between height (HGHT) and all genes\n",
    "cor_hght = results$phenotype_association[[\"HGHT\"]]\n",
    "# Top 10 genes most correlated with height (HGHT)\n",
    "cor_hght[order(abs(cor_hght), decreasing = T)][1:10]"
   ]
  },
  {
   "cell_type": "markdown",
   "metadata": {},
   "source": [
    "We can also identify the biological pathways significantly correlated (say, at a false discovery rate cutoff 0.05) with height in the lung tissue. The following code prints top 5 biological pathways most associated with height."
   ]
  },
  {
   "cell_type": "code",
   "execution_count": null,
   "metadata": {},
   "outputs": [],
   "source": [
    "# Gene set enrichment analysis results for height (HGHT)\n",
    "GSEA_hght = results$GSEA[[\"HGHT\"]]\n",
    "# Top 5 biological pathways most associated with height.\n",
    "GSEA_hght[order(GSEA_hght$padj),][1:5,]"
   ]
  },
  {
   "cell_type": "markdown",
   "metadata": {},
   "source": [
    "# References\n",
    "\n",
    "1- Ben Guebila, Marouen, Tian Wang, Camila M. Lopes-Ramos, Viola Fanfani, Des Weighill, Rebekka Burkholz, Daniel Schlauch et al. \"The Network Zoo: a multilingual package for the inference and analysis of gene regulatory networks.\" Genome Biology 24, no. 1 (2023): 45.\n",
    "\n",
    "2- Lonsdale, John, Jeffrey Thomas, Mike Salvatore, Rebecca Phillips, Edmund Lo, Saboor Shad, Richard Hasz et al. \"The genotype-tissue expression (GTEx) project.\" Nature genetics 45, no. 6 (2013): 580-585.\n",
    "\n",
    "3- Data Coordinating Center Burton Robert 67 Jensen Mark A 53 Kahn Ari 53 Pihl Todd 53 Pot David 53 Wan Yunhu 53, and Tissue Source Site Levine Douglas A 68. \"The cancer genome atlas pan-cancer analysis project.\" Nature genetics 45, no. 10 (2013): 1113-1120.\n",
    "\n",
    "4- Kanehisa, Minoru. \"The KEGG database.\" In ‘In Silico’Simulation of Biological Processes: Novartis Foundation Symposium 247, vol. 247, pp. 91-103. Chichester, UK: John Wiley & Sons, Ltd, 2002.\n",
    "\n",
    "5- Mailman, Matthew D., Michael Feolo, Yumi Jin, Masato Kimura, Kimberly Tryka, Rinat Bagoutdinov, Luning Hao et al. \"The NCBI dbGaP database of genotypes and phenotypes.\" Nature genetics 39, no. 10 (2007): 1181-1186."
   ]
  }
 ],
 "metadata": {
  "kernelspec": {
   "display_name": "RV11",
   "language": "R",
   "name": "rv11"
  },
  "language_info": {
   "codemirror_mode": "r",
   "file_extension": ".r",
   "mimetype": "text/x-r-source",
   "name": "R",
   "pygments_lexer": "r",
   "version": "4.2.2"
  }
 },
 "nbformat": 4,
 "nbformat_minor": 5
}
