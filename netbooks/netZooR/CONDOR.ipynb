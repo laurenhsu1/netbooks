{
 "cells": [
  {
   "cell_type": "markdown",
   "metadata": {},
   "source": [
    "# Using CONDOR for community detection in bipartite graphs\n",
    "Author: John Platig<sup>1</sup>\n",
    "\n",
    "<sup>1</sup> Channing Division of Network Medicine, Department of Medicine, Brigham and Women’s Hospital and Harvard Medical School, Boston, MA, USA."
   ]
  },
  {
   "cell_type": "markdown",
   "metadata": {
    "lines_to_next_cell": 0
   },
   "source": [
    "# 1. Introduction\n",
    "COmplex Network Description Of Regulators (CONDOR) implements methods for clustering bipartite networks and estimating the contribution of each node to its community's modularity. For an application of this method to identify diesease-associated single nucleotide polymorphisms, see<sup>1</sup> (https://journals.plos.org/ploscompbiol/article?id=10.1371/journal.pcbi.1005033).\n",
    "\n",
    "## Implementing the Bipartite Modularity Maximization\n",
    "The code in **condor.modularity.max** is an implementation of the method described in Michael Barber's paper<sup>2</sup> **Modularity and community detection in bipartite networks** ([Phys. Rev. E 76, 066102 (2007)](https://journals.aps.org/pre/abstract/10.1103/PhysRevE.76.066102)). A few general comments:\n",
    "\n",
    "-  Maximizing bipartite modularity is an NP-hard problem\n",
    "-  This method is heuristic and can depend on initial assignments of the nodes to communities\n",
    "-  For the implementation in **condor.cluster**, I use a non-bipartite community detection method from the **igraph** package to use as initial assignments of nodes to communities, which are then used in **condor.modularity.max**.\n",
    "-  Community structure is designed to cluster networks that form a giant connected component. All of the analysis in this package uses the giant connected component.\n",
    "\n",
    "# 2. Workflow"
   ]
  },
  {
   "cell_type": "code",
   "execution_count": null,
   "metadata": {
    "lines_to_next_cell": 0,
    "message": false,
    "warning": false
   },
   "outputs": [],
   "source": [
    "library(netZooR)"
   ]
  },
  {
   "cell_type": "markdown",
   "metadata": {
    "lines_to_next_cell": 0
   },
   "source": [
    "**condor** works with an edgelist (**elist** in the code below) as its input. "
   ]
  },
  {
   "cell_type": "code",
   "execution_count": null,
   "metadata": {
    "lines_to_next_cell": 0,
    "message": false,
    "warning": false
   },
   "outputs": [],
   "source": [
    "r = c(1,1,1,2,2,2,3,3,3,4,4);\n",
    "b = c(1,2,3,1,2,4,2,3,4,3,4);\n",
    "reds <- c(\"Alice\",\"Sue\",\"Janine\",\"Mary\")\n",
    "blues <- c(\"Bob\",\"John\",\"Ed\",\"Hank\")\n",
    "elist <- data.frame(red=reds[r], blue=blues[b])"
   ]
  },
  {
   "cell_type": "markdown",
   "metadata": {
    "lines_to_next_cell": 0
   },
   "source": [
    "In **elist**, notice all nodes of the same type--women and men in this case--appear in the same column together. This is a requirement. **create.condor.object** will throw an error if a node appears in both columns. "
   ]
  },
  {
   "cell_type": "code",
   "execution_count": null,
   "metadata": {
    "lines_to_next_cell": 0,
    "message": false,
    "warning": false
   },
   "outputs": [],
   "source": [
    "condor.object <- createCondorObject(elist)"
   ]
  },
  {
   "cell_type": "markdown",
   "metadata": {
    "lines_to_next_cell": 0
   },
   "source": [
    "A condor.object is just a list. You can look at the different items using **names**"
   ]
  },
  {
   "cell_type": "code",
   "execution_count": null,
   "metadata": {
    "lines_to_next_cell": 0,
    "message": false,
    "warning": false
   },
   "outputs": [],
   "source": [
    "names(condor.object)"
   ]
  },
  {
   "cell_type": "markdown",
   "metadata": {
    "lines_to_next_cell": 0
   },
   "source": [
    "**condor.cluster** will cluster the nodes and produce the overall modularity along with two community membership **data.frames**:"
   ]
  },
  {
   "cell_type": "code",
   "execution_count": null,
   "metadata": {
    "lines_to_next_cell": 0,
    "message": false,
    "warning": false
   },
   "outputs": [],
   "source": [
    "condor.object <- condorCluster(condor.object)\n",
    "print(condor.object$red.memb)\n",
    "print(condor.object$blue.memb)"
   ]
  },
  {
   "cell_type": "markdown",
   "metadata": {},
   "source": [
    "Nodes in first community are {Alice, John, Bob, Sue}, nodes in second community are {Ed, Janine, Hank, Mary} based on the modularity maximization. Here's a picture:"
   ]
  },
  {
   "cell_type": "code",
   "execution_count": null,
   "metadata": {
    "message": false,
    "warning": false
   },
   "outputs": [],
   "source": [
    "gtoy = graph.edgelist(as.matrix(elist),directed=FALSE)\n",
    "set.graph.attribute(gtoy, \"layout\", layout.kamada.kawai(gtoy))\n",
    "V(gtoy)[c(reds,blues)]$color <- c(rep(\"red\",4),rep(\"blue\",4))"
   ]
  },
  {
   "cell_type": "code",
   "execution_count": null,
   "metadata": {
    "fig": true,
    "message": false,
    "warning": false
   },
   "outputs": [],
   "source": [
    "plot(gtoy,vertex.label.dist=2)"
   ]
  },
  {
   "cell_type": "markdown",
   "metadata": {
    "lines_to_next_cell": 0
   },
   "source": [
    "To get each node's modularity contribution (as a fraction of the community's modularity), run"
   ]
  },
  {
   "cell_type": "code",
   "execution_count": null,
   "metadata": {
    "lines_to_next_cell": 0,
    "message": false,
    "warning": false
   },
   "outputs": [],
   "source": [
    "condor.object <- condorQscore(condor.object)"
   ]
  },
  {
   "cell_type": "markdown",
   "metadata": {},
   "source": [
    "If you have a subset of nodes that you think are more likely to lie at the cores of your communities, you can test this using **condor.core.enrich**:"
   ]
  },
  {
   "cell_type": "code",
   "execution_count": null,
   "metadata": {
    "fig": true,
    "message": false,
    "warning": false
   },
   "outputs": [],
   "source": [
    "q_women <- condor.object$qscores$red.qscore\n",
    "core_stats <- condorCoreEnrich(test_nodes=c(\"Alice\",\"Mary\"),\n",
    "                                 q=q_women,perm=TRUE,plot.hist=TRUE)"
   ]
  },
  {
   "cell_type": "markdown",
   "metadata": {
    "lines_to_next_cell": 0
   },
   "source": [
    "**condor** also works on weighted bipartite networks. The package comes with a quantitative pollination network data set (Small 1976) taken from the NCEAS interaction webs data base, containing interactions between 13 plants and 34 pollinators."
   ]
  },
  {
   "cell_type": "code",
   "execution_count": null,
   "metadata": {
    "message": false,
    "warning": false
   },
   "outputs": [],
   "source": [
    "data(small1976)\n",
    "condor.object <- createCondorObject(small1976)\n",
    "condor.object <- condorCluster(condor.object, project=F)"
   ]
  },
  {
   "cell_type": "markdown",
   "metadata": {},
   "source": [
    "We can see that this graph has a modularity of 0.52, which indicates a rich community structure."
   ]
  },
  {
   "cell_type": "code",
   "execution_count": null,
   "metadata": {
    "fig": true,
    "lines_to_next_cell": 0,
    "message": false,
    "warning": false
   },
   "outputs": [],
   "source": [
    "condorPlotHeatmap(condor.object)"
   ]
  },
  {
   "cell_type": "markdown",
   "metadata": {},
   "source": [
    "This function plots the adjacency matrix of the graph as a heatmap and then group the edges by community. The rows have the source nodes and the columns are the target nodes, and the edge weighted are represented in the heatmap. We see that the CONDOR detected 8 communities in this graph."
   ]
  },
  {
   "cell_type": "markdown",
   "metadata": {},
   "source": [
    "# References\n",
    "\n",
    "1- Platig, John, et al. \"Bipartite community structure of eQTLs.\" PLoS computational biology 12.9 (2016): e1005033.\n",
    "\n",
    "2- Barber, Michael J. \"Modularity and community detection in bipartite networks.\" Physical Review E 76.6 (2007): 066102."
   ]
  }
 ],
 "metadata": {
  "jupytext": {
   "cell_metadata_filter": "message,fig,warning,-all",
   "main_language": "R",
   "notebook_metadata_filter": "-all"
  },
  "kernelspec": {
   "display_name": "RV9",
   "language": "R",
   "name": "rv9"
  },
  "language_info": {
   "codemirror_mode": "r",
   "file_extension": ".r",
   "mimetype": "text/x-r-source",
   "name": "R",
   "pygments_lexer": "r",
   "version": "4.1.1"
  }
 },
 "nbformat": 4,
 "nbformat_minor": 4
}
