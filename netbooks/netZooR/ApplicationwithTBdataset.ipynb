{
 "cells": [
  {
   "cell_type": "markdown",
   "metadata": {},
   "source": [
    "# Uncovering gene regulation in Mycobacterium Tuberculosis using netZooR\n",
    "Author: Tian Wang<sup>1</sup>\n",
    "\n",
    "<sup>1</sup> Department of Biostatistics, Harvard T.H. Chan School of Public Health, Boston, MA."
   ]
  },
  {
   "cell_type": "markdown",
   "metadata": {},
   "source": [
    "# 1. Introduction\n",
    "\n",
    "netZooR is an R package which consists of several methods to construct, analyze and plot gene regulatory networks, including the following tools:\n",
    "\n",
    "* **PANDA**(Passing Attributes between Networks for Data Assimilation)<sup>1</sup> is a message-passing model to gene regulatory network reconstruction. It integrates multiple sources of biological data, including protein-protein interaction, gene expression, and transcription factor binding motifs information to reconstruct genome-wide, condition-specific regulatory networks.[[Glass et al. 2013]](http://journals.plos.org/plosone/article?id=10.1371/journal.pone.0064832)\n",
    "\n",
    "* **LIONESS**(Linear Interpolation to Obtain Network Estimates for Single Samples)<sup>2</sup> is a method to estimate sample-specific regulatory networks by applying linear interpolation to the predictions made by existing aggregate network inference approaches.[[Kuijjer et al. 2019]](https://www.sciencedirect.com/science/article/pii/S2589004219300872)\n",
    "\n",
    "* **CONDOR** (COmplex Network Description Of Regulators)<sup>3</sup> implements methods to cluster biapartite networks and estimatiing the contribution of each node to its community's modularity.[[Platig et al. 2016]](http://journals.plos.org/ploscompbiol/article?id=10.1371/journal.pcbi.1005033)\n",
    "\n",
    "* **ALPACA**(ALtered Partitions Across Community Architectures)<sup>4</sup> is a method to compare two genome-scale networks derived from different phenotypic states to identify condition-specific modules. [[Padi and Quackenbush 2018]](https://www.nature.com/articles/s41540-018-0052-5)\n",
    "\n",
    "In this vignette, we will run these tools on Mycobacterium Tuberculosis data to model gene regulatory processes."
   ]
  },
  {
   "cell_type": "markdown",
   "metadata": {},
   "source": [
    "The help pages for the  usage of core functions can be accessed as follows:"
   ]
  },
  {
   "cell_type": "code",
   "execution_count": null,
   "metadata": {},
   "outputs": [],
   "source": [
    "?pandaPy\n",
    "?createCondorObject\n",
    "?pandaToCondorObject\n",
    "?lionessPy\n",
    "?alpaca\n",
    "?pandaToAlpaca\n",
    "?sambar"
   ]
  },
  {
   "cell_type": "markdown",
   "metadata": {},
   "source": [
    "## 1.1. Getting Started\n",
    "\n",
    "### Prerequisites\n",
    "\n",
    "If you're running this netbook on the server, you can set the parameter `runserver` to 1 and you can skip to the [loading packages](#section_1) section."
   ]
  },
  {
   "cell_type": "code",
   "execution_count": null,
   "metadata": {},
   "outputs": [],
   "source": [
    "runserver=1"
   ]
  },
  {
   "cell_type": "markdown",
   "metadata": {},
   "source": [
    "Locally, you need to set `runserver` to 0. Using this pacakage requires [**Python**](https://www.python.org/downloads/) (3.X) and some Python libraries, [**R**](https://cran.r-project.org/) (>= 4.0).\n",
    "\n",
    "Some plotting functions will require [**Cytoscape**](https://cytoscape.org/) installed.\n",
    "\n",
    "### Required Python libraries\n",
    "\n",
    "How to install Python libraries depends varies from different platforms. More instructions could be find [here](https://packaging.python.org/tutorials/installing-packages/). \n",
    "\n",
    "The following Python libraries (or packages) are required by running PANDA and LIONESS algorithms:\n",
    "\n",
    "The required Python packages are: [pandas](https://pandas.pydata.org/), [numpy](http://www.numpy.org/), [networkx](https://networkx.github.io/), [matplotlib.pyplot](https://matplotlib.org/api/pyplot_api.html).\n",
    "\n",
    "### Installing\n",
    "netZooR package could be downloaded via `install_github()` function from `remotes` package. To install netZooR without vignettes, set the \"build_vignettes = FALSE\" argument."
   ]
  },
  {
   "cell_type": "code",
   "execution_count": null,
   "metadata": {},
   "outputs": [],
   "source": [
    "if (runserver==0){\n",
    "    is_netZooR_available <- require(\"netZooR\")\n",
    "    if (is_netZooR_available==0){\n",
    "        install.packages(\"remotes\") \n",
    "        library(remotes)\n",
    "        remotes::install_github(\"netZoo/netZooR\", build_vignettes = TRUE)\n",
    "    }\n",
    "    ppath=''\n",
    "}else{\n",
    "    ppath='/opt/data/'\n",
    "}"
   ]
  },
  {
   "cell_type": "markdown",
   "metadata": {},
   "source": [
    "<a id='section_1'></a> \n",
    "### Loading packages"
   ]
  },
  {
   "cell_type": "code",
   "execution_count": null,
   "metadata": {
    "eval": false
   },
   "outputs": [],
   "source": [
    "library(netZooR)    # For network inference\n",
    "library(viridisLite)# To visualize communities\n",
    "library(visNetwork) # For network visualization "
   ]
  },
  {
   "cell_type": "markdown",
   "metadata": {},
   "source": [
    "### Configuring Python\n",
    "\n",
    "We will run PANDA through the R-Python interface (reticulate).\n",
    "netZooR will invoke the Python in R environment through reticulate package.\n",
    "Configure which version of Python to use if necessary, here in netZooR, Python 3.X is required. \n",
    "More details can be found [here](https://cran.r-project.org/web/packages/reticulate/vignettes/versions.html)"
   ]
  },
  {
   "cell_type": "code",
   "execution_count": null,
   "metadata": {},
   "outputs": [],
   "source": [
    "if (runserver==0){\n",
    "    #check your Python configuration and the specific version of Python in use currently\n",
    "    py_config()\n",
    "    # reset to Python 3.X if necessary, like below:\n",
    "    use_python(\"/usr/local/bin/python3\")\n",
    "}"
   ]
  },
  {
   "cell_type": "markdown",
   "metadata": {},
   "source": [
    "The previous command is necessary to bind R to Python since we are calling PANDA from Python because netZooPy has an optimized implementation of PANDA. Check [this tutorial](http://netbooks.networkmedicine.org/user/marouenbg/notebooks/netZooR/panda_gtex_tutorial_server.ipynb) for an example using a pure R implementation of PANDA. However, it is only necessary when we're working locally. On this Jupyter notebook server, we just need to tell R where to find Python using this command\n",
    "\n",
    "```\n",
    "Sys.setenv(RETICULATE_PYTHON = \"/opt/anaconda3/py38/bin/python\")\n",
    "```"
   ]
  },
  {
   "cell_type": "markdown",
   "metadata": {},
   "source": [
    "## 1.2. Data Sources\n",
    "\n",
    "PANDA<sup>1</sup> builds a gene regulatory network by integrating three sources of data: 1) TF motif data, 2) TF PPI network , and 3) gene expression data. \n",
    "\n",
    "### Motif data\n",
    "An example specie-sepcific PANDA-ready transcription factor binding motif data is included in the netZooR package, which are derived from motif scan and motif info files located on https://sites.google.com/a/channing.harvard.edu/kimberlyglass/tools/resourcesby. Motif data is a data frame that contains three columns: 1) TF (source node), 2) Gene (target node), and 3) weight is binary (0/1) value to indicate the presence of a TF motif in the promoter region of the target egen.\n",
    "\n",
    "### PPI\n",
    "This package includes a function `source.PPI` to build a Protein-Protein Interactions (PPI) througt STRING database given a list of proteins of interest. The [STRINGdb](http://www.bioconductor.org/packages/release/bioc/html/STRINGdb.html) is already loaded while loading netZooR."
   ]
  },
  {
   "cell_type": "code",
   "execution_count": null,
   "metadata": {
    "eval": false
   },
   "outputs": [],
   "source": [
    "# TF is a data frame with single column filled with TFs of Mycobacterium tuberculosis H37Rv.\n",
    "motif_file_path <- system.file(\"extdata\", \"chip_matched.txt\", package = \"netZooR\", mustWork = TRUE)\n",
    "motif <- read.table(motif_file_path, sep=\"\\t\")\n",
    "# create a data frame with the TF column\n",
    "TF  <- data.frame(motif[,1])\n",
    "PPI <- sourcePPI(TF, STRING.version=\"11\", species.index=83332, score_threshold=0)\n",
    "PPI"
   ]
  },
  {
   "cell_type": "markdown",
   "metadata": {},
   "source": [
    "PPI data has three columns: 1) source node (TF), 2) target node (TF), 3) weight which a value between and 0 and 1 that indicates the strength of connection between these 2 TFs."
   ]
  },
  {
   "cell_type": "markdown",
   "metadata": {},
   "source": [
    "### TB gene expression data\n"
   ]
  },
  {
   "cell_type": "markdown",
   "metadata": {
    "lines_to_next_cell": 0
   },
   "source": [
    "We will use TB example datasets that are integrated in netZooR package.\n",
    "In this application, we will build a case and control network using 2 gene expression dataset, one transcription factor binding motifs dataset, and one protein-protein interaction datasets from the netZooR package. This data can also be fetched through AWS.\n",
    "\n",
    "Using the data in the package, we need to specify the file path of these files as follows:"
   ]
  },
  {
   "cell_type": "code",
   "execution_count": null,
   "metadata": {},
   "outputs": [],
   "source": [
    "# retrieve the file path of these files\n",
    "treated_expression_file_path <- system.file(\"extdata\", \"expr4_matched.txt\", package = \"netZooR\", mustWork = TRUE)\n",
    "control_expression_file_path <- system.file(\"extdata\", \"expr10_matched.txt\", package = \"netZooR\", mustWork = TRUE)\n",
    "motif_file_path <- system.file(\"extdata\", \"chip_matched.txt\", package = \"netZooR\", mustWork = TRUE)\n",
    "ppi_file_path   <- system.file(\"extdata\", \"ppi_matched.txt\", package = \"netZooR\", mustWork = TRUE)"
   ]
  },
  {
   "cell_type": "markdown",
   "metadata": {
    "lines_to_next_cell": 0
   },
   "source": [
    "They can be downloaded to working directory from AWS."
   ]
  },
  {
   "cell_type": "code",
   "execution_count": null,
   "metadata": {},
   "outputs": [],
   "source": [
    "if (runserver==0){\n",
    "    # case gene expression\n",
    "    system(\"curl -O  https://netzoo.s3.us-east-2.amazonaws.com/netZooR/example_datasets/expr4_matched.txt\")\n",
    "    # control gene expression\n",
    "    system(\"curl -O  https://netzoo.s3.us-east-2.amazonaws.com/netZooR/example_datasets/expr10_matched.txt\")\n",
    "    # motif data\n",
    "    system(\"curl -O  https://netzoo.s3.us-east-2.amazonaws.com/netZooR/example_datasets/chip_matched.txt\")\n",
    "    # PPI data\n",
    "    system(\"curl -O  https://netzoo.s3.us-east-2.amazonaws.com/netZooR/example_datasets/ppi_matched.txt\")\n",
    "}"
   ]
  },
  {
   "cell_type": "markdown",
   "metadata": {
    "lines_to_next_cell": 0
   },
   "source": [
    "# 3. PANDA algorithm\n",
    "\n",
    "Then, we assign the file paths defined previously in the PANDA call to `expr_file`, `motif_file`, and `ppi_file` arguments. Then we set option `rm_missing` to `TRUE` to remove TFs and genes that are not present in all three inputs.\n",
    "\n",
    "We do this operation for both case and control networks. First with the case network"
   ]
  },
  {
   "cell_type": "code",
   "execution_count": null,
   "metadata": {
    "message": false,
    "tags": [
     "remove_output"
    ]
   },
   "outputs": [],
   "source": [
    "treated_all_panda_result <- pandaPy(expr_file = treated_expression_file_path, motif_file = motif_file_path, ppi_file= ppi_file_path,modeProcess=\"legacy\",  remove_missing = TRUE )"
   ]
  },
  {
   "cell_type": "markdown",
   "metadata": {},
   "source": [
    "Then, the control network:"
   ]
  },
  {
   "cell_type": "code",
   "execution_count": null,
   "metadata": {},
   "outputs": [],
   "source": [
    "control_all_panda_result <- pandaPy(expr_file = control_expression_file_path,motif_file = motif_file_path, ppi_file= ppi_file_path,modeProcess=\"legacy\",  remove_missing = TRUE )"
   ]
  },
  {
   "cell_type": "markdown",
   "metadata": {
    "lines_to_next_cell": 0
   },
   "source": [
    "The result vector `treated_all_panda_result` and vector `control_all_panda_result` below are large lists with three elements: the entire PANDA network in the `$panda` slot, the gene targeting scores or node indegree, and the TF targeting scores or node outdegree. Use `$panda`,`$indegree` and `$outdegree` to access each list item resepctively.\n",
    "\n",
    "We can use `$panda`to access the entire PANDA network."
   ]
  },
  {
   "cell_type": "code",
   "execution_count": null,
   "metadata": {},
   "outputs": [],
   "source": [
    "treated_net <- treated_all_panda_result$panda\n",
    "control_net <- control_all_panda_result$panda\n",
    "treated_net"
   ]
  },
  {
   "cell_type": "markdown",
   "metadata": {},
   "source": [
    "The PANDA network is a data frame that has 4 columns. A source column (TFs), a target column (Genes), a binary motif column that is identical to the input motif network, and a force column that has the edge weight in the PANDA network."
   ]
  },
  {
   "cell_type": "markdown",
   "metadata": {},
   "source": [
    "## PANDA Cytoscape Plotting\n",
    "Cytoscape is an interactivity network visualization tool highly recommanded to explore the PANDA network. Before using this function `plot.panda.in.cytoscape`, please install and launch Cytoscape (3.6.1 or greater) and keep it running whenever using this function. \n",
    "\n",
    "Before, calling this function, we need to reduce the network size by selecting the top 1000 edges in PANDA network by edge weight."
   ]
  },
  {
   "cell_type": "code",
   "execution_count": null,
   "metadata": {
    "eval": false
   },
   "outputs": [],
   "source": [
    "panda.net <- head(treated_net[order(control_net$Score,decreasing = TRUE),], 1000)"
   ]
  },
  {
   "cell_type": "markdown",
   "metadata": {},
   "source": [
    "Run this function to create a network in Cytoscape (Requires a desktop installation of Cytoscape)"
   ]
  },
  {
   "cell_type": "code",
   "execution_count": null,
   "metadata": {},
   "outputs": [],
   "source": [
    "if (runserver==0){\n",
    "    visPandaInCytoscape(panda.net, network.name=\"PANDA\")\n",
    "}"
   ]
  },
  {
   "cell_type": "markdown",
   "metadata": {},
   "source": [
    "On netbooks server, we can use the visNetwork library to plot the largest 100 edges of the graph. We need to prepare the data in the required format."
   ]
  },
  {
   "cell_type": "code",
   "execution_count": null,
   "metadata": {},
   "outputs": [],
   "source": [
    "panda.net=panda.net[-3] # remove unncessary column\n",
    "num_edges <- 100 # number of edges to plot\n",
    "edges = panda.net\n",
    "colnames(edges) = c(\"from\",\"to\",\"value\")\n",
    "edges = edges[order(-edges$value),]\n",
    "edges = edges[1:num_edges,]\n",
    "\n",
    "edges$arrows = \"to\"\n",
    "edges$color = ifelse(edges$value > 0, \"green\", \"red\")\n",
    "edges$value = abs(edges$value)\n",
    "\n",
    "nodes = data.frame(id = unique(as.vector(as.matrix(edges[,c(1,2)]))), label=unique(as.vector(as.matrix(edges[,c(1,2)]))))\n",
    "nodes$group = ifelse(nodes$id %in% edges$from, \"TF\", \"gene\")"
   ]
  },
  {
   "cell_type": "markdown",
   "metadata": {},
   "source": [
    "Then, we can call visNetwork on the newly contructed data frame. TFs are yellow triangles, genes are blue circles, positive edges are colored in green, and negative edges in red."
   ]
  },
  {
   "cell_type": "code",
   "execution_count": null,
   "metadata": {},
   "outputs": [],
   "source": [
    "net <- visNetwork(nodes, edges, width = \"100%\")\n",
    "net <- visGroups(net, groupname = \"TF\", shape = \"triangle\",\n",
    "                 color = list(background = \"orange\", border=\"black\"))\n",
    "net <- visGroups(net, groupname = \"gene\", shape = \"dot\",       \n",
    "                 color = list(background = \"darkblue\", border=\"black\"))\n",
    "visLegend(net, main=\"Legend\", position=\"right\", ncol=1)"
   ]
  },
  {
   "cell_type": "markdown",
   "metadata": {},
   "source": [
    "# 4. LIONESS Algorithm \n",
    "LIONESS reconstructs single-sample networks for each gene expression sample from an aggregate network such as PANDA. LIONESS uses the same arguments as PANDA. In this example, we will run LIONESS algorithm for the first two samples. If we don't specify the `start_sample` and `end_sample` arguments, LIONESS will generate networks for all samples."
   ]
  },
  {
   "cell_type": "code",
   "execution_count": null,
   "metadata": {
    "message": false,
    "tags": [
     "remove_output"
    ]
   },
   "outputs": [],
   "source": [
    "control_lioness_result <- lionessPy(expr_file = control_expression_file_path,motif_file = motif_file_path, ppi_file= ppi_file_path,modeProcess=\"legacy\",  remove_missing = TRUE, start_sample=1, end_sample=2)\n",
    "control_lioness_result"
   ]
  },
  {
   "cell_type": "markdown",
   "metadata": {},
   "source": [
    "The output values of `lionessPy()` is a data frame where first two columns represent TFs (regulators) and Genes (targets) while the rest columns represent each sample. Each cell has the estimated edge weights calculated by LIONESS."
   ]
  },
  {
   "cell_type": "markdown",
   "metadata": {},
   "source": [
    "# 5. CONDOR Algorithm and plotting\n",
    "CONDOR allows to detect communities in gene regulatory networks, like those built by PANDA. However, there a few processing steps to make the network complient with CONDOR format.\n",
    "PANDA networks can simply be converted into condor.object by `panda.to.condor.object(panda.net, threshold)`\n",
    "Defaults option  `threshold` is the average of [median weight of non-prior edges] and [median weight of prior edges], all weights mentioned previously are transformationed with formula `w'=ln(e^w+1)` before calculating the median and average which makes all edge weights positive for CONDOR. All the edges selected will remain the orginal weights calculated by PANDA."
   ]
  },
  {
   "cell_type": "code",
   "execution_count": null,
   "metadata": {},
   "outputs": [],
   "source": [
    "treated_condor_object <- pandaToCondorObject(treated_net, threshold = 0)"
   ]
  },
  {
   "cell_type": "markdown",
   "metadata": {},
   "source": [
    "Then, CONDOR can be called on the PANDA object"
   ]
  },
  {
   "cell_type": "code",
   "execution_count": null,
   "metadata": {},
   "outputs": [],
   "source": [
    "treated_condor_object <-condorCluster(treated_condor_object,project = FALSE)"
   ]
  },
  {
   "cell_type": "markdown",
   "metadata": {
    "lines_to_next_cell": 0
   },
   "source": [
    "The result of CONDOR is community assignment for each node of the network. The communities structure can be plotted by igraph."
   ]
  },
  {
   "cell_type": "code",
   "execution_count": null,
   "metadata": {},
   "outputs": [],
   "source": [
    "treated_color_num <- max(treated_condor_object$red.memb$com)\n",
    "treated_color     <- viridis(treated_color_num, alpha = 1, begin = 0, end = 1, direction = 1, option = \"D\")\n",
    "condorPlotCommunities(treated_condor_object, color_list=treated_color, point.size=0.04, xlab=\"Genes\", ylab=\"TFs\")"
   ]
  },
  {
   "cell_type": "markdown",
   "metadata": {},
   "source": [
    "This plot shows that CONDOR estimates the TB network to have three distinct communities."
   ]
  },
  {
   "cell_type": "markdown",
   "metadata": {},
   "source": [
    "# 6. ALPACA Algorithm\n",
    "\n",
    "ALPACA compares 2 networks by detecting differences in their community structure. ALPACA can be called on 2 PANDA network for example. The function `panda.to.alpaca` allows to link both methods"
   ]
  },
  {
   "cell_type": "code",
   "execution_count": null,
   "metadata": {},
   "outputs": [],
   "source": [
    "alpaca<- pandaToAlpaca(treated_net, control_net, NULL, verbose=FALSE)"
   ]
  },
  {
   "cell_type": "markdown",
   "metadata": {},
   "source": [
    "The result list `alpaca` contains 2 slots. The first one is a community assignement for each node and the second one is a modularity score for each node, which indicates the contribution of each node to the modularity of the community that it belongs to. "
   ]
  },
  {
   "cell_type": "markdown",
   "metadata": {},
   "source": [
    "# More tutorials\n",
    "\n",
    "Browse with `browseVignettes(\"netZooR\")` locally or check [this link for cloud notebooks](http://netbooks.networkmedicine.org/).\n",
    "\n",
    "## Note\n",
    "If there is an error like `Error in fetch(key) : lazy-load database.rdb' is corrupt` when accessing the help pages of functions in this package after being loaded. It's [a limitation of base R](https://github.com/r-lib/devtools/issues/1660) and has not been solved yet. Restart R session and re-load this package will help.\n"
   ]
  },
  {
   "cell_type": "markdown",
   "metadata": {},
   "source": [
    "# References\n",
    "\n",
    "1- Glass, Kimberly, et al. \"Passing messages between biological networks to refine predicted interactions.\" PloS one 8.5 (2013): e64832.\n",
    "\n",
    "2- Kuijjer, Marieke Lydia, et al. \"Estimating sample-specific regulatory networks.\" Iscience 14 (2019): 226-240.\n",
    "\n",
    "3- Platig, John, et al. \"Bipartite community structure of eQTLs.\" PLoS computational biology 12.9 (2016): e1005033.\n",
    "\n",
    "4- Padi, Megha, and John Quackenbush. \"Detecting phenotype-driven transitions in regulatory network structure.\" NPJ systems biology and applications 4.1 (2018): 1-12.\n",
    "\n",
    "5- Kuijjer, Marieke Lydia, et al. \"Cancer subtype identification using somatic mutation data.\" British journal of cancer 118.11 (2018): 1492-1501."
   ]
  }
 ],
 "metadata": {
  "jupytext": {
   "cell_metadata_filter": "eval,tags,message,-all",
   "main_language": "R",
   "notebook_metadata_filter": "-all"
  },
  "kernelspec": {
   "display_name": "R",
   "language": "R",
   "name": "ir"
  },
  "language_info": {
   "codemirror_mode": "r",
   "file_extension": ".r",
   "mimetype": "text/x-r-source",
   "name": "R",
   "pygments_lexer": "r",
   "version": "4.2.2"
  }
 },
 "nbformat": 4,
 "nbformat_minor": 4
}
