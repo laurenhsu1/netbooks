{
 "cells": [
  {
   "cell_type": "markdown",
   "metadata": {
    "lines_to_next_cell": 0
   },
   "source": [
    "# Building PANDA Regulatory Networks from cell line and tissue expression data from GTEx Gene Expression Data in R\n",
    "Author: Camila Lopes-Ramos<sup>1</sup>\n",
    "\n",
    "<sup>1</sup> Department of Biostatistics, Harvard T.H. Chan School of Public Health, Boston, MA.\n",
    "\n",
    "# 1. Introduction\n",
    "In this vignette, we will build one regulatory network for LCL cell line samples and one for whole blood samples from the GTEx gene expression data<sup>1</sup>  using the netZooR package. Next, we will compare the two networks, and find the pathways enriched for genes differentially targeted between the LCL cell line and whole blood. \n",
    "  \n",
    "Cell lines are an essential tool in biomedical research and often used as surrogates for tissues. LCLs (obtained from the transformation of B cells present in whole blood) are among the most widely used continuous cell lines with the ability to proliferate indefinitely. By comparing the regulatory networks of LCL cell lines with its tissue of origin (whole blood), we find that LCLs exhibit large changes in their patterns of transcription factor regulation, specifically a loss of repressive transcription factor targeting of cell cycle genes<sup>2</sup>.\n",
    "\n",
    "## 1.1. Install netZooR package\n",
    "\n",
    "This notebook can be run on the server or locally by setting the following parameter."
   ]
  },
  {
   "cell_type": "code",
   "execution_count": null,
   "metadata": {},
   "outputs": [],
   "source": [
    "runserver=1"
   ]
  },
  {
   "cell_type": "markdown",
   "metadata": {},
   "source": [
    "Setting this parameter locally allows to install the packages required for this analysis."
   ]
  },
  {
   "cell_type": "code",
   "execution_count": null,
   "metadata": {
    "eval": false
   },
   "outputs": [],
   "source": [
    "if(runserver==0){\n",
    "    install.packages(\"devtools\")\n",
    "    library(devtools)\n",
    "    devtools::install_github(\"netZoo/netZooR\", build_vignettes = FALSE)\n",
    "    if (!requireNamespace(\"BiocManager\", quietly = TRUE))   \n",
    "        install.packages(\"BiocManager\",repos = \"http://cran.us.r-project.org\")  \n",
    "    BiocManager::install(\"fgsea\")   \n",
    "    install.packages(\"ggplot2\")  \n",
    "    install.packages(\"reshape2\")  \n",
    "}"
   ]
  },
  {
   "cell_type": "markdown",
   "metadata": {},
   "source": [
    "It allows also to set the paths to data files for the inputs on the server."
   ]
  },
  {
   "cell_type": "code",
   "execution_count": null,
   "metadata": {},
   "outputs": [],
   "source": [
    "if(runserver==1){\n",
    "    ppath='/opt/data/'\n",
    "}else if(runserver==0){\n",
    "    ppath=''   \n",
    "}"
   ]
  },
  {
   "cell_type": "markdown",
   "metadata": {
    "lines_to_next_cell": 0
   },
   "source": [
    "## 1.2. Install and load packages\n",
    "Then, we load these required packages."
   ]
  },
  {
   "cell_type": "code",
   "execution_count": null,
   "metadata": {
    "lines_to_next_cell": 2,
    "message": false,
    "warning": false
   },
   "outputs": [],
   "source": [
    "library('netZooR')      # To load PANDA and LIONESS\n",
    "library('ggplot2')      # For plotting\n",
    "library('reshape2')     # For data processing\n",
    "library('visNetwork') # For network visualization"
   ]
  },
  {
   "cell_type": "markdown",
   "metadata": {},
   "source": [
    "We also need `fgsea` for gene enrichment analysis"
   ]
  },
  {
   "cell_type": "code",
   "execution_count": null,
   "metadata": {},
   "outputs": [],
   "source": [
    "library('fgsea')        # For gene enrichment analysis"
   ]
  },
  {
   "cell_type": "markdown",
   "metadata": {},
   "source": [
    "An example of enrichment on toy data provided with the package can be run using the following code:"
   ]
  },
  {
   "cell_type": "code",
   "execution_count": null,
   "metadata": {},
   "outputs": [],
   "source": [
    "data(examplePathways)\n",
    "data(exampleRanks)\n",
    "fgseaRes <- fgsea(pathways = examplePathways, \n",
    "                  stats    = exampleRanks,\n",
    "                  minSize  = 15,\n",
    "                  maxSize  = 500)"
   ]
  },
  {
   "cell_type": "markdown",
   "metadata": {},
   "source": [
    "# 2. PANDA\n",
    "\n",
    "## 2.1. PANDA Overview\n",
    "PANDA (Passing Attributes between Networks for Data Assimilation)<sup>2</sup> is a method for constructing gene regulatory networks. It uses message passing to find congruence between 3 different data layers: protein-protein interaction (PPI), gene expression, and transcription factor (TF) motif data.\n",
    "\n",
    "More details can be found in the published paper https://doi.org/10.1371/journal.pone.0064832.\n",
    "\n",
    "## 2.2. Building a PANDA regulatory network\n",
    "\n",
    "Now we locate our PPI and motif priors. The ppi represents physical interactions between transcription factor proteins, and is an undirected network. The transcription factor motif prior represents putative regulation events where a transcription factor binds in the promotor of a gene to regulate its expression, as predicted by the presence of transcription factor binding motifs in the promotor region of the gene. The motif prior is thus a directed network linking transcription factors to their predicted gene targets. These are small example priors for the purposes of demonstrating this method. A complete set of motif priors by species can be downloaded from: https://sites.google.com/a/channing.harvard.edu/kimberlyglass/tools/resources  \n",
    "The function source.PPI can be used to source the protein-protein interaction in the STRING database<sup>3</sup>.\n",
    "\n",
    "Let's take a look at the priors. First the motif network."
   ]
  },
  {
   "cell_type": "code",
   "execution_count": null,
   "metadata": {},
   "outputs": [],
   "source": [
    "motif <- read.delim(paste0(ppath,\"motif_subset.txt\"), stringsAsFactors=F, header=F)\n",
    "motif[1:5,]"
   ]
  },
  {
   "cell_type": "markdown",
   "metadata": {},
   "source": [
    "Then, the PPI network."
   ]
  },
  {
   "cell_type": "code",
   "execution_count": null,
   "metadata": {},
   "outputs": [],
   "source": [
    "ppi <- read.delim(paste0(ppath,\"ppi_subset.txt\"), stringsAsFactors=F, header=F)\n",
    "ppi[1:5,]"
   ]
  },
  {
   "cell_type": "markdown",
   "metadata": {},
   "source": [
    "Now we locate our expression data. As an example, we will use a subset of the GTEx<sup>1</sup> version 7 RNA-Seq data, downloaded from https://gtexportal.org/home/datasets. We start with a subset of RNA-Seq data (tpm normalized) for 1,000 genes from 130 LCL cell line samples and 407 whole blood samples that we load from the server."
   ]
  },
  {
   "cell_type": "code",
   "execution_count": null,
   "metadata": {},
   "outputs": [],
   "source": [
    "exp <- read.delim(paste0(ppath,\"expression_tpm_lcl_blood_subset.txt\"), stringsAsFactors = F, check.names = F)"
   ]
  },
  {
   "cell_type": "markdown",
   "metadata": {},
   "source": [
    "Then, we log transform the tpm normalized expression."
   ]
  },
  {
   "cell_type": "code",
   "execution_count": null,
   "metadata": {},
   "outputs": [],
   "source": [
    "exp <- log2(exp+1)"
   ]
  },
  {
   "cell_type": "markdown",
   "metadata": {},
   "source": [
    "Then, determine the number of non-NA/non-zero rows in the expression data. This is to be able to ensure that PANDA will have enough values in the vectors to calculate pearson correlations between gene expression profiles in the construction of the gene co-expression prior."
   ]
  },
  {
   "cell_type": "code",
   "execution_count": null,
   "metadata": {},
   "outputs": [],
   "source": [
    "zero_na_counts <- apply(exp, MARGIN = 1, FUN = function(x) length(x[(!is.na(x) & x!=0) ]))"
   ]
  },
  {
   "cell_type": "markdown",
   "metadata": {},
   "source": [
    "Then, we keep only genes with at least 20 valid gene expression entries"
   ]
  },
  {
   "cell_type": "code",
   "execution_count": null,
   "metadata": {},
   "outputs": [],
   "source": [
    "exp <- exp[zero_na_counts > 20,]"
   ]
  },
  {
   "cell_type": "markdown",
   "metadata": {},
   "source": [
    "and we load the sample ids of LCL samples."
   ]
  },
  {
   "cell_type": "code",
   "execution_count": null,
   "metadata": {},
   "outputs": [],
   "source": [
    "lcl_samples <-read.delim(paste0(ppath,\"LCL_samples.txt\"), header=FALSE, stringsAsFactors=FALSE)"
   ]
  },
  {
   "cell_type": "markdown",
   "metadata": {},
   "source": [
    "This allows us to select the columns of the expression matrix corresponding to the LCL samples."
   ]
  },
  {
   "cell_type": "code",
   "execution_count": null,
   "metadata": {},
   "outputs": [],
   "source": [
    "lcl_exp <- exp[,colnames(exp) %in% lcl_samples[,1]]"
   ]
  },
  {
   "cell_type": "markdown",
   "metadata": {},
   "source": [
    "Next, we load the sample ids of whole blood samples."
   ]
  },
  {
   "cell_type": "code",
   "execution_count": null,
   "metadata": {},
   "outputs": [],
   "source": [
    "wblood_samples <-read.delim(paste0(ppath,\"WholeBlood_samples.txt\"), header=FALSE, stringsAsFactors=FALSE)"
   ]
  },
  {
   "cell_type": "markdown",
   "metadata": {},
   "source": [
    "and we select the columns of the expression matrix corresponding to the whole blood samples."
   ]
  },
  {
   "cell_type": "code",
   "execution_count": null,
   "metadata": {},
   "outputs": [],
   "source": [
    "wb_exp <- exp[,colnames(exp) %in% wblood_samples[,1]]"
   ]
  },
  {
   "cell_type": "markdown",
   "metadata": {},
   "source": [
    "Now we run PANDA, pointing it to the parsed expression data, motif prior and ppi prior. We will point to the same motif and ppi priors for each PANDA run, which represents the initial putative regulatory information. We then point to the expression matrix correspoding to the LCL samples to generate the LCL regulatory network first."
   ]
  },
  {
   "cell_type": "code",
   "execution_count": null,
   "metadata": {},
   "outputs": [],
   "source": [
    "pandaLCL <- panda(motif, lcl_exp, ppi, mode=\"intersection\")\n",
    "pandaLCL"
   ]
  },
  {
   "cell_type": "markdown",
   "metadata": {},
   "source": [
    "And to the expression matrix corresponding to the whole blood samples to generate the whole blood regulatory network."
   ]
  },
  {
   "cell_type": "code",
   "execution_count": null,
   "metadata": {},
   "outputs": [],
   "source": [
    "pandaWB <- panda(motif, wb_exp, ppi, mode=\"intersection\")\n",
    "pandaWB"
   ]
  },
  {
   "cell_type": "markdown",
   "metadata": {},
   "source": [
    "The regulatory network (bipartite graph) with edge weights representing the \"likelihood\" that a transcription factor binds the promotor of and regulates the expression of a gene.  "
   ]
  },
  {
   "cell_type": "code",
   "execution_count": null,
   "metadata": {},
   "outputs": [],
   "source": [
    "regNetLCL <- pandaLCL@regNet\n",
    "regNetWB <- pandaWB@regNet\n",
    "regNetLCL[1:5,1:5]"
   ]
  },
  {
   "cell_type": "markdown",
   "metadata": {},
   "source": [
    "This dataframe represents the bipartite regulatory network (transcription factors as rows and target genes as columns)."
   ]
  },
  {
   "cell_type": "markdown",
   "metadata": {
    "lines_to_next_cell": 0
   },
   "source": [
    "# 3. Visualizing the networks\n",
    "In this section we will visualize parts of the network using the `visNetwork` package."
   ]
  },
  {
   "cell_type": "markdown",
   "metadata": {
    "lines_to_next_cell": 0
   },
   "source": [
    "## 3.1. Plot the 200 highest edge weights\n",
    "\n",
    "Because the network is at the scale of the genome, we select only the top 200 edges by edge weight for visualization."
   ]
  },
  {
   "cell_type": "code",
   "execution_count": null,
   "metadata": {},
   "outputs": [],
   "source": [
    "nDiffs= 200 # top edges to plot (top edges with largest absolute value)\n",
    "diffNet = pandaLCL@regNet\n",
    "nTFs  = dim(diffNet)[1]"
   ]
  },
  {
   "cell_type": "markdown",
   "metadata": {},
   "source": [
    "VisNetwork requires an edges dataframe describing the edges in the network and a nodes dataframe describing the nodes in the network. The edges dataframe is constriucted as follows."
   ]
  },
  {
   "cell_type": "code",
   "execution_count": null,
   "metadata": {},
   "outputs": [],
   "source": [
    "edges           = matrix(0L, nDiffs, 3)\n",
    "colnames(edges) = c(\"from\",\"to\",\"value\")\n",
    "edges = as.data.frame(edges)\n",
    "aa    = order(as.matrix(abs(diffNet)), decreasing = TRUE)\n",
    "bb    = sort(as.matrix(abs(diffNet)), decreasing = TRUE)\n",
    "edges$value  = as.matrix(diffNet)[aa[1:nDiffs]]\n",
    "geneIdsTop   = (aa[1:nDiffs] %/% dim(diffNet)[1]) + 1\n",
    "tfIdsTop     = aa[1:nDiffs] %% dim(diffNet)[1]\n",
    "tfIdsTop[tfIdsTop == 0] = nTFs\n",
    "edges$to     = colnames(diffNet)[geneIdsTop]\n",
    "edges$from   = rownames(diffNet)[tfIdsTop]                                  \n",
    "edges$arrows = \"to\"   \n",
    "edges$value  = edges$value"
   ]
  },
  {
   "cell_type": "markdown",
   "metadata": {},
   "source": [
    "The nodes dataframe describes TF and gene nodes."
   ]
  },
  {
   "cell_type": "code",
   "execution_count": null,
   "metadata": {},
   "outputs": [],
   "source": [
    "nodes       = data.frame(id = unique(as.vector(as.matrix(edges[,c(1,2)]))), \n",
    "                    label=unique(as.vector(as.matrix(edges[,c(1,2)]))))\n",
    "nodes$group = ifelse(nodes$id %in% edges$from, \"TF\", \"gene\")"
   ]
  },
  {
   "cell_type": "markdown",
   "metadata": {},
   "source": [
    "Finally, we plot the network."
   ]
  },
  {
   "cell_type": "code",
   "execution_count": null,
   "metadata": {
    "eval": false
   },
   "outputs": [],
   "source": [
    "net <- visNetwork(nodes, edges, width = \"100%\")\n",
    "net <- visGroups(net, groupname = \"TF\", shape = \"triangle\",\n",
    "                 color = list(background = \"purple\", border=\"black\"))\n",
    "net <- visGroups(net, groupname = \"gene\", shape = \"dot\",       \n",
    "                 color = list(background = \"teal\", border=\"black\"))\n",
    "visLegend(net, main=\"Legend\", position=\"right\", ncol=1) "
   ]
  },
  {
   "cell_type": "markdown",
   "metadata": {
    "lines_to_next_cell": 0
   },
   "source": [
    "## 3.2. Plot the top differential edges betwen LCL and WB\n",
    "In this case study, we are interested in comapring LCL cell lines and their tissue of origin which is blood. Therefore we can also plot the differential network between them. We define the differential network as the difference between both networks."
   ]
  },
  {
   "cell_type": "code",
   "execution_count": null,
   "metadata": {},
   "outputs": [],
   "source": [
    "nDiffs= 200 # top edges to plot (top edges with largest absolute value)\n",
    "diffNet = pandaLCL@regNet - pandaWB@regNet"
   ]
  },
  {
   "cell_type": "markdown",
   "metadata": {},
   "source": [
    "Then, we define the edges dataframe."
   ]
  },
  {
   "cell_type": "code",
   "execution_count": null,
   "metadata": {},
   "outputs": [],
   "source": [
    "edges           = matrix(0L, nDiffs, 3)\n",
    "colnames(edges) = c(\"from\",\"to\",\"value\")\n",
    "edges = as.data.frame(edges)\n",
    "aa    = order(as.matrix(abs(diffNet)), decreasing = TRUE)\n",
    "bb    = sort(as.matrix(abs(diffNet)), decreasing = TRUE)\n",
    "edges$value  = as.matrix(diffNet)[aa[1:nDiffs]]\n",
    "geneIdsTop   = (aa[1:nDiffs] %/% dim(diffNet)[1]) + 1\n",
    "tfIdsTop     = aa[1:nDiffs] %% dim(diffNet)[1]\n",
    "tfIdsTop[tfIdsTop == 0] = nTFs\n",
    "edges$to     = colnames(diffNet)[geneIdsTop]\n",
    "edges$from   = rownames(diffNet)[tfIdsTop]                                  \n",
    "edges$arrows = \"to\"   \n",
    "edges$color  = ifelse(edges$value > 0, \"green\", \"red\")\n",
    "edges$value  = abs(edges$value)"
   ]
  },
  {
   "cell_type": "markdown",
   "metadata": {},
   "source": [
    "Then, the nodes dataframe."
   ]
  },
  {
   "cell_type": "code",
   "execution_count": null,
   "metadata": {},
   "outputs": [],
   "source": [
    "nodes       = data.frame(id = unique(as.vector(as.matrix(edges[,c(1,2)]))), \n",
    "                    label=unique(as.vector(as.matrix(edges[,c(1,2)]))))\n",
    "nodes$group = ifelse(nodes$id %in% edges$from, \"TF\", \"gene\")"
   ]
  },
  {
   "cell_type": "markdown",
   "metadata": {},
   "source": [
    "Finally, we plot the network."
   ]
  },
  {
   "cell_type": "code",
   "execution_count": null,
   "metadata": {
    "eval": false,
    "message": false,
    "warning": false
   },
   "outputs": [],
   "source": [
    "net <- visNetwork(nodes, edges, width = \"100%\")\n",
    "net <- visGroups(net, groupname = \"TF\", shape = \"triangle\",\n",
    "                 color = list(background = \"purple\", border=\"black\"))\n",
    "net <- visGroups(net, groupname = \"gene\", shape = \"dot\",       \n",
    "                 color = list(background = \"teal\", border=\"black\"))\n",
    "visLegend(net, main=\"Legend\", position=\"right\", ncol=1) "
   ]
  },
  {
   "cell_type": "markdown",
   "metadata": {},
   "source": [
    "# 4. Calculating degree  \n",
    "\n",
    "Finally, we can compute gene targeting scores<sup>4</sup> as a summary statistic for all genes and TFs defined as follows:\n",
    "* out-degrees of TFs: sum of the weights of outbound edges around a TF\n"
   ]
  },
  {
   "cell_type": "code",
   "execution_count": null,
   "metadata": {},
   "outputs": [],
   "source": [
    "lcl_outdegree <- calcDegree(pandaLCL, type=\"tf\")\n",
    "wb_outdegree <- calcDegree(pandaWB, type=\"tf\")"
   ]
  },
  {
   "cell_type": "markdown",
   "metadata": {},
   "source": [
    "* in-degrees of genes: sum of the weights of inbound edges around a gene"
   ]
  },
  {
   "cell_type": "code",
   "execution_count": null,
   "metadata": {},
   "outputs": [],
   "source": [
    "lcl_indegree <- calcDegree(pandaLCL, type=\"gene\")\n",
    "wb_indegree <- calcDegree(pandaWB, type=\"gene\")"
   ]
  },
  {
   "cell_type": "markdown",
   "metadata": {},
   "source": [
    "Then, we calculate the gene in-degree difference for two different panda regulatory networks (LCL minus whole blood)."
   ]
  },
  {
   "cell_type": "code",
   "execution_count": null,
   "metadata": {},
   "outputs": [],
   "source": [
    "degreeDiff <- calcDegreeDifference(pandaLCL, pandaWB, type=\"gene\")\n",
    "head(degreeDiff)"
   ]
  },
  {
   "cell_type": "markdown",
   "metadata": {
    "lines_to_next_cell": 0
   },
   "source": [
    "# 5. Gene Set Enrichment Analysis\n",
    "Well will use the `fgsea` package to perform gene set enrichment analysis. We need to point to a ranked gene list (for example the gene in-degree difference between LCL and whole blood), and a list of gene sets (or signatures) in gmt format to test for enrichment. The gene sets can be downloaded from MSigDB: http://software.broadinstitute.org/gsea/msigdb Same gene annotation should be used in the ranked gene list and gene sets. In our example we will use the KEGG pathways downloaded from MSigDB.\n",
    "\n",
    "## 5.1. Run fgsea\n",
    "We start first by loading the pathway information database for KEGG."
   ]
  },
  {
   "cell_type": "code",
   "execution_count": null,
   "metadata": {},
   "outputs": [],
   "source": [
    "pathways <- gmtPathways(paste0(ppath,\"c2.cp.kegg.v7.0.symbols.gmt\"))"
   ]
  },
  {
   "cell_type": "markdown",
   "metadata": {},
   "source": [
    "Then, to retrieve biological-relevant processes, we will load and use the complete ranked gene list (27,175 genes) calculated from the complete network instead of the 1,000 subset genes we used in this tutorial example to build PANDA networks within a very short run time."
   ]
  },
  {
   "cell_type": "code",
   "execution_count": null,
   "metadata": {},
   "outputs": [],
   "source": [
    "degreeDiff_all <- read.delim(paste0(ppath,\"lclWB_indegreeDifference.rnk\"),stringsAsFactors = F,header=F)\n",
    "degreeDiff_all <- setNames(degreeDiff_all[,2], degreeDiff_all[,1])"
   ]
  },
  {
   "cell_type": "markdown",
   "metadata": {},
   "source": [
    "Then, we run fgsea on the ranked gene scores."
   ]
  },
  {
   "cell_type": "code",
   "execution_count": null,
   "metadata": {
    "message": false,
    "warning": false
   },
   "outputs": [],
   "source": [
    "fgseaRes <- fgsea(pathways, degreeDiff_all, minSize=15, maxSize=500, nperm=1000)\n",
    "head(fgseaRes)"
   ]
  },
  {
   "cell_type": "markdown",
   "metadata": {},
   "source": [
    "The results include patwhay name, the statistical significance of the input gene list in these pathways, and other metrics such as fold change. We can set a significance threshold to an adjusted p-value of 0.05."
   ]
  },
  {
   "cell_type": "code",
   "execution_count": null,
   "metadata": {},
   "outputs": [],
   "source": [
    "sig <- fgseaRes[fgseaRes$padj < 0.05,]"
   ]
  },
  {
   "cell_type": "markdown",
   "metadata": {},
   "source": [
    "Since we took LCL a our reference group, the pathways with negative NES are the ones less enriched in LCL. Therefore, we get the top 10 significant pathways enriched for genes having lower targeting in LCLs as follows."
   ]
  },
  {
   "cell_type": "code",
   "execution_count": null,
   "metadata": {},
   "outputs": [],
   "source": [
    "sig[order(sig$NES)[1:10],]"
   ]
  },
  {
   "cell_type": "markdown",
   "metadata": {},
   "source": [
    "## 5.2. Bubble plot of top differentially targeted pathways \n",
    "We can also visualize this result as a bubble plot that we construct as follows. First, we set some general settings fot the plot."
   ]
  },
  {
   "cell_type": "code",
   "execution_count": null,
   "metadata": {},
   "outputs": [],
   "source": [
    "dat <- data.frame(fgseaRes)\n",
    "# Settings\n",
    "fdrcut <- 0.05 # FDR cut-off to use as output for significant signatures\n",
    "dencol_neg <- \"blue\" # bubble plot color for negative ES\n",
    "dencol_pos <- \"red\" # bubble plot color for positive ES\n",
    "signnamelength <- 4 # set to remove prefix from signature names (2 for \"GO\", 4 for \"KEGG\", 8 for \"REACTOME\")\n",
    "asp <- 3 # aspect ratio of bubble plot\n",
    "charcut <- 100 # cut signature name in heatmap to this nr of characters"
   ]
  },
  {
   "cell_type": "markdown",
   "metadata": {},
   "source": [
    "Then, we modify the signature names to make them more readable."
   ]
  },
  {
   "cell_type": "code",
   "execution_count": null,
   "metadata": {},
   "outputs": [],
   "source": [
    "a <- as.character(dat$pathway) # 'a' is a great variable name to substitute row names with something more readable\n",
    "for (j in 1:length(a)){\n",
    "  a[j] <- substr(a[j], signnamelength+2, nchar(a[j]))\n",
    "}\n",
    "a <- tolower(a) # convert to lower case (you may want to comment this out, it really depends on what signatures you are looking at, c6 signatures contain gene names, and converting those to lower case may be confusing)\n",
    "for (j in 1:length(a)){\n",
    "  if(nchar(a[j])>charcut) { a[j] <- paste(substr(a[j], 1, charcut), \"...\", sep=\" \")}\n",
    "} # cut signature names that have more characters than charcut, and add \"...\"\n",
    "a <- gsub(\"_\", \" \", a)\n",
    "dat$NAME <- a"
   ]
  },
  {
   "cell_type": "markdown",
   "metadata": {},
   "source": [
    "Then we determine what signatures to plot (based on FDR cut)."
   ]
  },
  {
   "cell_type": "code",
   "execution_count": null,
   "metadata": {},
   "outputs": [],
   "source": [
    "dat2 <- dat[dat[,\"padj\"]<fdrcut,]\n",
    "dat2 <- dat2[order(dat2[,\"padj\"]),] \n",
    "dat2$signature <- factor(dat2$NAME, rev(as.character(dat2$NAME)))"
   ]
  },
  {
   "cell_type": "markdown",
   "metadata": {},
   "source": [
    "Next, we determine the labels to colors based on their NES values."
   ]
  },
  {
   "cell_type": "code",
   "execution_count": null,
   "metadata": {},
   "outputs": [],
   "source": [
    "sign_neg <- which(dat2[,\"NES\"]<0)\n",
    "sign_pos <- which(dat2[,\"NES\"]>0)"
   ]
  },
  {
   "cell_type": "markdown",
   "metadata": {},
   "source": [
    "and we assign colors to them."
   ]
  },
  {
   "cell_type": "code",
   "execution_count": null,
   "metadata": {},
   "outputs": [],
   "source": [
    "signcol <- rep(NA, length(dat2$signature))\n",
    "signcol[sign_neg] <- dencol_neg # text color of negative signatures\n",
    "signcol[sign_pos] <- dencol_pos # text color of positive signatures\n",
    "signcol <- rev(signcol) # need to revert vector of colors, because ggplot starts plotting these from below"
   ]
  },
  {
   "cell_type": "markdown",
   "metadata": {},
   "source": [
    "Finally, we draw the bubble plot."
   ]
  },
  {
   "cell_type": "code",
   "execution_count": null,
   "metadata": {
    "fig.height": 6,
    "fig.width": 7,
    "message": false,
    "warning": false
   },
   "outputs": [],
   "source": [
    "g<-ggplot(dat2, aes(x=padj,y=signature,size=size))\n",
    "g+geom_point(aes(fill=NES), shape=21, colour=\"white\")+\n",
    "  theme_bw()+ # white background, needs to be placed before the \"signcol\" line\n",
    "  xlim(0,fdrcut)+\n",
    "  scale_size_area(max_size=10,guide=\"none\")+\n",
    "  scale_fill_gradient2(low=dencol_neg, high=dencol_pos)+\n",
    "  theme(axis.text.y = element_text(colour=signcol))+\n",
    "  theme(aspect.ratio=asp, axis.title.y=element_blank()) # test aspect.ratio"
   ]
  },
  {
   "cell_type": "markdown",
   "metadata": {},
   "source": [
    "Bubble plot of gene sets (KEGG pathways) on y-axis and adjusted p-value (padj) on x-axis. Bubble size indicates the number of genes in each gene set, and bubble color indicates the normalized enrichment score (NES). Blue is for negative NES (enrichment of higher targeted genes in whole blood), and red is for positive NES (enrichment of higher targeted genes in LCL)."
   ]
  },
  {
   "cell_type": "markdown",
   "metadata": {},
   "source": [
    "# 6. References\n",
    "\n",
    "1- GTEx Consortium. \"The Genotype-Tissue Expression (GTEx) pilot analysis: multitissue gene regulation in humans.\" Science 348.6235 (2015): 648-660.\n",
    "\n",
    "2- Lopes-Ramos, Camila M., et al. \"Regulatory network changes between cell lines and their tissues of origin.\" BMC genomics 18.1 (2017): 1-13.\n",
    "\n",
    "3- Mering, Christian von, et al. \"STRING: a database of predicted functional associations between proteins.\" Nucleic acids research 31.1 (2003): 258-261.\n",
    "\n",
    "4- Weighill, Deborah, et al. \"Gene targeting in disease networks.\" Frontiers in Genetics 12 (2021): 501."
   ]
  }
 ],
 "metadata": {
  "jupytext": {
   "cell_metadata_filter": "message,eval,fig.width,fig.height,warning,tags,-all",
   "main_language": "R",
   "notebook_metadata_filter": "-all"
  },
  "kernelspec": {
   "display_name": "RP2",
   "language": "R",
   "name": "rp2"
  },
  "language_info": {
   "codemirror_mode": "r",
   "file_extension": ".r",
   "mimetype": "text/x-r-source",
   "name": "R",
   "pygments_lexer": "r",
   "version": "4.2.2"
  }
 },
 "nbformat": 4,
 "nbformat_minor": 4
}
