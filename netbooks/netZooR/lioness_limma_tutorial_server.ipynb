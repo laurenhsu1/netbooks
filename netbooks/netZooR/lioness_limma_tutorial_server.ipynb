{
 "cells": [
  {
   "cell_type": "markdown",
   "metadata": {
    "lines_to_next_cell": 0
   },
   "source": [
    "# Comparing LIONESS Regulatory Networks using limma\n",
    "Author: Camila Lopes-Ramos<sup>1</sup>\n",
    "\n",
    "<sup>1</sup> Department of Biostatistics, Harvard T.H. Chan School of Public Health, Boston, MA.\n",
    "\n",
    "# 1. Introduction\n",
    "LIONESS (Linear Interpolation to Obtain Network Estimates for Single Samples)<sup>1</sup> is a method for creating sample-specific networks. When applied to a PANDA<sup>2</sup> regulatory network, the result is a set of gene regulatory networks, one for each sample in the gene expression dataset. More information on LIONESS can be found in the published paper: https://doi.org/10.1016/j.isci.2019.03.021  \n",
    "  \n",
    "In this vignette, we will compare LIONESS regulatory networks from 207 females and 238 males with colon cancer using RNA-Seq data from TCGA<sup>3</sup>. We will compare the edge weights between females and males using a linear regression model and correcting for the covariates age, race, and disease stage, as available in the limma package. We will also compare the gene's in-degree (defined as the sum of the gene's incoming edge weights from all TFs in the network). Finally, we will perform gene set enrichment analysis to find the pathways enriched for genes differentially targeted by sex in colon cancer.\n",
    "\n",
    "## 1.1. Install and load packages\n",
    "\n",
    "This case study can be run on the server or locally by setting the followiing parameter"
   ]
  },
  {
   "cell_type": "code",
   "execution_count": null,
   "metadata": {},
   "outputs": [],
   "source": [
    "runserver=1"
   ]
  },
  {
   "cell_type": "markdown",
   "metadata": {},
   "source": [
    "Setting this parameter allows to point to the paths of input files and data for this analysis."
   ]
  },
  {
   "cell_type": "code",
   "execution_count": null,
   "metadata": {},
   "outputs": [],
   "source": [
    "if(runserver==1){\n",
    "    ppath = '/opt/data/'\n",
    "}else if(runserver==0){\n",
    "    ppath = ''\n",
    "}"
   ]
  },
  {
   "cell_type": "markdown",
   "metadata": {},
   "source": [
    "First, we need to install the required packages. They are already installed on the server."
   ]
  },
  {
   "cell_type": "code",
   "execution_count": null,
   "metadata": {},
   "outputs": [],
   "source": [
    "if(runserver==0){\n",
    "    if (!requireNamespace(\"BiocManager\", quietly = TRUE))   \n",
    "        install.packages(\"BiocManager\",repos = \"http://cran.us.r-project.org\")  \n",
    "    BiocManager::install(\"fgsea\")\n",
    "    BiocManager::install(\"limma\")\n",
    "    BiocManager::install(\"Biobase\")\n",
    "    install.packages(\"ggplot2\")\n",
    "    install.packages(\"igraph\")\n",
    "}"
   ]
  },
  {
   "cell_type": "markdown",
   "metadata": {},
   "source": [
    "Then, we need to load these packages."
   ]
  },
  {
   "cell_type": "code",
   "execution_count": null,
   "metadata": {
    "lines_to_next_cell": 2,
    "message": false,
    "warning": false
   },
   "outputs": [],
   "source": [
    "library(limma)\n",
    "library(Biobase)\n",
    "library(ggplot2)\n",
    "library(igraph)"
   ]
  },
  {
   "cell_type": "markdown",
   "metadata": {},
   "source": [
    "We load the `fgsea` package to conduct gene enrichment analysis"
   ]
  },
  {
   "cell_type": "code",
   "execution_count": null,
   "metadata": {},
   "outputs": [],
   "source": [
    "library(fgsea)"
   ]
  },
  {
   "cell_type": "markdown",
   "metadata": {},
   "source": [
    "An example snippet using toy data is presented here:"
   ]
  },
  {
   "cell_type": "code",
   "execution_count": null,
   "metadata": {},
   "outputs": [],
   "source": [
    "data(examplePathways)\n",
    "data(exampleRanks)\n",
    "fgseaRes <- fgsea(pathways = examplePathways, \n",
    "                  stats    = exampleRanks,\n",
    "                  minSize  = 15,\n",
    "                  maxSize  = 500)"
   ]
  },
  {
   "cell_type": "markdown",
   "metadata": {},
   "source": [
    "# 2. Load the data\n",
    "\n",
    "For the purposes of demonstrating the workflow, we will load only a subet of LIONESS networks. Our subset shows the edge weights for 50,000 edges (rows) by 445 samples (columns).\n",
    "Let's take a look at the networks:"
   ]
  },
  {
   "cell_type": "code",
   "execution_count": null,
   "metadata": {},
   "outputs": [],
   "source": [
    "lioness <- read.delim(paste0(ppath,\"lioness_coloncancer_subset.txt\"),stringsAsFactors = F, check.names = F)\n",
    "head(lioness[,1:5])"
   ]
  },
  {
   "cell_type": "markdown",
   "metadata": {},
   "source": [
    "We can clean this dataframe by combining TFs and their target genes as edges and add row names as \"TF_gene\"."
   ]
  },
  {
   "cell_type": "code",
   "execution_count": null,
   "metadata": {},
   "outputs": [],
   "source": [
    "rownames(lioness) <- apply(lioness, 1, function(x){\n",
    "  paste(x[1], x[2], sep=\"_\")\n",
    "})"
   ]
  },
  {
   "cell_type": "markdown",
   "metadata": {},
   "source": [
    "Then, remove TF and gene columns, to only keep sample columns."
   ]
  },
  {
   "cell_type": "code",
   "execution_count": null,
   "metadata": {},
   "outputs": [],
   "source": [
    "lioness <- lioness[,-(1:2)]\n",
    "head(lioness[,1:5])"
   ]
  },
  {
   "cell_type": "markdown",
   "metadata": {},
   "source": [
    "Next, we compute gene in-degree (sum of all edge weights for each gene) as a summary statistic for gene scores in the network to do downstream analyses ."
   ]
  },
  {
   "cell_type": "code",
   "execution_count": null,
   "metadata": {},
   "outputs": [],
   "source": [
    "load(paste0(ppath,\"inDegree_allEdges_coloncancer.rdata\"))"
   ]
  },
  {
   "cell_type": "markdown",
   "metadata": {},
   "source": [
    "We can also find the clinical information for each sample from TCGA."
   ]
  },
  {
   "cell_type": "code",
   "execution_count": null,
   "metadata": {},
   "outputs": [],
   "source": [
    "pData(obj1)[1:5,30:35]"
   ]
  },
  {
   "cell_type": "markdown",
   "metadata": {
    "lines_to_next_cell": 0
   },
   "source": [
    "# 3. Compare the edge weights\n",
    "In this part, we will do a sex difference analysis by comparing the edge weights between males and females using linear regression model (limma package) and adjusting for covariates: stage of the disease, age, race.  \n",
    "\n",
    "## 3.1. Run limma"
   ]
  },
  {
   "cell_type": "markdown",
   "metadata": {},
   "source": [
    "First, we need to define the groups by sex."
   ]
  },
  {
   "cell_type": "code",
   "execution_count": null,
   "metadata": {},
   "outputs": [],
   "source": [
    "gender <- factor(as.character(pData(obj1)$gender),levels=c(\"MALE\",\"FEMALE\"))"
   ]
  },
  {
   "cell_type": "markdown",
   "metadata": {},
   "source": [
    "Then, we define the covariates starting by cancer stage"
   ]
  },
  {
   "cell_type": "code",
   "execution_count": null,
   "metadata": {},
   "outputs": [],
   "source": [
    "stage <- (as.character(pData(obj1)$uicc_stage))\n",
    "stage[which(is.na(stage))] <- \"NA\"    \n",
    "stage <- as.factor(stage)"
   ]
  },
  {
   "cell_type": "markdown",
   "metadata": {},
   "source": [
    "Then race"
   ]
  },
  {
   "cell_type": "code",
   "execution_count": null,
   "metadata": {},
   "outputs": [],
   "source": [
    "race <- as.character(pData(obj1)$race)\n",
    "race[which(is.na(race))] <- \"NA\"\n",
    "race <- as.factor(race)"
   ]
  },
  {
   "cell_type": "markdown",
   "metadata": {},
   "source": [
    "and finally age"
   ]
  },
  {
   "cell_type": "code",
   "execution_count": null,
   "metadata": {
    "lines_to_next_cell": 0
   },
   "outputs": [],
   "source": [
    "age <- as.numeric(pData(obj1)$age_at_initial_pathologic_diagnosis)\n",
    "age[which(is.na(age))] <- mean(age,na.rm=TRUE)"
   ]
  },
  {
   "cell_type": "markdown",
   "metadata": {},
   "source": [
    "This information allows to build the design matrix for the linear model"
   ]
  },
  {
   "cell_type": "code",
   "execution_count": null,
   "metadata": {},
   "outputs": [],
   "source": [
    "design = model.matrix(~ stage + race + age + gender)"
   ]
  },
  {
   "cell_type": "markdown",
   "metadata": {},
   "source": [
    "Finally, we run the linear model"
   ]
  },
  {
   "cell_type": "code",
   "execution_count": null,
   "metadata": {},
   "outputs": [],
   "source": [
    "fitGood = lmFit(as.matrix(lioness),design)\n",
    "fitGood = eBayes(fitGood)\n",
    "tb = topTable(fitGood,coef=\"genderFEMALE\",number=Inf)\n",
    "head(tb)"
   ]
  },
  {
   "cell_type": "markdown",
   "metadata": {},
   "source": [
    "Using the female donors as reference group, we get the difference in edge weights statistics as log of fold change (logFC), p-values, and multiple-testing corrected p-values."
   ]
  },
  {
   "cell_type": "markdown",
   "metadata": {},
   "source": [
    "## 3.2. Visualize the top edges with differential weights by sex\n",
    "We select the top 50 edges with differential edge weights by sex and convert them into an igraph `graph.data.frame` object for visualization. We color edges red if they have higher coefficients in the female group, and blue if they have higher coefficients in the male group."
   ]
  },
  {
   "cell_type": "code",
   "execution_count": null,
   "metadata": {},
   "outputs": [],
   "source": [
    "toptable_edges <- t(matrix(unlist(c(strsplit(row.names(tb), \"_\"))),2))\n",
    "z <- cbind(toptable_edges[1:50,], tb$logFC[1:50])\n",
    "g <- graph.data.frame(z, directed=FALSE)\n",
    "E(g)$weight <- as.numeric(z[,3])\n",
    "E(g)$color[E(g)$weight<0] <- \"blue\"\n",
    "E(g)$color[E(g)$weight>0] <- \"red\"\n",
    "E(g)$weight <- 1\n",
    "par(mar=c(0,0,0,0))\n",
    "plot(g, vertex.label.cex=0.7, vertex.size=10,  vertex.label.font=3, edge.width=5*(abs(as.numeric(z[,3]))))"
   ]
  },
  {
   "cell_type": "markdown",
   "metadata": {
    "lines_to_next_cell": 0
   },
   "source": [
    "# 4. Compare the gene in-degree\n",
    "In this section, we will compare the gene in-degree or targeting scores<sup>4</sup> between males and females using linear regression model (limma package) and adjusting for covariates: disease stage, age, race that we can collect from the metadata in TCGA.\n",
    "\n",
    "## 4.1. Run limma\n",
    "First, we can explore teh values for these targeting scores that we computed previously for each gene."
   ]
  },
  {
   "cell_type": "code",
   "execution_count": null,
   "metadata": {},
   "outputs": [],
   "source": [
    "indegree <- assayData(obj1)[[\"quantile\"]]\n",
    "head(indegree[,1:3])"
   ]
  },
  {
   "cell_type": "markdown",
   "metadata": {},
   "source": [
    "Then, to compute the linear model, we use the same design matrix as before."
   ]
  },
  {
   "cell_type": "code",
   "execution_count": null,
   "metadata": {},
   "outputs": [],
   "source": [
    "fitGood = lmFit(indegree,design)\n",
    "fitGood = eBayes(fitGood)\n",
    "tb_degree = topTable(fitGood,coef=\"genderFEMALE\",number=Inf)\n",
    "head(tb_degree)"
   ]
  },
  {
   "cell_type": "markdown",
   "metadata": {},
   "source": [
    "Finally, we rank them by their targeting scores for a follow-up gene enrichment analysis that requires ranks."
   ]
  },
  {
   "cell_type": "code",
   "execution_count": null,
   "metadata": {},
   "outputs": [],
   "source": [
    "indegree_rank <- setNames(object=tb_degree[,\"t\"], rownames(tb_degree))\n",
    "head(indegree_rank)"
   ]
  },
  {
   "cell_type": "markdown",
   "metadata": {
    "lines_to_next_cell": 0
   },
   "source": [
    "# 5. Gene Set Enrichment Analysis\n",
    "We will use the `fgsea` package to perform gene set enrichment analysis. We need to point to a ranked gene list (for example the gene in-degree statistical difference (t value) between males and females), and a list of gene sets (or signatures) in `gmt` format to test for enrichment. The gene sets can be downloaded from MSigDB: http://software.broadinstitute.org/gsea/msigdb Same gene annotation should be used in the ranked gene list and gene sets.\n",
    "\n",
    "## 5.1. Run fgsea"
   ]
  },
  {
   "cell_type": "markdown",
   "metadata": {},
   "source": [
    "Running gene enrichment analysis allows to estimate the patwhays that are enriched for ou list of differentially-targeted genes in femals."
   ]
  },
  {
   "cell_type": "code",
   "execution_count": null,
   "metadata": {
    "message": false,
    "warning": false
   },
   "outputs": [],
   "source": [
    "pathways <- gmtPathways(paste0(ppath,\"c2.cp.kegg.v7.0.symbols.gmt\"))\n",
    "fgseaRes <- fgsea(pathways, indegree_rank, minSize=15, maxSize=500, nperm=1000)\n",
    "head(fgseaRes)"
   ]
  },
  {
   "cell_type": "markdown",
   "metadata": {},
   "source": [
    "We ca subset to pathways with FDR < 0.05"
   ]
  },
  {
   "cell_type": "code",
   "execution_count": null,
   "metadata": {},
   "outputs": [],
   "source": [
    "sig <- fgseaRes[fgseaRes$padj < 0.05,]"
   ]
  },
  {
   "cell_type": "markdown",
   "metadata": {},
   "source": [
    "Then, select the top 10 pathways enriched in females. These are the ones that have a positive normalized enrichment score (NES), because we took the reference group as females."
   ]
  },
  {
   "cell_type": "code",
   "execution_count": null,
   "metadata": {},
   "outputs": [],
   "source": [
    "sig$pathway[sig$NES > 0][1:10]"
   ]
  },
  {
   "cell_type": "markdown",
   "metadata": {},
   "source": [
    "We can also identify the top 10 pathways enriched in males."
   ]
  },
  {
   "cell_type": "code",
   "execution_count": null,
   "metadata": {},
   "outputs": [],
   "source": [
    "sig$pathway[sig$NES < 0][1:10]"
   ]
  },
  {
   "cell_type": "markdown",
   "metadata": {},
   "source": [
    "## 5.2. Bubble plot of differentially targeted pathways by sex\n",
    "To visualize these results in a more meaningful way, we can draw a bubble plot. First, we need to set some general settings."
   ]
  },
  {
   "cell_type": "code",
   "execution_count": null,
   "metadata": {},
   "outputs": [],
   "source": [
    "dat <- data.frame(fgseaRes)\n",
    "# Settings\n",
    "fdrcut <- 0.05 # FDR cut-off to use as output for significant signatures\n",
    "dencol_neg <- \"blue\" # bubble plot color for negative ES\n",
    "dencol_pos <- \"red\" # bubble plot color for positive ES\n",
    "signnamelength <- 4 # set to remove prefix from signature names (2 for \"GO\", 4 for \"KEGG\", 8 for \"REACTOME\")\n",
    "asp <- 3 # aspect ratio of bubble plot\n",
    "charcut <- 100 # cut signature name in heatmap to this nr of characters"
   ]
  },
  {
   "cell_type": "markdown",
   "metadata": {},
   "source": [
    "Then, make signature names more readable."
   ]
  },
  {
   "cell_type": "code",
   "execution_count": null,
   "metadata": {},
   "outputs": [],
   "source": [
    "a <- as.character(dat$pathway) # 'a' is a great variable name to substitute row names with something more readable\n",
    "for (j in 1:length(a)){\n",
    "  a[j] <- substr(a[j], signnamelength+2, nchar(a[j]))\n",
    "}\n",
    "a <- tolower(a) # convert to lower case (you may want to comment this out, it really depends on what signatures you are looking at, c6 signatures contain gene names, and converting those to lower case may be confusing)\n",
    "for (j in 1:length(a)){\n",
    "  if(nchar(a[j])>charcut) { a[j] <- paste(substr(a[j], 1, charcut), \"...\", sep=\" \")}\n",
    "} # cut signature names that have more characters than charcut, and add \"...\"\n",
    "a <- gsub(\"_\", \" \", a)\n",
    "dat$NAME <- a"
   ]
  },
  {
   "cell_type": "markdown",
   "metadata": {},
   "source": [
    "Then determine what signatures to plot (based on FDR cut)"
   ]
  },
  {
   "cell_type": "code",
   "execution_count": null,
   "metadata": {},
   "outputs": [],
   "source": [
    "dat2 <- dat[dat[,\"padj\"]<fdrcut,]\n",
    "dat2 <- dat2[order(dat2[,\"padj\"]),] \n",
    "dat2$signature <- factor(dat2$NAME, rev(as.character(dat2$NAME)))"
   ]
  },
  {
   "cell_type": "markdown",
   "metadata": {},
   "source": [
    "Then determine the labels to color."
   ]
  },
  {
   "cell_type": "code",
   "execution_count": null,
   "metadata": {},
   "outputs": [],
   "source": [
    "sign_neg <- which(dat2[,\"NES\"]<0)\n",
    "sign_pos <- which(dat2[,\"NES\"]>0)"
   ]
  },
  {
   "cell_type": "markdown",
   "metadata": {},
   "source": [
    "And the colors assigned to them."
   ]
  },
  {
   "cell_type": "code",
   "execution_count": null,
   "metadata": {},
   "outputs": [],
   "source": [
    "signcol <- rep(NA, length(dat2$signature))\n",
    "signcol[sign_neg] <- dencol_neg # text color of negative signatures\n",
    "signcol[sign_pos] <- dencol_pos # text color of positive signatures\n",
    "signcol <- rev(signcol) # need to revert vector of colors, because ggplot starts plotting these from below"
   ]
  },
  {
   "cell_type": "markdown",
   "metadata": {},
   "source": [
    "Finally, we can draw the bubble plot."
   ]
  },
  {
   "cell_type": "code",
   "execution_count": null,
   "metadata": {},
   "outputs": [],
   "source": [
    "g<-ggplot(dat2, aes(x=padj,y=signature,size=size))\n",
    "g+geom_point(aes(fill=NES), shape=21, colour=\"white\")+\n",
    "  theme_bw()+ # white background, needs to be placed before the \"signcol\" line\n",
    "  xlim(0,fdrcut)+\n",
    "  scale_size_area(max_size=10,guide=\"none\")+\n",
    "  scale_fill_gradient2(low=dencol_neg, high=dencol_pos)+\n",
    "  theme(axis.text.y = element_text(colour=signcol))+\n",
    "  theme(aspect.ratio=asp, axis.title.y=element_blank()) # test aspect.ratio"
   ]
  },
  {
   "cell_type": "markdown",
   "metadata": {},
   "source": [
    "Bubble plot of gene sets on y-axis and adjusted p-value (padj) on x-axis. Bubble size indicates the number of genes in each gene set, and bubble color indicates the normalized enrichment score (NES). Blue is for negative NES (enrichment of higher targeted genes in males), and red is for positive NES (enrichment of higher targeted genes in females)."
   ]
  },
  {
   "cell_type": "markdown",
   "metadata": {},
   "source": [
    "# References \n",
    "1- Kuijjer, Marieke Lydia, et al. \"Estimating sample-specific regulatory networks.\" Iscience 14 (2019): 226-240.\n",
    "\n",
    "2- Glass, Kimberly, et al. \"Passing messages between biological networks to refine predicted interactions.\" PloS one 8.5 (2013): e64832.\n",
    "\n",
    "3- Tomczak, Katarzyna, Patrycja Czerwińska, and Maciej Wiznerowicz. \"The Cancer Genome Atlas (TCGA): an immeasurable source of knowledge.\" Contemporary oncology 19.1A (2015): A68.\n",
    "\n",
    "4- Weighill, Deborah, et al. \"Gene targeting in disease networks.\" Frontiers in Genetics 12 (2021): 501."
   ]
  }
 ],
 "metadata": {
  "jupytext": {
   "cell_metadata_filter": "warning,message,fig.width,fig.height,tags,-all",
   "main_language": "R",
   "notebook_metadata_filter": "-all"
  },
  "kernelspec": {
   "display_name": "RP1",
   "language": "R",
   "name": "rp1"
  },
  "language_info": {
   "codemirror_mode": "r",
   "file_extension": ".r",
   "mimetype": "text/x-r-source",
   "name": "R",
   "pygments_lexer": "r",
   "version": "4.2.2"
  }
 },
 "nbformat": 4,
 "nbformat_minor": 2
}
